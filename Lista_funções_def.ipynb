{
 "cells": [
  {
   "cell_type": "code",
   "execution_count": 2,
   "id": "e2723942-a7bd-44a5-8aee-297a1abc1660",
   "metadata": {},
   "outputs": [
    {
     "name": "stdout",
     "output_type": "stream",
     "text": [
      "4\n"
     ]
    }
   ],
   "source": [
    "'''\n",
    "1 - faça um programa que tenham uma função chamada area() que receba as dimenções de um terreno retangular(largura e comprimento) \n",
    "e mostre a area do terreno.\n",
    "'''\n",
    "def linha(tam=12):\n",
    "    return ('-='*tam)\n",
    "\n",
    "def area(a,b):\n",
    "    return a * b\n",
    "\n",
    "print(area(2,2))\n"
   ]
  },
  {
   "cell_type": "code",
   "execution_count": 3,
   "id": "fe0c5d9a-de15-4038-a5cc-160e6a3bbe75",
   "metadata": {},
   "outputs": [
    {
     "name": "stdout",
     "output_type": "stream",
     "text": [
      "----------------\n",
      "meu nome e julia\n",
      "----------------\n"
     ]
    }
   ],
   "source": [
    "'''\n",
    "Faça um programa que tenha uma função chamada escreva() que receba um texto qualquer como parametro e mostre uma mensagem com tamanho adaptável.\n",
    "\n",
    "ex: \n",
    "escreva('Olá mundo')\n",
    "\n",
    "saida:\n",
    "-----------------\n",
    "Olá mundo\n",
    "-----------------\n",
    "'''\n",
    "def escreva(txt):\n",
    "    print('-'*len(txt))\n",
    "    print(txt)\n",
    "    print('-'*len(txt))\n",
    "    return\n",
    "\n",
    "escreva('Meu nome é tarcisio')\n"
   ]
  },
  {
   "cell_type": "code",
   "execution_count": 53,
   "id": "1df38143-7a28-4fbf-8291-e3bb368d7c52",
   "metadata": {},
   "outputs": [
    {
     "name": "stdout",
     "output_type": "stream",
     "text": [
      "1 2 3 4 5 6 7 8 9 10 \n",
      "10 8 6 4 2 0 \n",
      "Me informe os valores para o contador:\n"
     ]
    },
    {
     "name": "stdin",
     "output_type": "stream",
     "text": [
      "Inicio 10\n",
      "Fim 100\n",
      "Passo: 10\n"
     ]
    },
    {
     "name": "stdout",
     "output_type": "stream",
     "text": [
      "10 20 30 40 50 60 70 80 90 100 "
     ]
    }
   ],
   "source": [
    "'''\n",
    "Faça um programa que tenha uma função chamada de contador() que receba três paramentros: inicio, fim e passo e realiza a contagem. \n",
    "seu programa tem que realizar três contagens através da função criada.\n",
    "a) De 1 até 10 de 1 em 1 \n",
    "b) De 10 até 0 de 2 em 2 \n",
    "c) Uma contagem personalizada.\n",
    "'''\n",
    "import time\n",
    "\n",
    "def contador(inicio,fim,passo):\n",
    "    if inicio < fim:                    # condição para valores crescentes\n",
    "        if passo==0:\n",
    "            passo=1\n",
    "        while inicio<=fim:\n",
    "            print(f'{inicio} ',end='')\n",
    "            inicio+=passo\n",
    "            time.sleep(0.3)\n",
    "            \n",
    "    elif inicio > fim:\n",
    "        if passo>0:\n",
    "            passo=-passo\n",
    "        if passo==0:\n",
    "            passo=1\n",
    "        while inicio>=fim:\n",
    "            print(f'{inicio} ',end='')\n",
    "            inicio+=passo\n",
    "            time.sleep(0.3)\n",
    "            \n",
    "\n",
    "\n",
    "contador(1,10,1)\n",
    "print('')\n",
    "contador(10,0,2)\n",
    "print('')\n",
    "\n",
    "print('Me informe os valores para o contador:')\n",
    "ini=int(input('Inicio'))\n",
    "f=int(input('Fim'))\n",
    "p=int(input('Passo:'))\n",
    "\n",
    "contador(ini,f,p)"
   ]
  },
  {
   "cell_type": "code",
   "execution_count": 1,
   "id": "8d3e3869-e9d3-4808-9c05-dd0a30ddab02",
   "metadata": {},
   "outputs": [
    {
     "name": "stdout",
     "output_type": "stream",
     "text": [
      "-=-=-=-=-=-=-=-=-=-=-=-=-=-=-=-=-=-=-=-=-=-=-=-=-=\n",
      "Recebi os numeros (2, 9, 4, 5, 7, 1) e o maior é : 9\n",
      "\n"
     ]
    }
   ],
   "source": [
    "\n",
    "# faça um programa que tenha uma função chamada maior() que receba vários parametros como valores inteiros\n",
    "# seu programa tem que analisar todos os valores e dizer qual deles é o maior.\n",
    "\n",
    "\n",
    "def maior(*msg):\n",
    "    print('-='*20)\n",
    "    print(f'Recebi os msgs {msg} e o maior é : {max(msg)}')\n",
    "    print()\n",
    "    \n",
    "\n",
    "maior(2,9,4,5,7,1)\n",
    "\n",
    "\n"
   ]
  },
  {
   "cell_type": "code",
   "execution_count": 4,
   "id": "7d261b14-47f0-4b73-8454-08617ac2ad19",
   "metadata": {},
   "outputs": [
    {
     "name": "stdout",
     "output_type": "stream",
     "text": [
      "Help on function sorteia in module __main__:\n",
      "\n",
      "sorteia(lista)\n",
      "    parametro lista: é uma função de utilização para sortear numeros.\n",
      "\n"
     ]
    }
   ],
   "source": [
    "\n",
    "# faça um programa que tenha uma lista chamada msgs e duas funções chamadas sorteia() e somapar(). \n",
    "# A primeira função vai sortear 5 msgs e vai colocalos dentro de uma lista\n",
    "# e a segunda função vai mostrar a soma entre todos os valores pares e sorteados pela função enteiror \n",
    "\n",
    "\n",
    "from random import randint\n",
    "from time import sleep\n",
    "\n",
    "msgs= list()\n",
    "\n",
    "def sorteia (lista):\n",
    "    '''\n",
    "    parametro lista: é uma função de utilização para sortear msgs.\n",
    "    '''\n",
    "    print('Sorteando 5 valores para lista ...',end='')\n",
    "    for sorteio in range(5):\n",
    "        n=randint(1,10)\n",
    "        lista.append(n)\n",
    "        print(f'{n} ',end='')\n",
    "        sleep(0.3)\n",
    "    print('\\nCONCLUÍDO !')\n",
    "\n",
    "\n",
    "def somapar(lista):\n",
    "    soma= 0\n",
    "    for elemento in lista:\n",
    "        if elemento%2 == 0:\n",
    "            soma+=elemento\n",
    "    print(f'Somando todos os valores pares temos: {soma} ')\n",
    "    \n",
    "\n",
    "\n",
    "\n",
    "help(sorteia)"
   ]
  },
  {
   "cell_type": "code",
   "execution_count": 6,
   "id": "467fb4a6-d8d2-4dbd-8ec4-c3e7d4ada22f",
   "metadata": {},
   "outputs": [
    {
     "name": "stdin",
     "output_type": "stream",
     "text": [
      "Me informe o ano que nasceu 1986\n"
     ]
    },
    {
     "name": "stdout",
     "output_type": "stream",
     "text": [
      "Voto obrigatório\n"
     ]
    }
   ],
   "source": [
    "# 6-Crie um programa que tenha uma função chamda voto() que vai receber como parametro o ano de nascimento de uma pessoas,\n",
    "# retornando um valor literal indicado se uma pessoa tem voto negado, opcional ou obrigatório nas eleições.\n",
    "\n",
    "\n",
    "def voto (ano):\n",
    "    from datetime import date\n",
    "    atual=date.today().year\n",
    "    voto = atual-ano\n",
    "    \n",
    "    if voto<16 :\n",
    "        print('Voto negado')\n",
    "        \n",
    "    if voto>=16 and voto<18 or voto >= 70:\n",
    "        print('Voto opcional')\n",
    "    \n",
    "    if voto>=18 and voto<70 : \n",
    "        print('Voto obrigatório')\n",
    "        \n",
    "        \n",
    "# ========================================== #\n",
    "\n",
    "idade=int(input('Me informe o ano que nasceu ?'))\n",
    "\n",
    "voto(idade)\n"
   ]
  },
  {
   "cell_type": "code",
   "execution_count": 43,
   "id": "ec04671f-95d1-4890-a9af-298ebfe5fe99",
   "metadata": {},
   "outputs": [
    {
     "name": "stdout",
     "output_type": "stream",
     "text": [
      "O valor 10! fatorial é:\n",
      "10.9.8.7.6.5.4.3.2.1 = 3628800"
     ]
    }
   ],
   "source": [
    "# 7- Crie um programa que tenha uma função fatorial que receba dois parametros: o primeiro que indique o msg a calcular\n",
    "# e o outro chamado show que será o valor lógico (opcional) inidicnaod se será mostrado ou não na tela o proceddo de calculo do fatorial.\n",
    "\n",
    "from time import sleep\n",
    "\n",
    "def fatorial (a,b=0):\n",
    "    if b==0:\n",
    "        soma=1\n",
    "        for i in range(1,a+1):\n",
    "            soma*=i\n",
    "        print(f'O valor fatorial do msg {a}! é : {soma}')\n",
    "    if b==1:\n",
    "        soma=1\n",
    "        print(f'O valor {a}! fatorial é:')\n",
    "        for i in range(a,0,-1):\n",
    "            soma*=i\n",
    "            if i != 1:\n",
    "                print(f'{i}.',end='')\n",
    "                sleep(0.3)\n",
    "            else:\n",
    "                print(f'{i} = {soma}',end='')\n",
    "                sleep(0.3)\n",
    "        \n",
    "fatorial(10,1) \n"
   ]
  },
  {
   "cell_type": "code",
   "execution_count": 10,
   "id": "3750f396-b521-4e0a-ac47-7f9c560be0e8",
   "metadata": {},
   "outputs": [
    {
     "name": "stdin",
     "output_type": "stream",
     "text": [
      "Me informe o nome do jogador: Tao\n",
      "A quantidade de gols: 15\n"
     ]
    },
    {
     "name": "stdout",
     "output_type": "stream",
     "text": [
      "-=-=-=-=-=-=-=-=-=-=-=-=-=-=-=-=-=-=-=-=\n",
      "FICHA DO JOGADOR!\n",
      "-=-=-=-=-=-=-=-=-=-=-=-=-=-=-=-=-=-=-=-=\n",
      "O nome do jogador é Tao \n",
      "Saldo de gols no campeonato: 15\n",
      "-=-=-=-=-=-=-=-=-=-=-=-=-=-=-=-=-=-=-=-=\n"
     ]
    }
   ],
   "source": [
    "# 8- Faça um programa que tenha uma função chamada ficha() que receba dois parametros opcionais: o nome de um jogar e quantos gols ele marcou,\n",
    "# o progama deverá ser capaz de mostrar a fica do jogador, mesmo que algum nada não tenha sido informado corretamente. \n",
    "\n",
    "def ficha (a='desconhecido',b=0):\n",
    "    print('-='*20)\n",
    "    print('FICHA DO JOGADOR!')\n",
    "    print('-='*20)\n",
    "    print(f'O nome do jogador é {a} \\nSaldo de gols no campeonato: {b}')\n",
    "    print('-='*20)\n",
    "\n",
    "    \n",
    "nome= input('Me informe o nome do jogador:')\n",
    "gols= input('A quantidade de gols:')\n",
    "\n",
    "ficha(nome,gols)\n"
   ]
  },
  {
   "cell_type": "code",
   "execution_count": 17,
   "id": "f88a0d0a-2fc6-4520-9ab0-9bf0d6accb66",
   "metadata": {},
   "outputs": [
    {
     "name": "stdin",
     "output_type": "stream",
     "text": [
      "Informe o um numero: 10.5\n"
     ]
    },
    {
     "name": "stdout",
     "output_type": "stream",
     "text": [
      "ERRO !!! Informar valores numéricos inteiros ! \n"
     ]
    },
    {
     "name": "stdin",
     "output_type": "stream",
     "text": [
      "Informe o um numero: 4.9\n"
     ]
    },
    {
     "name": "stdout",
     "output_type": "stream",
     "text": [
      "ERRO !!! Informar valores numéricos inteiros ! \n"
     ]
    },
    {
     "name": "stdin",
     "output_type": "stream",
     "text": [
      "Informe o um numero: pí\n"
     ]
    },
    {
     "name": "stdout",
     "output_type": "stream",
     "text": [
      "ERRO !!! Informar valores numéricos inteiros ! \n"
     ]
    },
    {
     "name": "stdin",
     "output_type": "stream",
     "text": [
      "Informe o um numero: 14\n"
     ]
    },
    {
     "name": "stdout",
     "output_type": "stream",
     "text": [
      "O valor informado foi o de 14\n"
     ]
    }
   ],
   "source": [
    "# Crie um program que tenha a função leiaint(), que vai funcionar de forma semelhante a função input() do phyton,\n",
    "# só que fazendo a validação para aceitar apenas valores numérico. \n",
    "\n",
    "def leiaint(msg):\n",
    "    valor= 0\n",
    "    boleano= False\n",
    "    while True:\n",
    "        n=str(input(msg))\n",
    "        if n.isnumeric():                  # função para verificar se uma string tem somente valores numéricos.\n",
    "            valor=int(n)\n",
    "            boleano=True\n",
    "        else:\n",
    "            print('ERRO !!! Informar valores numéricos inteiros ! ') \n",
    "        if boleano:\n",
    "            break\n",
    "            \n",
    "    return valor\n",
    "\n",
    "x= leiaint('Informe o um numero:')\n",
    "\n",
    "print(f'O valor informado foi o de {x}')"
   ]
  },
  {
   "cell_type": "code",
   "execution_count": 1,
   "id": "90b4d5c8-5650-477d-b0fa-bc74c18ce03b",
   "metadata": {},
   "outputs": [
    {
     "name": "stdout",
     "output_type": "stream",
     "text": [
      "{'Quantidade de notas': 5, 'Maior nota': 10, 'Menor nota': 5.7, 'Media Turma': 8.36}\n",
      "Help on function notas in module __main__:\n",
      "\n",
      "notas(*nota, sit=False)\n",
      "    função para analisar várias notas de uma determinada turma. \n",
      "    param nota = São todas as notas dos alunos\n",
      "    param sit =  Inclui qual que a situação da turma no retorno da função se tiver o valor de True.\n",
      "    return o formato do return é em dicionário, com todos os parametros \n",
      "    # - Quantidade de notas\n",
      "    # - A maior nota \n",
      "    # - A menor nota \n",
      "    # - A média da turma\n",
      "    # - A situação(opciona)\n",
      "\n"
     ]
    }
   ],
   "source": [
    "# 10 - Faça um programa que tenha uma função notas() que pode receber várias notas de alunos e vai retornar um dicionario com as seguintes informações: \n",
    "# - Quantidade de notas\n",
    "# - A maior nota \n",
    "# - A menor nota \n",
    "# - A média da turma\n",
    "# - A situação(opcional)\n",
    "# obs: adicione também uma docstring\n",
    "\n",
    "def notas(*nota, sit=False):\n",
    "    '''\n",
    "    função para analisar várias notas de uma determinada turma. \n",
    "    param nota = São todas as notas dos alunos\n",
    "    param sit =  Inclui qual que a situação da turma no retorno da função se tiver o valor de True.\n",
    "    return o formato do return é em dicionário, com todos os parametros \n",
    "    # - Quantidade de notas\n",
    "    # - A maior nota \n",
    "    # - A menor nota \n",
    "    # - A média da turma\n",
    "    # - A situação(opciona)\n",
    "    \n",
    "    '''\n",
    "    dicionario=dict()\n",
    "    dicionario['Quantidade de notas']= len (nota)\n",
    "    dicionario['Maior nota']= max(nota)\n",
    "    dicionario['Menor nota']= min(nota)\n",
    "    dicionario['Media Turma']= round(sum(nota)/len(nota),2)\n",
    "    if sit:\n",
    "        if dicionario['Media Turma']>=7: \n",
    "            dicionario['Situação']= 'Boa'\n",
    "        elif dicionario['Media Turma']>=5:\n",
    "            dicionario['Situação']='Razoável'\n",
    "        else:\n",
    "            dicionario['Situação']='Ruim'\n",
    "\n",
    "    return dicionario\n",
    "\n",
    "resp=notas(5.7,9.6,8.4,8.1,10)\n",
    "\n",
    "print(resp)\n",
    "help(notas)"
   ]
  },
  {
   "cell_type": "code",
   "execution_count": 5,
   "id": "61332047-539a-4e9b-8919-91152a3362b7",
   "metadata": {},
   "outputs": [
    {
     "name": "stdout",
     "output_type": "stream",
     "text": [
      "1  \n",
      "2  2  \n",
      "3  3  3  \n",
      "4  4  4  4  \n",
      "5  5  5  5  5  \n",
      "6  6  6  6  6  6  \n",
      "7  7  7  7  7  7  7  \n",
      "8  8  8  8  8  8  8  8  \n",
      "9  9  9  9  9  9  9  9  9  \n",
      "10  10  10  10  10  10  10  10  10  10  \n"
     ]
    }
   ],
   "source": [
    "# Faça um programa para imprimir:\n",
    "#     1\n",
    "#     2   2\n",
    "#     3   3   3\n",
    "#     .....\n",
    "#     n   n   n   n   n   n  ... n\n",
    "# para um n informado pelo usuário. Use uma função que receba um valor n inteiro e imprima até a n-ésima linha\n",
    "\n",
    "def imprimir(numero):\n",
    "    for i in range(1,numero+1):\n",
    "        print(f'{i}  '*i)\n",
    "\n",
    "imprimir(10)\n"
   ]
  },
  {
   "cell_type": "code",
   "execution_count": 13,
   "id": "b9b28b9a-fe6b-4841-b458-4e6d1f17e186",
   "metadata": {},
   "outputs": [
    {
     "name": "stdout",
     "output_type": "stream",
     "text": [
      "1 \n"
     ]
    }
   ],
   "source": [
    "# Faça um programa para imprimir:\n",
    "#     1\n",
    "#     1   2\n",
    "#     1   2   3\n",
    "#     .....\n",
    "#     1   2   3   ...  n\n",
    "# para um n informado pelo usuário. Use uma função que receba um valor n inteiro imprima até a n-ésima linha.\n",
    "\n",
    "def descrescente_n(numero):\n",
    "    for i in range (1,numero+1):\n",
    "        for x in range(1,i+1):\n",
    "            print(f'{x} ', end='')\n",
    "        print('')            \n",
    "            \n",
    "descrescente_n (1)"
   ]
  },
  {
   "cell_type": "code",
   "execution_count": 16,
   "id": "596522d6-4864-4bbd-807a-24cd1697f275",
   "metadata": {},
   "outputs": [
    {
     "data": {
      "text/plain": [
       "6"
      ]
     },
     "execution_count": 16,
     "metadata": {},
     "output_type": "execute_result"
    }
   ],
   "source": [
    "# Faça um programa, com uma função que necessite de três argumentos, e que forneça a soma desses três argumentos.\n",
    "\n",
    "def soma(a=0,b=0,c=0):\n",
    "    return a+b+c\n",
    "\n",
    "soma(1,2,3)"
   ]
  },
  {
   "cell_type": "code",
   "execution_count": 17,
   "id": "9a7893d0-3600-42b8-8c0d-5f5e06bae265",
   "metadata": {},
   "outputs": [
    {
     "name": "stdout",
     "output_type": "stream",
     "text": [
      "p\n"
     ]
    }
   ],
   "source": [
    "# Faça um programa, com uma função que necessite de um argumento. A função retorna o valor de caractere ‘P’, se seu argumento for positivo, \n",
    "# e ‘N’, se seu argumento for zero ou negativo.\n",
    "\n",
    "def teste_p_n(a):\n",
    "    if a > 0:\n",
    "        return 'p'\n",
    "    if a<=0:\n",
    "        return 'N'\n",
    "print(teste_p_n(10))\n"
   ]
  },
  {
   "cell_type": "code",
   "execution_count": 24,
   "id": "1d5e1282-ad17-4ebc-b272-d3e59f65e96c",
   "metadata": {},
   "outputs": [
    {
     "name": "stdin",
     "output_type": "stream",
     "text": [
      "Me informe a taxa: 20\n",
      "Me informe o custo do produto 200\n"
     ]
    },
    {
     "name": "stdout",
     "output_type": "stream",
     "text": [
      "O custo do produto é 200.0\n",
      "O custo mais as taxas são : 240.0\n"
     ]
    }
   ],
   "source": [
    "# Faça um programa com uma função chamada somaImposto. A função possui dois parâmetros formais: \n",
    "# taxaImposto, que é a quantia de imposto sobre vendas expressa em porcentagem e custo, que é o custo de um item antes do imposto. \n",
    "# A função “altera” o valor de custo para incluir o imposto sobre vendas.\n",
    "\n",
    "def somaImposto(taxaImposto,custo):\n",
    "    print(f'O custo do produto é {custo}')\n",
    "    print(f'O custo mais as taxas são : {taxaImposto*custo+custo}')\n",
    "    \n",
    "    \n",
    "taxa = float(input('Me informe a taxa:'))/100\n",
    "cost = float(input('Me informe o custo do produto'))\n",
    "\n",
    "somaImposto(taxa,cost)\n"
   ]
  },
  {
   "cell_type": "code",
   "execution_count": 14,
   "id": "fe989193-96e9-48e8-ba00-fab70b8c7f8f",
   "metadata": {},
   "outputs": [
    {
     "name": "stdout",
     "output_type": "stream",
     "text": [
      "-=-=-=-=-=-=-=-=-=-=-=-=\n"
     ]
    },
    {
     "name": "stdin",
     "output_type": "stream",
     "text": [
      "Qual é a hora do dia ? 9\n",
      "E quantos minutos ? 53\n"
     ]
    },
    {
     "name": "stdout",
     "output_type": "stream",
     "text": [
      "9:53 A.M.\n",
      "-=-=-=-=-=-=-=-=-=-=-=-=\n"
     ]
    },
    {
     "name": "stdin",
     "output_type": "stream",
     "text": [
      "Deseja continuar ?  não\n"
     ]
    },
    {
     "name": "stdout",
     "output_type": "stream",
     "text": [
      "-=-=-=-=-=-=-=-=-=-=-=-=\n"
     ]
    }
   ],
   "source": [
    "# Faça um programa que converta da notação de 24 horas para a notação de 12 horas. Por exemplo, o programa deve converter 14:25 em 2:25 P.M. \n",
    "# A entrada é dada em dois inteiros. Deve haver pelo menos duas funções: uma para fazer a conversão e uma para a saída. \n",
    "# Registre a informação A.M./P.M. como um valor ‘A’ para A.M. e ‘P’ para P.M. Assim, \n",
    "# a função para efetuar as conversões terá um parâmetro formal para registrar se é A.M. ou P.M. \n",
    "# Inclua um loop que permita que o usuário repita esse cálculo para novos valores de entrada todas as vezes que desejar.\n",
    "\n",
    "\n",
    "def conversor_hora(hora=0,minuto=0):\n",
    "    if hora >= 13: \n",
    "        print(f'{hora%12}:{minuto} P.M.')\n",
    "    elif hora == 24 \n",
    "        print(f'{hora%12}:{minuto} P.M.')\n",
    "    else:\n",
    "        print(f'{hora}:{minuto} A.M.')\n",
    "\n",
    "validação= 0\n",
    "while validação != 'NÃO':\n",
    "    print('-='*12)\n",
    "    hora = int(input('Qual é a hora do dia ?'))\n",
    "    minutos = int(input('E quantos minutos ?'))\n",
    "    conversor_hora(hora,minutos)\n",
    "    print('-='*12)\n",
    "    validação = input('Deseja continuar ? ').upper()\n",
    "    print('-='*12)\n"
   ]
  },
  {
   "cell_type": "code",
   "execution_count": 37,
   "id": "f809e2e3-bd8e-4289-8d9d-df58c15b8bcf",
   "metadata": {},
   "outputs": [
    {
     "name": "stdin",
     "output_type": "stream",
     "text": [
      "Me informe o Valor da prestação: 200\n",
      "Quantos dias de atraso: 0\n"
     ]
    },
    {
     "name": "stdout",
     "output_type": "stream",
     "text": [
      "O valor a ser pago é 200.0\n",
      "\n"
     ]
    },
    {
     "name": "stdin",
     "output_type": "stream",
     "text": [
      "Deseja continuar? sim\n"
     ]
    },
    {
     "name": "stdout",
     "output_type": "stream",
     "text": [
      "\n"
     ]
    },
    {
     "name": "stdin",
     "output_type": "stream",
     "text": [
      "Me informe o Valor da prestação: 500\n",
      "Quantos dias de atraso: 20\n"
     ]
    },
    {
     "name": "stdout",
     "output_type": "stream",
     "text": [
      "O valor a ser pago é 525.0\n",
      "\n"
     ]
    },
    {
     "name": "stdin",
     "output_type": "stream",
     "text": [
      "Deseja continuar? sim\n"
     ]
    },
    {
     "name": "stdout",
     "output_type": "stream",
     "text": [
      "\n"
     ]
    },
    {
     "name": "stdin",
     "output_type": "stream",
     "text": [
      "Me informe o Valor da prestação: 800\n",
      "Quantos dias de atraso: 60\n"
     ]
    },
    {
     "name": "stdout",
     "output_type": "stream",
     "text": [
      "O valor a ser pago é 872.0000000000001\n",
      "\n"
     ]
    },
    {
     "name": "stdin",
     "output_type": "stream",
     "text": [
      "Deseja continuar? não\n"
     ]
    },
    {
     "name": "stdout",
     "output_type": "stream",
     "text": [
      "\n",
      "-=-=-=-=-=-=-=-=-=-=-=-=-=-=-=-=-=-=-=-=\n",
      "RELATÓRIO DO DIA \n",
      "-=-=-=-=-=-=-=-=-=-=-=-=-=-=-=-=-=-=-=-=\n",
      "Quantidade de Prestações pagas:3\n",
      "Valor total pago:1597.0 R$\n",
      "-=-=-=-=-=-=-=-=-=-=-=-=-=-=-=-=-=-=-=-=\n"
     ]
    }
   ],
   "source": [
    "# Faça um programa que use a função valorPagamento para determinar o valor a ser pago por uma prestação de uma conta. \n",
    "# O programa deverá solicitar ao usuário o valor da prestação e o número de dias em atraso e passar estes valores para a função valorPagamento,\n",
    "# que calculará o valor a ser pago e devolverá este valor ao programa que a chamou. O programa deverá então exibir o valor a ser pago na tela.\n",
    "# Após a execução o programa deverá voltar a pedir outro valor de prestação e assim continuar até que seja informado um valor igual a zero para a prestação.\n",
    "# Neste momento o programa deverá ser encerrado, exibindo o relatório do dia, que conterá a quantidade e o valor total de prestações pagas no dia. \n",
    "# O cálculo do valor a ser pago é feito da seguinte forma. Para pagamentos sem atraso, cobrar o valor da prestação. \n",
    "# Quando houver atraso, cobrar 3% de multa, mais 0,1% de juros por dia de atraso.\n",
    "\n",
    "def valorPagamento (prestação,dias=0):\n",
    "    if dias == 0:\n",
    "        return prestação\n",
    "    else: \n",
    "        valor_p = prestação*(1 + 0.03+ 0.001*dias)\n",
    "        return valor_p\n",
    "    \n",
    "relatorio_dia= list()\n",
    "\n",
    "while True:\n",
    "    pagamento = float(input('Me informe o Valor da prestação:'))\n",
    "    dias_atraso = float(input('Quantos dias de atraso:'))\n",
    "    \n",
    "    valor_tax = valorPagamento(pagamento,dias_atraso)\n",
    "    relatorio_dia.append(valor_tax)\n",
    "    \n",
    "    print(f'O valor a ser pago é {valor_tax}')\n",
    "    print('')\n",
    "    \n",
    "    validacao = input('Deseja continuar?').upper()\n",
    "    print('')\n",
    "    if validacao == 'NÃO':\n",
    "        print('-='*20)\n",
    "        print('RELATÓRIO DO DIA ')\n",
    "        print('-='*20)\n",
    "        print(f'Quantidade de prestações pagas: {len(relatorio_dia)}')\n",
    "        print(f'Valor total pago: {sum(relatorio_dia)} R$')\n",
    "        print('-='*20)\n",
    "        \n",
    "        break\n"
   ]
  },
  {
   "cell_type": "code",
   "execution_count": 40,
   "id": "0da9bb1a-0c63-42a4-8eb1-35a99219a9d8",
   "metadata": {},
   "outputs": [
    {
     "name": "stdin",
     "output_type": "stream",
     "text": [
      "Me informe um numero inteiro 200\n"
     ]
    },
    {
     "name": "stdout",
     "output_type": "stream",
     "text": [
      "O numero tem 3 digitos !\n"
     ]
    }
   ],
   "source": [
    "# Faça uma função que informe a quantidade de dígitos de um determinado número inteiro informado.\n",
    "\n",
    "def digitos(txt):\n",
    "    txt = str(txt)\n",
    "    return len(txt)\n",
    "\n",
    "numero = int(input('Me informe um numero inteiro'))\n",
    "print(f'O numero tem {digitos(numero)} digitos !')\n"
   ]
  },
  {
   "cell_type": "code",
   "execution_count": 2,
   "id": "591519b0-7198-4d3d-92dd-cc34b1690c6e",
   "metadata": {},
   "outputs": [
    {
     "name": "stdin",
     "output_type": "stream",
     "text": [
      " 1223\n"
     ]
    },
    {
     "name": "stdout",
     "output_type": "stream",
     "text": [
      "O valor invetido da questão é 3221\n"
     ]
    }
   ],
   "source": [
    "# Reverso do número. Faça uma função que retorne o reverso de um número inteiro informado. Por exemplo: 127 -> 721.\n",
    "\n",
    "def invertido(numero):\n",
    "    numero= str(numero)\n",
    "    return numero[::-1]   # quebra a string e faz com que retorne a string invertida\n",
    "    \n",
    "\n",
    "numero1= int(input())\n",
    "print(f'O valor invetido da questão é {invertido(numero1)}')"
   ]
  },
  {
   "cell_type": "code",
   "execution_count": 23,
   "id": "6f3ed137-35a5-46a2-8b2f-61454f64c240",
   "metadata": {},
   "outputs": [
    {
     "name": "stdout",
     "output_type": "stream",
     "text": [
      "Primeira tentativa: 2\n",
      "Segunda tentativa: 6\n",
      "A soma dos dados : 8\n",
      "-=-=-=-=-=-=-=-=-=-=-=-=-=-=-=-=-=-=-=-=\n",
      "Seu ponto agora é 8, tire essa valor novamente na soma dos dados para ganhar \n",
      "-=-=-=-=-=-=-=-=-=-=-=-=-=-=-=-=-=-=-=-=\n",
      "Primeira tentativa: 6\n",
      "Segunda tentativa: 6\n",
      "A soma dos dados : 12\n",
      "-=-=-=-=-=-=-=-=-=-=-=-=-=-=-=-=-=-=-=-=\n",
      "Primeira tentativa: 2\n",
      "Segunda tentativa: 5\n",
      "A soma dos dados : 7\n",
      "-=-=-=-=-=-=-=-=-=-=-=-=-=-=-=-=-=-=-=-=\n",
      "Você perdeu :(\n"
     ]
    }
   ],
   "source": [
    "'''\n",
    "Jogo de Craps. Faça um programa de implemente um jogo de Craps. O jogador lança um par de dados, obtendo um valor entre 2 e 12.\n",
    "Se, na primeira jogada, você tirar 7 ou 11, você um \"natural\" e ganhou. Se você tirar 2, 3 ou 12 na primeira jogada, isto é chamado de \"craps\" e você perdeu.\n",
    "Se, na primeira jogada, você fez um 4, 5, 6, 8, 9 ou 10,este é seu \"Ponto\".\n",
    "Seu objetivo agora é continuar jogando os dados até tirar este número novamente.\n",
    "Você perde, no entanto, se tirar um 7 antes de tirar este Ponto novamente.\n",
    "'''\n",
    "from random import randint\n",
    "from time import sleep\n",
    "\n",
    "def craps():\n",
    "        dado_1= randint(1,6)\n",
    "        dado_2= randint(1,6)\n",
    "        print(f'Primeira tentativa: {dado_1}')\n",
    "        sleep(1)\n",
    "        print(f'Segunda tentativa: {dado_2}')\n",
    "        sleep(1)\n",
    "        soma = dado_2 + dado_1\n",
    "        sleep(1)\n",
    "        print(f'A soma dos dados : {soma}')\n",
    "        print('-='*20)\n",
    "        if soma == 7 or soma == 11:\n",
    "            sleep(1)\n",
    "            print(f'Você venceu !')\n",
    "        elif soma == 2 or soma == 3 or soma == 12:\n",
    "            sleep(1)\n",
    "            print('Você perdeu :(')\n",
    "        else:\n",
    "            ponto = soma\n",
    "            print(f'Seu ponto agora é {ponto}, tire essa valor novamente na soma dos dados para ganhar ')\n",
    "            print('-='*20)\n",
    "            while True:\n",
    "                dado_1= randint(1,6)\n",
    "                dado_2= randint(1,6)\n",
    "                print(f'Primeira tentativa: {dado_1}')\n",
    "                sleep(1)\n",
    "                print(f'Segunda tentativa: {dado_2}')\n",
    "                soma = dado_2 + dado_1\n",
    "                sleep(1)\n",
    "                print(f'A soma dos dados : {soma}')\n",
    "                print('-='*20)\n",
    "                if soma == 7:\n",
    "                    print(f'Você perdeu :(')\n",
    "                    break\n",
    "                elif soma == ponto:\n",
    "                    print(f'Você venceu !!!')\n",
    "                    break\n",
    "                else: \n",
    "                    continue\n",
    "    \n",
    "craps()"
   ]
  },
  {
   "cell_type": "code",
   "execution_count": 29,
   "id": "1d07f2d4-f4c2-4c05-9093-6b424f9cf33f",
   "metadata": {},
   "outputs": [
    {
     "name": "stdin",
     "output_type": "stream",
     "text": [
      "informe a data no fortato DD/MM/AAAA: 12/12/2012\n"
     ]
    },
    {
     "name": "stdout",
     "output_type": "stream",
     "text": [
      "12 de Dezembro de 2012 \n"
     ]
    }
   ],
   "source": [
    "# Data com mês por extenso. Construa uma função que receba uma data no formato DD/MM/AAAA e devolva uma string no formato D de mesPorExtenso de AAAA.\n",
    "# Opcionalmente, valide a data e retorne NULL caso a data seja inválida.\n",
    "\n",
    "def data_por_ext (texto):\n",
    "    lista = texto.split('/')\n",
    "    indice = int(lista[1])-1\n",
    "    lista_mes = ['janeiro','Fevereito','Março', 'Abril', 'Maio', 'Junho', 'Julho', 'Agosto','Setembro','Outubro','Novembro','Dezembro']\n",
    "    \n",
    "    return f'{lista[0]} de {lista_mes[indice]} de {lista[2]}'\n",
    "    \n",
    "data = input('informe a data no fortato DD/MM/AAAA:')\n",
    "\n",
    "print(data_por_ext (data))\n",
    "\n",
    "\n",
    "\n"
   ]
  },
  {
   "cell_type": "code",
   "execution_count": 229,
   "id": "7e0bc566-f22c-4b8e-a606-333182a8bfb8",
   "metadata": {},
   "outputs": [
    {
     "name": "stdout",
     "output_type": "stream",
     "text": [
      "alura"
     ]
    }
   ],
   "source": [
    "# Embaralha palavra. Construa uma função que receba uma string como parâmetro e devolva outra string com os carateres embaralhados.\n",
    "# Por exemplo: se função receber a palavra python, pode retornar npthyo, ophtyn ou qualquer outra combinação possível, de forma aleatória.\n",
    "# Padronize em sua função que todos os caracteres serão devolvidos em caixa alta ou caixa baixa, independentemente de como foram digitados.\n",
    "\n",
    "from random import randint\n",
    "from random import sample\n",
    "\n",
    "\n",
    "def embaralhado (nome):\n",
    "    lista = list()\n",
    "    for i in range (len(nome)):\n",
    "        lista.append(nome[i])    \n",
    "    aleatorio = sample(range(0,len(lista)),len(lista))  # colocar numeros aleatorio dentro de uma lista sample (range(), 5)\n",
    "    for x in aleatorio:\n",
    "        print(f'{lista[x]}', end = '')\n",
    "\n",
    "x = input(infor)'laura'\n",
    "\n",
    "embaralhado(x)\n",
    "        "
   ]
  },
  {
   "cell_type": "code",
   "execution_count": 65,
   "id": "08008304-c65f-4c23-84c6-a2f735eb7312",
   "metadata": {},
   "outputs": [
    {
     "name": "stdin",
     "output_type": "stream",
     "text": [
      "Tanho Lado 1: 26\n",
      "Tanho Lado 2: 30\n",
      "O valor maximo de lado 1 é 20, favor digitar um numero válido 6\n",
      "O valor maximo de lado 2 é 20, favor digitar um numero válido 10\n"
     ]
    },
    {
     "name": "stdout",
     "output_type": "stream",
     "text": [
      "+------------+\n",
      "|            |\n",
      "|            |\n",
      "|            |\n",
      "|            |\n",
      "|            |\n",
      "|            |\n",
      "|            |\n",
      "|            |\n",
      "|            |\n",
      "|            |\n",
      "+------------+\n"
     ]
    }
   ],
   "source": [
    "#  Desenha moldura. Construa uma função que desenhe um retângulo usando os caracteres ‘+’ , ‘−’ e ‘| ‘.\n",
    "#  Esta função deve receber dois parâmetros, linhas e colunas, sendo que o valor por omissão é o valor mínimo igual a 1 e o valor máximo é 20\n",
    "#  .Se valores fora da faixa forem informados, eles devem ser modificados para valores dentro da faixa de forma elegante.\n",
    "\n",
    "def moldura(a=1,b=1):\n",
    "    while a >= 20:\n",
    "        a = int(input('O valor maximo de lado 1 é 20, favor digitar um numero válido'))\n",
    "    while b >= 20:\n",
    "        b = int(input('O valor maximo de lado 2 é 20, favor digitar um numero válido'))\n",
    "    \n",
    "    print('+', end = '')\n",
    "    print('-'*2*a,end = '')\n",
    "    print('+')\n",
    "    \n",
    "    tamanho = 2*a\n",
    "    for i in range (b):\n",
    "        print('|'+ ' '*tamanho+'|')\n",
    "        \n",
    "    \n",
    "    print('+', end = '')\n",
    "    print('-'*2*a,end = '')\n",
    "    print('+')\n",
    "    \n",
    "x = int(input('Tamanho Lado 1:'))\n",
    "y = int(input('Tamanho Lado 2:'))\n",
    "\n",
    "moldura(x,y)\n"
   ]
  },
  {
   "cell_type": "code",
   "execution_count": 22,
   "id": "b8afaf35-2aba-40b8-bd16-8a30f1038f04",
   "metadata": {},
   "outputs": [
    {
     "name": "stdout",
     "output_type": "stream",
     "text": [
      "[[2, 7, 6], [9, 5, 1], [4, 3, 8]]\n"
     ]
    }
   ],
   "source": [
    "# Quadrado mágico. Um quadrado mágico é aquele dividido em linhas e colunas, com um número em cada posição e no qual a soma das linhas, colunas e diagonais é a mesma.\n",
    "# Por exemplo, veja um quadrado mágico de lado 3, com números de 1 a 9:\n",
    "# 8  3  4 \n",
    "# 1  5  9\n",
    "# 6  7  2\n",
    "# Elabore uma função que identifica e mostra na tela todos os quadrados mágicos com as características acima.\n",
    "# Dica: produza todas as combinações possíveis e verifique a soma quando completar cada quadrado. \n",
    "# Usar um vetor de 1 a 9 parece ser mais simples que usar uma matriz 3x3.\n",
    "\n",
    "import random\n",
    "\n",
    "# VALIDANDO SE O QUADRADO É MAGICO\n",
    "def quadradoMagico ():\n",
    "    global res\n",
    "    if matriz[0][0]+matriz[0][1]+matriz[0][2] == matriz[1][0]+matriz[1][1]+matriz[1][2] == matriz[2][0]+matriz[2][1]+matriz[2][2] == matriz[0][0]+matriz[1][0]+matriz[2][0] == matriz[0][1]+matriz[1][1]+matriz[2][1] == matriz[0][1]+matriz[1][1]+matriz[2][1] == matriz[0][0]+matriz[1][1]+matriz[2][2] == matriz[0][2]+matriz[1][1]+matriz[2][0]:\n",
    "        res = True\n",
    "    else:\n",
    "        res = False\n",
    "    return res\n",
    "\n",
    "\n",
    "matriz = [[1,2,3],\n",
    "          [4,5,6],\n",
    "          [7,8,9]]\n",
    "res = False\n",
    "\n",
    "while res == False:\n",
    "    vetor = [1,2,3,4,5,6,7,8,9] \n",
    "    for i in range(3):\n",
    "        for j in range(3):\n",
    "            elemento = random.choice(vetor) \n",
    "            matriz[i][j] = elemento \n",
    "            \n",
    "            pos= vetor.index(elemento)\n",
    "            vetor = vetor[:pos] + vetor[pos+1:]\n",
    "    quadradoMagico()\n",
    "\n",
    "print(matriz)\n"
   ]
  },
  {
   "cell_type": "code",
   "execution_count": 4,
   "id": "965618e9-1c36-4f66-96d9-c9dc91986479",
   "metadata": {},
   "outputs": [
    {
     "name": "stdout",
     "output_type": "stream",
     "text": [
      "[1, 3, 4, 5, 6, 7, 8, 9]\n"
     ]
    }
   ],
   "source": [
    "vetor = [1,2,3,4,5,6,7,8,9]\n",
    "pos = 1\n",
    "\n",
    "vetor = vetor[:pos] + vetor[pos+1:]\n",
    "\n",
    "\n",
    "print(vetor)"
   ]
  },
  {
   "cell_type": "code",
   "execution_count": 5,
   "id": "fec655fa-968e-4d26-80b2-4d0fa47ba75d",
   "metadata": {},
   "outputs": [
    {
     "name": "stdout",
     "output_type": "stream",
     "text": [
      "Calculando o fatorial de 4\n",
      "Calculando o fatorial de 3\n",
      "Calculando o fatorial de 2\n",
      "Calculando o fatorial de 1\n",
      "Fatorial de 1 = 1\n",
      " fatorial de 2 = 2\n",
      " fatorial de 3 = 6\n",
      " fatorial de 4 = 24\n"
     ]
    },
    {
     "data": {
      "text/plain": [
       "24"
      ]
     },
     "execution_count": 5,
     "metadata": {},
     "output_type": "execute_result"
    }
   ],
   "source": [
    "def fatorial(n):\n",
    "    print(\"Calculando o fatorial de %d\" % n)\n",
    "    if n==0 or n == 1:\n",
    "        print(\"Fatorial de %d = 1\" % n)\n",
    "        return 1\n",
    "    else:\n",
    "        fat = n*fatorial(n-1)\n",
    "        print(\" fatorial de %d = %d\" % (n, fat) )\n",
    "        return fat\n",
    "    \n",
    "fatorial(4)"
   ]
  }
 ],
 "metadata": {
  "kernelspec": {
   "display_name": "Python 3 (ipykernel)",
   "language": "python",
   "name": "python3"
  },
  "language_info": {
   "codemirror_mode": {
    "name": "ipython",
    "version": 3
   },
   "file_extension": ".py",
   "mimetype": "text/x-python",
   "name": "python",
   "nbconvert_exporter": "python",
   "pygments_lexer": "ipython3",
   "version": "3.11.5"
  }
 },
 "nbformat": 4,
 "nbformat_minor": 5
}
