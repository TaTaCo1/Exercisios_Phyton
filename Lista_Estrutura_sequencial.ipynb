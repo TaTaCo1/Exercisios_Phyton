{
 "cells": [
  {
   "cell_type": "code",
   "execution_count": 4,
   "id": "715cee20-0f63-4b47-ad99-a5982c1f949f",
   "metadata": {},
   "outputs": [],
   "source": [
    "\n",
    "# bloco de codigos referentes as lições do portal https://wiki.python.org.br/EstruturaSequencial\n"
   ]
  },
  {
   "cell_type": "code",
   "execution_count": 3,
   "id": "13b24db1-88a2-4f73-b943-1d238979b4b9",
   "metadata": {},
   "outputs": [
    {
     "name": "stdout",
     "output_type": "stream",
     "text": [
      "hellow world\n"
     ]
    }
   ],
   "source": [
    "# Faça um Programa que mostre a mensagem \"Alo mundo\" na tela.\n",
    "\n",
    "print('hellow world')\n"
   ]
  },
  {
   "cell_type": "code",
   "execution_count": 7,
   "id": "b2d9413d-fd14-4d9b-9884-f16b260e75fb",
   "metadata": {},
   "outputs": [
    {
     "name": "stdin",
     "output_type": "stream",
     "text": [
      " 2\n"
     ]
    },
    {
     "name": "stdout",
     "output_type": "stream",
     "text": [
      "o numero informado foi  2\n"
     ]
    }
   ],
   "source": [
    "# Faça um Programa que peça um número e então mostre a mensagem O número informado foi [número].\n",
    "\n",
    "x=input()\n",
    "\n",
    "print('o numero informado foi ',x)"
   ]
  },
  {
   "cell_type": "code",
   "execution_count": null,
   "id": "1c3518fd-ad32-4c21-8170-9890cebcceae",
   "metadata": {},
   "outputs": [
    {
     "name": "stdin",
     "output_type": "stream",
     "text": [
      " 1\n"
     ]
    }
   ],
   "source": [
    "#Faça um Programa que peça dois números e imprima a soma.\n",
    "z = input()\n",
    "t = input ()\n",
    "\n",
    "z= float(z)\n",
    "t= float(t)\n",
    "\n",
    "soma= z+t\n",
    "\n",
    "print(soma)"
   ]
  },
  {
   "cell_type": "code",
   "execution_count": 2,
   "id": "6bcd6419-9c26-41ca-9353-1bf6ecffa3bf",
   "metadata": {},
   "outputs": [
    {
     "name": "stdin",
     "output_type": "stream",
     "text": [
      " 7\n",
      " 8\n",
      " 9\n",
      " 10\n"
     ]
    },
    {
     "name": "stdout",
     "output_type": "stream",
     "text": [
      "a média do aluno é 8.5\n"
     ]
    }
   ],
   "source": [
    "#Faça um Programa que peça as 4 notas bimestrais e mostre a média.\n",
    "\n",
    "nota1= input()\n",
    "nota2= input() \n",
    "nota3= input() \n",
    "nota4= input()\n",
    "\n",
    "nota1= float(nota1)\n",
    "nota2= float(nota2)\n",
    "nota3= float(nota3)\n",
    "nota4= float(nota4)\n",
    "\n",
    "media1=((nota1+nota2+nota3+nota4)/4)\n",
    "\n",
    "print('a média do aluno é', media1)\n"
   ]
  },
  {
   "cell_type": "code",
   "execution_count": 6,
   "id": "97f4af19-a191-400e-89c8-1681ecb72e16",
   "metadata": {},
   "outputs": [
    {
     "name": "stdin",
     "output_type": "stream",
     "text": [
      " 1\n"
     ]
    },
    {
     "name": "stdout",
     "output_type": "stream",
     "text": [
      "o valor convertido é 100.0 centímetros\n"
     ]
    }
   ],
   "source": [
    "#Faça um Programa que converta metros para centímetros.\n",
    "\n",
    "metros1= input()\n",
    "\n",
    "metros1= float(metros1)\n",
    "\n",
    "centimetros1= metros1*100\n",
    "\n",
    "print('o valor convertido é',centimetros1,'centímetros')\n"
   ]
  },
  {
   "cell_type": "code",
   "execution_count": 19,
   "id": "046d9f9e-f09a-4451-b044-088bcaa13680",
   "metadata": {},
   "outputs": [
    {
     "name": "stdin",
     "output_type": "stream",
     "text": [
      " 2\n"
     ]
    },
    {
     "name": "stdout",
     "output_type": "stream",
     "text": [
      " o valor da área é: 12.56\n"
     ]
    }
   ],
   "source": [
    "#Faça um Programa que peça o raio de um círculo, calcule e mostre sua área.\n",
    "\n",
    "raio1=input()\n",
    "raio1=float(raio1)\n",
    "\n",
    "raio= (raio1*raio1)\n",
    "pi= 3.14 #sempre usar onto como separador de numeros.\n",
    "\n",
    "area= raio*pi\n",
    "\n",
    "print( ' o valor da área é:',area)\n"
   ]
  },
  {
   "cell_type": "code",
   "execution_count": 21,
   "id": "ccc30811-bc49-4738-84e6-f9d2bf94a4fa",
   "metadata": {},
   "outputs": [
    {
     "name": "stdout",
     "output_type": "stream",
     "text": [
      " o valor da área é  16 para um lado 4 e o dobro da área é 32\n"
     ]
    }
   ],
   "source": [
    "#Faça um Programa que calcule a área de um quadrado, em seguida mostre o dobro desta área para o usuário.\n",
    "\n",
    "lado= 4 \n",
    "\n",
    "area= lado*lado\n",
    "\n",
    "dobro= 2*area\n",
    "\n",
    "print(' o valor da área é ',area, 'para um lado',lado,'e o dobro da área é',dobro)\n"
   ]
  },
  {
   "cell_type": "code",
   "execution_count": 28,
   "id": "ccc959d3-d522-4059-ae56-c6c88215d274",
   "metadata": {},
   "outputs": [
    {
     "name": "stdin",
     "output_type": "stream",
     "text": [
      "informe o valor de horas trabalhadas 180\n",
      "informe o valor do quanto recebe por hora 11.5\n"
     ]
    },
    {
     "name": "stdout",
     "output_type": "stream",
     "text": [
      " o salário referente ao mês é 2070.0\n"
     ]
    }
   ],
   "source": [
    "# Faça um Programa que pergunte quanto você ganha por hora e o número de horas trabalhadas no mês. \n",
    "# Calcule e mostre o total do seu salário no referido mês.\n",
    "\n",
    "horas_trabalhada= input('informe o valor de horas trabalhadas')\n",
    "salario_hora= input('informe o valor do quanto recebe por hora')\n",
    "\n",
    "horas_trabalhada= float(horas_trabalhada)\n",
    "salario_hora= float(salario_hora)\n",
    "\n",
    "salariomensal= horas_trabalhada*salario_hora\n",
    "\n",
    "print(' o salário referente ao mês é', salariomensal)"
   ]
  },
  {
   "cell_type": "code",
   "execution_count": 32,
   "id": "24d7947e-44ae-4912-a576-b01c450f49a2",
   "metadata": {},
   "outputs": [
    {
     "name": "stdin",
     "output_type": "stream",
     "text": [
      " 32\n"
     ]
    },
    {
     "name": "stdout",
     "output_type": "stream",
     "text": [
      "a temperatura em graus Celsius é 0.0\n"
     ]
    }
   ],
   "source": [
    "#Faça um Programa que peça a temperatura em graus Fahrenheit, transforme e mostre a temperatura em graus Celsius.\n",
    "\n",
    "F= input()\n",
    "F= float(F)\n",
    "\n",
    "ConverC= 5*((F-32)/9)\n",
    "\n",
    "print('a temperatura em graus Celsius é',ConverC)\n",
    "\n"
   ]
  },
  {
   "cell_type": "code",
   "execution_count": 34,
   "id": "54c9dec3-1eb2-407c-a87b-50a1c8954eb4",
   "metadata": {},
   "outputs": [
    {
     "name": "stdin",
     "output_type": "stream",
     "text": [
      " 32\n"
     ]
    },
    {
     "name": "stdout",
     "output_type": "stream",
     "text": [
      "a temperatura em graus Fahrenheit é  89.6\n"
     ]
    }
   ],
   "source": [
    "# Faça um Programa que peça a temperatura em graus Celsius, transforme e mostre em graus Fahrenheit.\n",
    "\n",
    "C= input()\n",
    "C= float(C)\n",
    "\n",
    "ConvertF= (C*9/5)+32\n",
    "\n",
    "print('a temperatura em graus Fahrenheit é ', ConvertF)\n"
   ]
  },
  {
   "cell_type": "code",
   "execution_count": 20,
   "id": "f96e3c0f-e4b3-4ff3-b763-4be584aba4db",
   "metadata": {},
   "outputs": [
    {
     "name": "stdin",
     "output_type": "stream",
     "text": [
      " 1\n",
      " 2\n",
      " 3\n"
     ]
    },
    {
     "name": "stdout",
     "output_type": "stream",
     "text": [
      "3.0\n",
      "6.0\n",
      "27.0\n"
     ]
    }
   ],
   "source": [
    "#Faça um Programa que peça 2 números inteiros e um número real. Calcule e mostre:\n",
    "#o produto do dobro do primeiro com metade do segundo .\n",
    "#a soma do triplo do primeiro com o terceiro.\n",
    "#o terceiro elevado ao cubo.\n",
    "\n",
    "Primeiro= input()\n",
    "Segundo= input()\n",
    "Terceiro= input()\n",
    "\n",
    "Primeiro= int(Primeiro) \n",
    "Segundo= int(Segundo)\n",
    "Terceiro= float(Terceiro)\n",
    "\n",
    "\n",
    "print((Primeiro*2) + (Segundo/2))\n",
    "\n",
    "print((Primeiro*3)+Terceiro)\n",
    "\n",
    "print((Terceiro*Terceiro*Terceiro))\n",
    "\n",
    "\n"
   ]
  },
  {
   "cell_type": "code",
   "execution_count": 27,
   "id": "1262a287-c437-4bec-bd44-24984fb034f5",
   "metadata": {},
   "outputs": [
    {
     "name": "stdin",
     "output_type": "stream",
     "text": [
      "Me infome a sua altura: 1.72\n"
     ]
    },
    {
     "name": "stdout",
     "output_type": "stream",
     "text": [
      "Seu peso ideal é : 67.044\n"
     ]
    }
   ],
   "source": [
    "#Tendo como dados de entrada a altura de uma pessoa,\n",
    "#construa um algoritmo que calcule seu peso ideal, usando a seguinte fórmula: (72.7*altura) - 58\n",
    "\n",
    "Altura=input('Me infome a sua altura:')\n",
    "\n",
    "Altura= float(Altura)\n",
    "\n",
    "Peso= (72.7*Altura)-58\n",
    "\n",
    "print('Seu peso ideal é :', Peso)\n",
    "\n",
    "\n"
   ]
  },
  {
   "cell_type": "code",
   "execution_count": 34,
   "id": "76fa8908-2bbe-485d-a51f-93406e093bfa",
   "metadata": {},
   "outputs": [
    {
     "name": "stdin",
     "output_type": "stream",
     "text": [
      "Coloque os peso total de peixes 50\n"
     ]
    },
    {
     "name": "stdout",
     "output_type": "stream",
     "text": [
      " você não precisa pagar nenhum imposto\n"
     ]
    }
   ],
   "source": [
    "#João Papo-de-Pescador, homem de bem, comprou um microcomputador para controlar o rendimento diário de seu trabalho. \n",
    "#Toda vez que ele traz um peso de peixes maior que o estabelecido pelo regulamento de pesca do estado de\n",
    "#São Paulo (50 quilos) deve pagar uma multa de R$ 4,00 por quilo excedente. João precisa que você faça um programa que \n",
    "#leia a variável peso (peso de peixes) e calcule o excesso. Gravar na variável excesso a quantidade de quilos \n",
    "#além do limite e na variável multa o valor da multa que João deverá pagar. Imprima os dados do programa com as \n",
    "#mensagens adequadas.\n",
    "\n",
    "Peso=input('Coloque os peso total de peixes')\n",
    "Peso=int(Peso)\n",
    "\n",
    "if Peso<=50:\n",
    "    print( ' você não precisa pagar nenhum imposto')\n",
    "\n",
    "else:\n",
    "    Multa= (Peso-50)*4\n",
    "    print( ' você vai pagar de multa',Multa)\n"
   ]
  },
  {
   "cell_type": "code",
   "execution_count": 42,
   "id": "d53686f0-2e6e-4cc7-af3b-5607e4ba73e6",
   "metadata": {},
   "outputs": [
    {
     "name": "stdin",
     "output_type": "stream",
     "text": [
      "Me informe a quantidade de horas trabalhada no mêz 180\n",
      "Me informa o valor da sua hora de trabalho 10\n"
     ]
    },
    {
     "name": "stdout",
     "output_type": "stream",
     "text": [
      "Seu salário bruto 1800.0\n",
      "Você pagou ao Imposto de renda: 198.0\n",
      "Você pagou ao INSS: 144.0\n",
      "Você pagou ao sindicato: 90.0\n",
      "Seu salário liquido é no valor de: 1368.0\n",
      "+Salário Bruto : R$ 1800.0 \n",
      "-IR(11%): 198.0 \n",
      "-INSS(8%): 144.0 \n",
      "-Sindicato(5%) 90.0 \n",
      "Salário Liquido: 1368.0\n"
     ]
    }
   ],
   "source": [
    "#Faça um Programa que pergunte quanto você ganha por hora e o número de horas trabalhadas no mês. Calcule e mostre \n",
    "#o total do seu salário no referido mês, sabendo-se que são descontados 11% para o Imposto de Renda, 8% para o INSS \n",
    "# e 5% para o sindicato, faça um programa que nos dê\n",
    "#salário bruto.\n",
    "#quanto pagou ao INSS.\n",
    "#quanto pagou ao sindicato.\n",
    "#o salário líquido.\n",
    "\n",
    "Hora_trabalhada= input('Me informe a quantidade de horas trabalhada no mêz') \n",
    "Hora_trabalhada= float(Hora_trabalhada)\n",
    "Salario_hora= input('Me informa o valor da sua hora de trabalho')\n",
    "Salario_hora= float(Salario_hora)\n",
    "\n",
    "Salario_bruto= Hora_trabalhada*Salario_hora\n",
    "print('Seu salário bruto',Salario_bruto) \n",
    "\n",
    "Imposto_renda= 0.11*Salario_bruto\n",
    "print('Você pagou ao Imposto de renda:', Imposto_renda)\n",
    "\n",
    "Inss= 0.08*Salario_bruto\n",
    "print('Você pagou ao INSS:',Inss)\n",
    "\n",
    "Sindicato= 0.05*Salario_bruto\n",
    "print('Você pagou ao sindicato:',Sindicato)\n",
    "\n",
    "Salario_liquido= Salario_bruto - Imposto_renda - Inss - Sindicato\n",
    "print('Seu salário liquido é no valor de:',Salario_liquido)\n",
    "\n",
    "print('+Salário Bruto : R$',Salario_bruto,'\\n-IR(11%):',Imposto_renda,'\\n-INSS(8%):',Inss,'\\n-Sindicato(5%)',Sindicato,'\\nSalário Liquido:',Salario_liquido)\n",
    "\n",
    "\n"
   ]
  },
  {
   "cell_type": "code",
   "execution_count": 2,
   "id": "ead5b6e5-c4ae-49c5-bafc-dbd2dfa8238a",
   "metadata": {},
   "outputs": [
    {
     "name": "stdin",
     "output_type": "stream",
     "text": [
      "quantos metros quadrados você vai precisar de tinta. 3600\n"
     ]
    },
    {
     "name": "stdout",
     "output_type": "stream",
     "text": [
      "Preço em galões de 18 litros: 2640 \n",
      "Quantidade de galões 33\n",
      "Preço em galões de 3,6 litros 4150 \n",
      "Quantidade de galões 166\n",
      "Galões de 18 litros 36 \n",
      "galões de 3,6 litros 3 \n",
      " Valor total a ser pago 2955\n"
     ]
    }
   ],
   "source": [
    "# Questão 17 \n",
    "# Latas 18=80 reais \n",
    "# Latas3,6= 25 reais \n",
    "\n",
    "Metros= input('quantos metros quadrados você vai precisar de tinta.')\n",
    "Metros= float(Metros)\n",
    "\n",
    "Litros_necessarios= Metros/6\n",
    "\n",
    "Latas18= Litros_necessarios/18\n",
    "Latas18= int(Latas18)\n",
    "Valor18= Latas18*80\n",
    "print ( 'Preço em galões de 18 litros:',Valor18,'\\nQuantidade de galões',Latas18)\n",
    "\n",
    "Latas3=Litros_necessarios/3.6\n",
    "Latas3=int(Latas3)\n",
    "Valor3=Latas3*25\n",
    "print ('Preço em galões de 3,6 litros',Valor3,'\\nQuantidade de galões',Latas3)\n",
    "\n",
    "\n",
    "Litros_necessarios1= Litros_necessarios*1.1#litros necessários para a pintura mais 10 porcento. \n",
    "\n",
    "import math\n",
    "\n",
    "Juntos18= Litros_necessarios1/18\n",
    "Latasjuntos18 = math.floor(Juntos18)# Aredondar o valor para baixo. \n",
    "Valorjuntos18 = Latasjuntos18*80\n",
    "Resto18 = Litros_necessarios1 % 18 # resto dos litros necessários.\n",
    "\n",
    "Juntos3 =  Resto18 / 3.6 #quantidade de latas 3,6\n",
    "Latasjuntos3= int(Juntos3)\n",
    "Valorjuntos3= Latasjuntos3*25 #valor a ser pago no galão de 3,6\n",
    "\n",
    "Total= Valorjuntos18+Valorjuntos3\n",
    "\n",
    "print('Galões de 18 litros',Latasjuntos18,'\\ngalões de 3,6 litros',Latasjuntos3,'\\n Valor total a ser pago',Total)"
   ]
  },
  {
   "cell_type": "code",
   "execution_count": null,
   "id": "9a11e8b3-8cc0-4133-8d41-90a2d2909b9b",
   "metadata": {},
   "outputs": [],
   "source": []
  }
 ],
 "metadata": {
  "kernelspec": {
   "display_name": "Python 3 (ipykernel)",
   "language": "python",
   "name": "python3"
  },
  "language_info": {
   "codemirror_mode": {
    "name": "ipython",
    "version": 3
   },
   "file_extension": ".py",
   "mimetype": "text/x-python",
   "name": "python",
   "nbconvert_exporter": "python",
   "pygments_lexer": "ipython3",
   "version": "3.11.5"
  }
 },
 "nbformat": 4,
 "nbformat_minor": 5
}
