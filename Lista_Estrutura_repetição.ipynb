{
 "cells": [
  {
   "cell_type": "code",
   "execution_count": 1,
   "id": "0a6e3849-b328-41fd-9af0-e4c6c59df374",
   "metadata": {},
   "outputs": [],
   "source": [
    "# Lista de exercisios encontrada no link: https://wiki.python.org.br/EstruturaDeRepeticao.\n"
   ]
  },
  {
   "cell_type": "code",
   "execution_count": 6,
   "id": "84a48030-5606-4583-aa98-bb3ee4e6e8c1",
   "metadata": {},
   "outputs": [
    {
     "name": "stdin",
     "output_type": "stream",
     "text": [
      "Me informe uma nota entre 0 e 10. 0\n"
     ]
    },
    {
     "name": "stdout",
     "output_type": "stream",
     "text": [
      "0.0\n"
     ]
    }
   ],
   "source": [
    "# Faça um programa que peça uma nota, entre zero e dez. Mostre uma mensagem caso o valor seja inválido e continue pedindo até que o usuário informe um valor válido\n",
    "\n",
    "nota=float(input('Me informe uma nota entre 0 e 10.'))\n",
    "\n",
    "while nota > 10:\n",
    "    print('Valor inválido, me informe uma nota entre 0 e 10.')\n",
    "    nota=float(input('me informe uma nota'))\n",
    "    \n",
    "print('Valor da note é:',nota)\n"
   ]
  },
  {
   "cell_type": "code",
   "execution_count": 8,
   "id": "0fc9baf0-27ee-4cef-b88f-2a8c740ee417",
   "metadata": {},
   "outputs": [
    {
     "name": "stdin",
     "output_type": "stream",
     "text": [
      "Me informe seu nome nome\n",
      "Me informe sua senha nome\n"
     ]
    },
    {
     "name": "stdout",
     "output_type": "stream",
     "text": [
      "Senha inválida, coloque uma senha diferente do seu login\n"
     ]
    },
    {
     "name": "stdin",
     "output_type": "stream",
     "text": [
      "Me informe sua senha nome\n"
     ]
    },
    {
     "name": "stdout",
     "output_type": "stream",
     "text": [
      "Senha inválida, coloque uma senha diferente do seu login\n"
     ]
    },
    {
     "name": "stdin",
     "output_type": "stream",
     "text": [
      "Me informe sua senha roberto\n"
     ]
    },
    {
     "name": "stdout",
     "output_type": "stream",
     "text": [
      "Entrou no acesso\n"
     ]
    }
   ],
   "source": [
    "# Faça um programa que leia um nome de usuário e a sua senha e não aceite a senha igual ao nome do usuário, mostrando uma mensagem de erro e voltando a pedir as informações.\n",
    "\n",
    "nome_usuario= input('Me informe seu nome')\n",
    "\n",
    "senha_usuario= input('Me informe sua senha')\n",
    "\n",
    "while senha_usuario == nome_usuario:\n",
    "    print('Senha inválida, coloque uma senha diferente do seu login')\n",
    "    senha_usuario= input('Me informe sua senha')\n",
    "\n",
    "print('Entrou no acesso')\n"
   ]
  },
  {
   "cell_type": "code",
   "execution_count": 25,
   "id": "9d101cb7-ac0b-4053-a28e-5a754ea6249d",
   "metadata": {
    "tags": []
   },
   "outputs": [
    {
     "name": "stdin",
     "output_type": "stream",
     "text": [
      "Me informe seu nome Tao\n"
     ]
    },
    {
     "name": "stdout",
     "output_type": "stream",
     "text": [
      "Nome inválido,informe novamente\n"
     ]
    },
    {
     "name": "stdin",
     "output_type": "stream",
     "text": [
      "Me informe seu nome Taoc\n",
      "Me informe sua idade 22\n",
      "Me informe seu salario 2300\n",
      "Me infome seu sexo, masculino ou feminino trans\n"
     ]
    },
    {
     "name": "stdout",
     "output_type": "stream",
     "text": [
      "Sexo inválido, informe novamente\n"
     ]
    },
    {
     "name": "stdin",
     "output_type": "stream",
     "text": [
      "Me infome seu sexo, masculino ou feminino masculino\n",
      "Me informe seu estado civil; Solteiro,Casado,Viuvo,Disvorcido solteiro\n"
     ]
    }
   ],
   "source": [
    "'''\n",
    "Faça um programa que leia e valide as seguintes informações:\n",
    "Nome: maior que 3 caracteres;\n",
    "Idade: entre 0 e 150;\n",
    "Salário: maior que zero;\n",
    "Sexo: 'f' ou 'm';\n",
    "Estado Civil: 's', 'c', 'v', 'd'\n",
    "'''\n",
    "\n",
    "nome= input('Me informe seu nome')\n",
    "while len(nome)<=3:\n",
    "    print('Nome inválido,informe novamente')\n",
    "    nome= input('Me informe seu nome')\n",
    "\n",
    "idade= int(input('Me informe sua idade'))\n",
    "while idade <= 0 and idade>=150:\n",
    "    print('Idade inválida, informe novamente')\n",
    "    idade= int(input('Me informe sua idade'))\n",
    "    \n",
    "    \n",
    "salario= float(input('Me informe seu salario'))\n",
    "while salario < 0: \n",
    "    print('Salário inválido, informe novamente')\n",
    "    salario= float(input('Me informe seu salario'))\n",
    "\n",
    "\n",
    "sexo= input('Me infome seu sexo, masculino ou feminino')\n",
    "while sexo[0] !='m' and sexo[0] !='f':\n",
    "    print('Sexo inválido, informe novamente')\n",
    "    sexo= input('Me infome seu sexo, masculino ou feminino')\n",
    "\n",
    "\n",
    "estado_civil= input('Me informe seu estado civil; solteiro,casado,viuvo,disvorcido')\n",
    "while estado_civil[0]!='s' and estado_civil[0]!='c'and estado_civil[0]!='v'and estado_civil[0]!='d':\n",
    "    print('Estado civil inválido,informe novamente')\n",
    "    estado_civil= input('Me informe seu estado civil; Solteiro,Casado,Viuvo,Disvorcido')\n",
    "    \n"
   ]
  },
  {
   "cell_type": "code",
   "execution_count": 2,
   "id": "2f348a56-a4b3-4d9a-9863-ab9f39398cbe",
   "metadata": {},
   "outputs": [
    {
     "name": "stdout",
     "output_type": "stream",
     "text": [
      "220\n"
     ]
    }
   ],
   "source": [
    "'''\n",
    "Supondo que a população de um país A seja da ordem de 80000 habitantes com uma taxa anual de crescimento de 3% e que a população de B seja 200000 habitantes com uma taxa de crescimento de 1.5%.\n",
    "Faça um programa que calcule e escreva o número de anos necessários para que a população do país A ultrapasse ou iguale a população do país B, mantidas as taxas de crescimento.\n",
    "'''\n",
    "\n",
    "populacaoA=8000\n",
    "populacaoB=200000\n",
    "ano=0\n",
    "\n",
    "while populacaoA<=populacaoB:\n",
    "    ano+=1\n",
    "    populacaoA=8000*(1.03**ano)\n",
    "    populacaoB=200000*(1.015**ano)\n",
    "\n",
    "print(ano)"
   ]
  },
  {
   "cell_type": "code",
   "execution_count": 8,
   "id": "898fc98f-c827-43cb-963b-d9175bd5e8eb",
   "metadata": {},
   "outputs": [
    {
     "name": "stdin",
     "output_type": "stream",
     "text": [
      "Informe a população inicial de A 8000\n",
      "Me infome a taxa de crescimento anual de A 3\n",
      "Informe a população inicial de B 200000\n",
      "Me infome a taxa de crescimento anual de B 1.5\n"
     ]
    },
    {
     "name": "stdout",
     "output_type": "stream",
     "text": [
      "220\n"
     ]
    }
   ],
   "source": [
    "'''Altere o programa anterior permitindo ao usuário informar as populações e as taxas de crescimento iniciais. Valide a entrada e permita repetir a operação'''\n",
    "\n",
    "\n",
    "populacaoA=float(input('Informe a população inicial de A'))\n",
    "taxaA= float(input('Me infome a taxa de crescimento anual de A'))/100\n",
    "\n",
    "populacaoB=float(input('Informe a população inicial de B'))\n",
    "taxaB= float(input('Me infome a taxa de crescimento anual de B'))/100\n",
    "\n",
    "populacaoAA=0\n",
    "populacaoBB=1\n",
    "\n",
    "ano=0\n",
    "\n",
    "while populacaoAA<=populacaoBB:\n",
    "    ano+=1\n",
    "    populacaoAA= (populacaoA*((1+taxaA)**ano))\n",
    "    populacaoBB= (populacaoB*((1+taxaB)**ano))\n",
    "    \n",
    "\n",
    "print(ano)"
   ]
  },
  {
   "cell_type": "code",
   "execution_count": 11,
   "id": "9432d24a-ec91-423d-9128-747f9de5a205",
   "metadata": {},
   "outputs": [
    {
     "name": "stdout",
     "output_type": "stream",
     "text": [
      "1\n",
      "2\n",
      "3\n",
      "4\n",
      "5\n",
      "6\n",
      "7\n",
      "8\n",
      "9\n",
      "10\n",
      "11\n",
      "12\n",
      "13\n",
      "14\n",
      "15\n",
      "16\n",
      "17\n",
      "18\n",
      "19\n",
      "20\n",
      "[1, 2, 3, 4, 5, 6, 7, 8, 9, 10, 11, 12, 13, 14, 15, 16, 17, 18, 19, 20, 21]\n"
     ]
    }
   ],
   "source": [
    "'''Faça um programa que imprima na tela os números de 1 a 20, um abaixo do outro. Depois modifique o programa para que ele mostre os números um ao lado do outro.'''\n",
    "\n",
    "for i in range(1,20+1):\n",
    "    print(i)\n",
    "\n",
    "print(list(range(1,21+1)))\n"
   ]
  },
  {
   "cell_type": "code",
   "execution_count": 27,
   "id": "50920f38-96ef-44bd-93d7-7d334804fdc3",
   "metadata": {},
   "outputs": [
    {
     "name": "stdout",
     "output_type": "stream",
     "text": [
      "1\n",
      "6\n",
      "3\n",
      "10\n",
      "5\n",
      "O maior numero da lista é o: 10\n"
     ]
    }
   ],
   "source": [
    "'''Faça um programa que leia 5 números e informe o maior número.'''\n",
    "\n",
    "lista=[1,6,3,10,5]\n",
    "\n",
    "for numero in lista:                 # percorra a lista de numeros. \n",
    "    print(numero)\n",
    "    \n",
    "    if numero == max(lista):         # se o numero da lista for igual ao maior numero da lista, retorna o numero. \n",
    "        numero1=numero\n",
    "\n",
    "print('O maior numero da lista é o:',numero1)"
   ]
  },
  {
   "cell_type": "code",
   "execution_count": 29,
   "id": "5ad6195b-9ea8-4f86-b256-507e2879e15b",
   "metadata": {},
   "outputs": [
    {
     "name": "stdout",
     "output_type": "stream",
     "text": [
      "25\n",
      "5.0\n"
     ]
    }
   ],
   "source": [
    "'''Faça um programa que leia 5 números e informe a soma e a média dos números.'''\n",
    "\n",
    "lista=[1,6,3,10,5]\n",
    "\n",
    "print(sum(lista))             #soma dos numeros \n",
    "\n",
    "print(sum(lista)/len(lista))  #media dos numeros\n",
    "\n",
    "\n"
   ]
  },
  {
   "cell_type": "code",
   "execution_count": 34,
   "id": "25a7c8f1-dbec-4523-86fc-453142835c55",
   "metadata": {},
   "outputs": [
    {
     "name": "stdout",
     "output_type": "stream",
     "text": [
      "1\n",
      "3\n",
      "5\n",
      "7\n",
      "9\n",
      "11\n",
      "13\n",
      "15\n",
      "17\n",
      "19\n",
      "21\n",
      "23\n",
      "25\n",
      "27\n",
      "29\n",
      "31\n",
      "33\n",
      "35\n",
      "37\n",
      "39\n",
      "41\n",
      "43\n",
      "45\n",
      "47\n",
      "49\n"
     ]
    }
   ],
   "source": [
    "'''Faça um programa que imprima na tela apenas os números ímpares entre 1 e 50.'''\n",
    "\n",
    "\n",
    "for i in range(1,50+1):    # percorrer a lista\n",
    "    resto= i%2\n",
    "    if resto == 1:         # se for impar, imprimir na tela\n",
    "        print(i)"
   ]
  },
  {
   "cell_type": "code",
   "execution_count": 39,
   "id": "be85760d-9a08-4be2-91e9-9011aa02d0af",
   "metadata": {},
   "outputs": [
    {
     "name": "stdin",
     "output_type": "stream",
     "text": [
      "Me informe o numero 1 1\n",
      "Me informe o numero 2 5\n"
     ]
    },
    {
     "name": "stdout",
     "output_type": "stream",
     "text": [
      "1\n",
      "2\n",
      "3\n",
      "4\n",
      "5\n"
     ]
    }
   ],
   "source": [
    "'''Faça um programa que receba dois números inteiros e gere os números inteiros que estão no intervalo compreendido por eles.'''\n",
    "\n",
    "numero1= int(input('Me informe o numero 1'))\n",
    "numero2= int(input('Me informe o numero 2'))\n",
    "\n",
    "for i in range(numero1,numero2+1):        #Percorrer a lista entre o numero 1 e o numero 2\n",
    "    print(i)\n"
   ]
  },
  {
   "cell_type": "code",
   "execution_count": 60,
   "id": "0ec41219-c2e6-4c2c-b722-6d48e3f4774e",
   "metadata": {},
   "outputs": [
    {
     "name": "stdin",
     "output_type": "stream",
     "text": [
      "Me informe o numero 1 1\n",
      "Me informe o numero 2 3\n"
     ]
    },
    {
     "name": "stdout",
     "output_type": "stream",
     "text": [
      "1\n",
      "2\n",
      "3\n",
      "6\n"
     ]
    }
   ],
   "source": [
    "'''Altere o programa anterior para mostrar no final a soma dos números.'''\n",
    "numero1= int(input('Me informe o numero 1'))\n",
    "numero2= int(input('Me informe o numero 2'))\n",
    "resultado=0\n",
    "\n",
    "for i in range(numero1,numero2+1):     #Percorrer a lista entre o numero 1 e o numero 2\n",
    "    print(i)\n",
    "    resultado= resultado+i\n",
    "\n",
    "print(resultado)"
   ]
  },
  {
   "cell_type": "code",
   "execution_count": 45,
   "id": "b1182994-cec1-4a2f-9cd1-03c704fdf043",
   "metadata": {},
   "outputs": [
    {
     "name": "stdin",
     "output_type": "stream",
     "text": [
      "Me informe qual tabuada você gostaria de obter? 2\n"
     ]
    },
    {
     "name": "stdout",
     "output_type": "stream",
     "text": [
      "2 X 1 = 2\n",
      "2 X 2 = 4\n",
      "2 X 3 = 6\n",
      "2 X 4 = 8\n",
      "2 X 5 = 10\n",
      "2 X 6 = 12\n",
      "2 X 7 = 14\n",
      "2 X 8 = 16\n",
      "2 X 9 = 18\n",
      "2 X 10 = 20\n"
     ]
    }
   ],
   "source": [
    "'''Desenvolva um gerador de tabuada, capaz de gerar a tabuada de qualquer número inteiro entre 1 a 10. O usuário deve informar de qual numero ele deseja ver a tabuada.\n",
    "A saída deve ser conforme o exemplo abaixo:\n",
    "Tabuada de 5:\n",
    "5 X 1 = 5\n",
    "5 X 2 = 10\n",
    "....\n",
    "'''\n",
    "\n",
    "numero= int(input('Me informe qual tabuada você gostaria de obter?'))\n",
    "\n",
    "for i in range(1,10+1):                  # i vai percorrer o valor de 1 a 10 \n",
    "    multi= numero*i                      # multiplicar a variavel i com o numero que eu escolhi \n",
    "    print(numero,'X',i,'=',multi)        # retorna o formado numero x i = multiplicação anterior. \n"
   ]
  },
  {
   "cell_type": "code",
   "execution_count": 56,
   "id": "e5393b15-2202-4c26-a2eb-744f0a1d9daf",
   "metadata": {},
   "outputs": [
    {
     "name": "stdin",
     "output_type": "stream",
     "text": [
      "me informe a base 3\n",
      "me informa o expoente 3\n"
     ]
    },
    {
     "name": "stdout",
     "output_type": "stream",
     "text": [
      "27\n"
     ]
    }
   ],
   "source": [
    "'''Faça um programa que peça dois números, base e expoente, calcule e mostre o primeiro número elevado ao segundo número. Não utilize a função de potência da linguagem.'''\n",
    "\n",
    "\n",
    "x=int(input('me informe a base'))\n",
    "y=int(input('me informa o expoente'))\n",
    "\n",
    "lista=[x]*y\n",
    "\n",
    "resultado=lista[0] # pegando o primeiro elemento da lista. \n",
    "\n",
    "for i in range(1,len(lista)):\n",
    "    resultado=resultado*lista[i]   \n",
    "# O resultado da lista informa a primeira posição da lista, vezes a segunda posição, e armazena o resultado.                             \n",
    "# Depois pega o resultado anterior, e multiplica pelo proximo elemento i na lista e assim sucessivamente.\n",
    "\n",
    "\n",
    "print(resultado)\n"
   ]
  },
  {
   "cell_type": "code",
   "execution_count": 72,
   "id": "38a2628f-40e9-47d2-9712-22212ad5c6bd",
   "metadata": {},
   "outputs": [
    {
     "name": "stdin",
     "output_type": "stream",
     "text": [
      " 3\n",
      " 5\n",
      " 7\n",
      " 9\n",
      " 11\n",
      " 13\n",
      " 15\n",
      " 18\n",
      " 21\n",
      " 23\n"
     ]
    },
    {
     "name": "stdout",
     "output_type": "stream",
     "text": [
      "a quantidade de pares é 1\n",
      "a quantidade de impares é 9\n"
     ]
    }
   ],
   "source": [
    "'''Faça um programa que peça 10 números inteiros, calcule e mostre a quantidade de números pares e a quantidade de números impares.'''\n",
    "\n",
    "par=0                                    #numero de pares \n",
    "impar=0                                    #numero de impares                         \n",
    "\n",
    "for i in range(0,10):\n",
    "    list_numero= float(input())        #váriavel \n",
    "\n",
    "    if list_numero%2==0:               # se for par ele soma 1 na variavel de x\n",
    "        par+=1\n",
    "    elif list_numero%2==1:             # se ele for impar soma 1 na variavel d\n",
    "        impar+=1\n",
    "        \n",
    "print('a quantidade de pares é',x)\n",
    "print('a quantidade de impares é',y)\n",
    "    "
   ]
  },
  {
   "cell_type": "code",
   "execution_count": 1,
   "id": "dbd9a477-6aee-4307-b88f-94588163d6ad",
   "metadata": {},
   "outputs": [
    {
     "name": "stdin",
     "output_type": "stream",
     "text": [
      "Quantos numeros você quer verificar na seguencia 5\n"
     ]
    },
    {
     "name": "stdout",
     "output_type": "stream",
     "text": [
      "1\n",
      "1\n",
      "2\n",
      "3\n",
      "5\n"
     ]
    }
   ],
   "source": [
    "'''A série de Fibonacci é formada pela seqüência 1,1,2,3,5,8,13,21,34,55,... Faça um programa capaz de gerar a série até o n−ésimo termo.'''\n",
    "\n",
    "nesimo=int(input('Quantos numeros você quer verificar na seguencia'))\n",
    "numero=1\n",
    "anterior=0\n",
    "\n",
    "for i in range(nesimo):\n",
    "    print(numero)       # printo o termo\n",
    "    \n",
    "    variavel=numero     # primeiro eu crio uma ''variavel'' para armazenar o numero. \n",
    "    \n",
    "    numero+=anterior    # Depois somo o numero ao anterior e armazeno na variavel ''numero''.\n",
    "    \n",
    "    anterior=variavel   # Após isso armazeno o termo ''variavel'' como anterior. Depois o processo se repete. \n",
    "\n",
    "\n",
    "A série de Fibonacci é formada pela seqüência 0,1,1,2,3,5,8,13,21,34,55,... Faça um programa que gere a série até que o valor seja maior que 500.\n"
   ]
  },
  {
   "cell_type": "code",
   "execution_count": 7,
   "id": "ee03dc2e-5201-423b-b202-c69842d9ef6b",
   "metadata": {},
   "outputs": [
    {
     "name": "stdout",
     "output_type": "stream",
     "text": [
      "1\n",
      "1\n",
      "2\n",
      "3\n",
      "5\n",
      "8\n",
      "13\n",
      "21\n",
      "34\n",
      "55\n",
      "89\n",
      "144\n",
      "233\n",
      "377\n",
      "610\n"
     ]
    }
   ],
   "source": [
    "''' A série de Fibonacci é formada pela seqüência 0,1,1,2,3,5,8,13,21,34,55,... Faça um programa que gere a série até que o valor seja maior que 500.'''\n",
    "numero=1\n",
    "anterior=0\n",
    "\n",
    "while numero<500:\n",
    "    print(numero)\n",
    "    \n",
    "    variavel=numero     # primeiro eu crio uma ''variavel'' para armazenar o numero. \n",
    "    \n",
    "    numero+=anterior    # Depois somo o numero ao anterior e armazeno na variavel ''numero''.\n",
    "    \n",
    "    anterior=variavel   # Após isso armazeno o termo ''variavel'' como anterior. Depois o processo se repete. \n",
    "\n",
    "    if numero>500:\n",
    "        print(numero)\n"
   ]
  },
  {
   "cell_type": "code",
   "execution_count": 2,
   "id": "4343ffed-7d6d-44dc-844a-d0b258a3ae8a",
   "metadata": {},
   "outputs": [
    {
     "name": "stdin",
     "output_type": "stream",
     "text": [
      "Me informe o numero 3\n"
     ]
    },
    {
     "name": "stdout",
     "output_type": "stream",
     "text": [
      "Este é i 1\n",
      "Este é anterior 1\n",
      "Esse é o resultado apos a multiplicação 1\n",
      "Este é i 2\n",
      "Este é anterior 1\n",
      "Esse é o resultado apos a multiplicação 2\n",
      "Este é i 3\n",
      "Este é anterior 2\n",
      "Esse é o resultado apos a multiplicação 6\n",
      " resultado é 6\n"
     ]
    }
   ],
   "source": [
    "''' Faça um programa que calcule o fatorial de um número inteiro fornecido pelo usuário. Ex.: 5!=5.4.3.2.1=120'''\n",
    "\n",
    "\n",
    "fatorial=int(input('Me informe o numero'))\n",
    "anterior=1\n",
    "\n",
    "for i in range(1,fatorial+1):\n",
    "    print('Este é i',i)\n",
    "    print('Este é anterior',anterior)\n",
    "    \n",
    "    anterior=anterior*i\n",
    "    print('Esse é o resultado apos a multiplicação',anterior)\n",
    "\n",
    "\n",
    "print(' resultado é',anterior)\n"
   ]
  },
  {
   "cell_type": "code",
   "execution_count": null,
   "id": "db70c4fa-4496-4bf0-b8d9-0abec40fcfc6",
   "metadata": {},
   "outputs": [
    {
     "name": "stdout",
     "output_type": "stream",
     "text": [
      "O maior valor da lista é 86\n",
      "O menor valor da lista é 10\n",
      "A soma dos valores é 221\n"
     ]
    }
   ],
   "source": [
    "''' Faça um programa que, dado um conjunto de N números, determine o menor valor, o maior valor e a soma dos valores.\n",
    "'''\n",
    "\n",
    "lista=[12,6,8,15,19,20,45,86,10]\n",
    "\n",
    "soma=0\n",
    "\n",
    "for i in lista:\n",
    "    if i>=anterior: # determinando o maior valor. \n",
    "        maximo=i\n",
    "    anterior=i\n",
    "\n",
    "    soma+= i\n",
    "    \n",
    "print('O maior valor da lista é',maximo)\n",
    "print('A soma dos valores é',soma)\n"
   ]
  },
  {
   "cell_type": "code",
   "execution_count": 37,
   "id": "1bb1f82e-1d45-4419-8d62-611a710403bc",
   "metadata": {},
   "outputs": [
    {
     "name": "stdin",
     "output_type": "stream",
     "text": [
      "Me informe a quantidade de valores no conjunto 3\n",
      "Infome o valor 1002\n",
      "Valor inválido, Infome o valor entre 0 e 1000 3\n",
      "Infome o valor 12\n",
      "Infome o valor 30\n"
     ]
    },
    {
     "name": "stdout",
     "output_type": "stream",
     "text": [
      "[3, 12, 30]\n",
      "O menor valor da lista é 3\n",
      "O maior valor da lista é 30\n",
      "A soma dos valores é 45\n"
     ]
    }
   ],
   "source": [
    "''' Faça um programa que, dado um conjunto de N números, determine o menor valor, o maior valor e a soma dos valores. E que ele aceite apenas números entre 0 e 1000.''' \n",
    "\n",
    "numero=int(input('Me informe a quantidade de valores no conjunto'))\n",
    "count=1\n",
    "lista2=[]\n",
    "\n",
    "while count <= numero:                                                       # Fazendo o laço de repetição\n",
    "    valor= int(input('Infome o valor'))\n",
    "    if valor>0 and valor<=1000:                                              # Se o valor tiver entre zero e 1000 ele adiciona a uma lista \n",
    "        lista1=[valor]\n",
    "        lista2+=lista1\n",
    "        count+=1\n",
    "    while valor>1000:\n",
    "        valor= int(input('Valor inválido, Infome o valor entre 0 e 1000'))\n",
    "        if valor>0 and valor<=1000:\n",
    "            lista1=[valor]\n",
    "            lista2+=lista1\n",
    "            count+=1\n",
    "        numero+=1\n",
    "        count+=1\n",
    "                   \n",
    "print(lista2)\n",
    "soma=0\n",
    "\n",
    "for i in lista2:\n",
    "    if i<=anterior:         # determinando o menor valor. \n",
    "        minimo=i\n",
    "    elif i>=anterior:       # determinando o maior valor. \n",
    "        maximo=i\n",
    "    anterior=i\n",
    "    soma+= i\n",
    "\n",
    "print('O menor valor da lista é',minimo)\n",
    "print('O maior valor da lista é',maximo)\n",
    "print('A soma dos valores é',soma)\n",
    "\n"
   ]
  },
  {
   "cell_type": "code",
   "execution_count": 54,
   "id": "72f44304-331d-4f90-8fe1-2f4776e4cd24",
   "metadata": {},
   "outputs": [
    {
     "name": "stdin",
     "output_type": "stream",
     "text": [
      "Me informe o numero 1\n"
     ]
    },
    {
     "name": "stdout",
     "output_type": "stream",
     "text": [
      " resultado é 1\n"
     ]
    },
    {
     "name": "stdin",
     "output_type": "stream",
     "text": [
      "Me informe o numero 2\n"
     ]
    },
    {
     "name": "stdout",
     "output_type": "stream",
     "text": [
      " resultado é 2\n"
     ]
    },
    {
     "name": "stdin",
     "output_type": "stream",
     "text": [
      "Me informe o numero 3\n"
     ]
    },
    {
     "name": "stdout",
     "output_type": "stream",
     "text": [
      " resultado é 6\n"
     ]
    },
    {
     "name": "stdin",
     "output_type": "stream",
     "text": [
      "Me informe o numero 4\n"
     ]
    },
    {
     "name": "stdout",
     "output_type": "stream",
     "text": [
      " resultado é 24\n"
     ]
    },
    {
     "name": "stdin",
     "output_type": "stream",
     "text": [
      "Me informe o numero 5\n"
     ]
    },
    {
     "name": "stdout",
     "output_type": "stream",
     "text": [
      " resultado é 120\n"
     ]
    },
    {
     "name": "stdin",
     "output_type": "stream",
     "text": [
      "Me informe o numero 6\n"
     ]
    },
    {
     "name": "stdout",
     "output_type": "stream",
     "text": [
      " resultado é 720\n"
     ]
    },
    {
     "name": "stdin",
     "output_type": "stream",
     "text": [
      "Me informe o numero 7\n"
     ]
    },
    {
     "name": "stdout",
     "output_type": "stream",
     "text": [
      " resultado é 5040\n"
     ]
    },
    {
     "name": "stdin",
     "output_type": "stream",
     "text": [
      "Me informe o numero 8\n"
     ]
    },
    {
     "name": "stdout",
     "output_type": "stream",
     "text": [
      " resultado é 40320\n"
     ]
    },
    {
     "name": "stdin",
     "output_type": "stream",
     "text": [
      "Me informe o numero 9\n"
     ]
    },
    {
     "name": "stdout",
     "output_type": "stream",
     "text": [
      " resultado é 362880\n"
     ]
    },
    {
     "name": "stdin",
     "output_type": "stream",
     "text": [
      "Me informe o numero 10\n"
     ]
    },
    {
     "name": "stdout",
     "output_type": "stream",
     "text": [
      " resultado é 3628800\n"
     ]
    },
    {
     "name": "stdin",
     "output_type": "stream",
     "text": [
      "Me informe o numero 11\n"
     ]
    },
    {
     "name": "stdout",
     "output_type": "stream",
     "text": [
      " resultado é 39916800\n"
     ]
    },
    {
     "name": "stdin",
     "output_type": "stream",
     "text": [
      "Me informe o numero 12\n"
     ]
    },
    {
     "name": "stdout",
     "output_type": "stream",
     "text": [
      " resultado é 479001600\n"
     ]
    },
    {
     "name": "stdin",
     "output_type": "stream",
     "text": [
      "Me informe o numero 13\n"
     ]
    },
    {
     "name": "stdout",
     "output_type": "stream",
     "text": [
      " resultado é 6227020800\n"
     ]
    },
    {
     "name": "stdin",
     "output_type": "stream",
     "text": [
      "Me informe o numero 14\n"
     ]
    },
    {
     "name": "stdout",
     "output_type": "stream",
     "text": [
      " resultado é 87178291200\n"
     ]
    },
    {
     "name": "stdin",
     "output_type": "stream",
     "text": [
      "Me informe o numero 15\n"
     ]
    },
    {
     "name": "stdout",
     "output_type": "stream",
     "text": [
      " resultado é 1307674368000\n"
     ]
    },
    {
     "name": "stdin",
     "output_type": "stream",
     "text": [
      "Me informe o numero 16\n"
     ]
    },
    {
     "name": "stdout",
     "output_type": "stream",
     "text": [
      "Não aceitamos numeros maiores que 16\n"
     ]
    }
   ],
   "source": [
    "'''\n",
    "Faça um programa que calcule o fatorial de um número inteiro fornecido pelo usuário.Ex.: 5!=5.4.3.2.1=120\n",
    "Altere o programa de cálculo do fatorial, permitindo ao usuário calcular o fatorial várias vezes e limitando o fatorial a números inteiros positivos e menores que 16.\n",
    "'''\n",
    "fatorial= 0\n",
    "while fatorial<=16:\n",
    "    fatorial=int(input('Me informe o numero'))\n",
    "    if fatorial >=16:\n",
    "        break\n",
    "    anterior=1\n",
    "    for i in range(1,fatorial+1):\n",
    "        anterior*=i\n",
    "    \n",
    "    print(' resultado é',anterior)\n",
    "print('Não aceitamos numeros maiores que 16')\n"
   ]
  },
  {
   "cell_type": "code",
   "execution_count": 66,
   "id": "645e3481-9747-44ad-a97f-63770e4a8eaa",
   "metadata": {},
   "outputs": [
    {
     "name": "stdin",
     "output_type": "stream",
     "text": [
      "Me informe um NUMERO INTEIRO 8\n"
     ]
    },
    {
     "name": "stdout",
     "output_type": "stream",
     "text": [
      "Não é um numero primo\n"
     ]
    }
   ],
   "source": [
    "'''\n",
    "Faça um programa que peça um número inteiro e determine se ele é ou não um número primo. Um número primo é aquele que é divisível somente por ele mesmo e por 1.\n",
    "'''\n",
    "\n",
    "numero_inteiro= int(input('Me informe um NUMERO INTEIRO'))\n",
    "lista= []\n",
    "for i in range(1,numero_inteiro+1):\n",
    "    if numero_inteiro%i==0:\n",
    "        lista1=[i]\n",
    "        lista+=lista1\n",
    "\n",
    "if len(lista)==2:\n",
    "    print('É um numero primo')\n",
    "else:\n",
    "    print('Não é um numero primo')"
   ]
  },
  {
   "cell_type": "code",
   "execution_count": 69,
   "id": "6049652d-c7f0-4a31-9da9-e0d50057fa89",
   "metadata": {},
   "outputs": [
    {
     "name": "stdin",
     "output_type": "stream",
     "text": [
      "Me informe um NUMERO INTEIRO 16\n"
     ]
    },
    {
     "name": "stdout",
     "output_type": "stream",
     "text": [
      "Não é um numero primo, pois eles é divisivel por: [1, 2, 4, 8, 16]\n"
     ]
    }
   ],
   "source": [
    "'''\n",
    "Faça um programa que peça um número inteiro e determine se ele é ou não um número primo. Um número primo é aquele que é divisível somente por ele mesmo e por 1.\n",
    "Altere o programa de cálculo dos números primos, informando, caso o número não seja primo, por quais número ele é divisível.\n",
    "'''\n",
    "\n",
    "numero_inteiro= int(input('Me informe um NUMERO INTEIRO'))\n",
    "lista= []\n",
    "\n",
    "for i in range(1,numero_inteiro+1):              # \n",
    "    if numero_inteiro%i==0:\n",
    "        lista1=[i]\n",
    "        lista+=lista1\n",
    "\n",
    "if len(lista)==2:\n",
    "    print('É um numero primo')\n",
    "else:\n",
    "    print('Não é um numero primo, pois eles é divisivel por:',lista)"
   ]
  },
  {
   "cell_type": "code",
   "execution_count": 116,
   "id": "c4cf4710-73dd-4be7-adfb-eb5113692e85",
   "metadata": {},
   "outputs": [
    {
     "name": "stdin",
     "output_type": "stream",
     "text": [
      "Me informe um NUMERO INTEIRO 13\n"
     ]
    },
    {
     "name": "stdout",
     "output_type": "stream",
     "text": [
      "Os numeros entre um e N que são primos são: [1, 2, 3, 5, 7, 11, 13]\n"
     ]
    }
   ],
   "source": [
    "'''\n",
    "Faça um programa que mostre todos os primos entre 1 e N sendo N um número inteiro fornecido pelo usuário. O programa deverá mostrar também o número de divisões que ele executou para encontrar os números primos.\n",
    "Serão avaliados o funcionamento, o estilo e o número de testes (divisões) executados.\n",
    "'''\n",
    "\n",
    "numero_inteiro=int(input('Me informe um NUMERO INTEIRO'))\n",
    "lista_numeros=[1]\n",
    "\n",
    "for i in range(1,numero_inteiro+1):              # Primeiro atribuir um numero a i\n",
    "    lista=[]                                     # Criando uma lista para comparação\n",
    "    for n in range(1,i+1):                       # para cada n na lista indo de 1 até o valor atual de i. \n",
    "        if i%n==0:                               # Se o resto do valor atual de i divido pelo valor atual de n, for igual a 0, adiciona o valor de n em uma lista. \n",
    "            lista1=[n]                  \n",
    "            lista+=lista1\n",
    "    if len(lista)==2:                            # Se a quantidade de elementos da lista anterior for igual a 2 é por o numero é primo, ou seja, i é um numero primo, logo, ele é adicionado em um lista. \n",
    "        lista_numeros1=[i]\n",
    "        lista_numeros+=lista_numeros1\n",
    "\n",
    "print('Os numeros entre um e N que são primos são:',lista_numeros)"
   ]
  },
  {
   "cell_type": "code",
   "execution_count": 142,
   "id": "8d151855-b702-42d9-aa01-1bf247758829",
   "metadata": {},
   "outputs": [
    {
     "name": "stdin",
     "output_type": "stream",
     "text": [
      "Numero de notas: 4\n",
      "informe nota 10\n",
      "informe nota 9\n",
      "informe nota 8\n",
      "informe nota 7\n"
     ]
    },
    {
     "name": "stdout",
     "output_type": "stream",
     "text": [
      "A média é  8.5\n"
     ]
    }
   ],
   "source": [
    "'''Faça um programa que calcule o mostre a média aritmética de N notas'''\n",
    "\n",
    "numero_notas=int(input('Numero de notas:'))\n",
    "\n",
    "nota_total=0\n",
    "\n",
    "for i in range(numero_notas):\n",
    "    \n",
    "    nota=float(input('informe nota'))\n",
    "    \n",
    "    nota_total+=nota\n",
    "    \n",
    "media=nota1/numero_notas\n",
    "\n",
    "print('A média é ',media)\n",
    "\n"
   ]
  },
  {
   "cell_type": "code",
   "execution_count": 11,
   "id": "02428f4d-22d7-4d5e-a908-9985046695dc",
   "metadata": {},
   "outputs": [
    {
     "name": "stdin",
     "output_type": "stream",
     "text": [
      "Me informe o numero de pessoas 3\n"
     ]
    },
    {
     "name": "stdout",
     "output_type": "stream",
     "text": [
      "Informe a idade da pessoa 1\n"
     ]
    },
    {
     "name": "stdin",
     "output_type": "stream",
     "text": [
      "Idade:  12\n"
     ]
    },
    {
     "name": "stdout",
     "output_type": "stream",
     "text": [
      "Informe a idade da pessoa 2\n"
     ]
    },
    {
     "name": "stdin",
     "output_type": "stream",
     "text": [
      "Idade:  24\n"
     ]
    },
    {
     "name": "stdout",
     "output_type": "stream",
     "text": [
      "Informe a idade da pessoa 3\n"
     ]
    },
    {
     "name": "stdin",
     "output_type": "stream",
     "text": [
      "Idade:  15\n"
     ]
    },
    {
     "name": "stdout",
     "output_type": "stream",
     "text": [
      "A turma é JOVEM\n"
     ]
    }
   ],
   "source": [
    "'''\n",
    "Faça um programa que peça para n pessoas a sua idade, ao final o programa devera verificar se a média de idade da turma varia entre 0 e 25,26 e 60 e maior que 60;\n",
    "e então, dizer se a turma é jovem, adulta ou idosa, conforme a média calculada.\n",
    "'''\n",
    "\n",
    "numero_pessoas=int(input('Me informe o numero de pessoas'))\n",
    "idade_total=0\n",
    "\n",
    "for i in range (1,numero_pessoas+1):                         \n",
    "    print('Informe a idade da pessoa',i)\n",
    "    idade= int(input('Idade: '))\n",
    "    idade_total+=idade\n",
    "\n",
    "media_idade=idade_total/numero_pessoas\n",
    "\n",
    "if media_idade<=25:\n",
    "    print('A turma é JOVEM')\n",
    "elif media_idade<=60:\n",
    "    print('A turma é ADULTA')\n",
    "elif media_idade>60 and media_idade<100:\n",
    "    print('A turma é IDOSA')\n",
    "else:\n",
    "    print('Idade inválida')\n",
    "\n"
   ]
  },
  {
   "cell_type": "code",
   "execution_count": 14,
   "id": "37893233-c8b2-4ed5-8e3f-11d11326b258",
   "metadata": {},
   "outputs": [
    {
     "name": "stdin",
     "output_type": "stream",
     "text": [
      "Quantidade total de eleitores 10\n",
      "Vote na chapa 1, 2 ou 3 1\n",
      "Vote na chapa 1, 2 ou 3 3\n",
      "Vote na chapa 1, 2 ou 3 2\n",
      "Vote na chapa 1, 2 ou 3 1\n",
      "Vote na chapa 1, 2 ou 3 2\n",
      "Vote na chapa 1, 2 ou 3 3\n",
      "Vote na chapa 1, 2 ou 3 2\n",
      "Vote na chapa 1, 2 ou 3 3\n",
      "Vote na chapa 1, 2 ou 3 3\n",
      "Vote na chapa 1, 2 ou 3 1\n"
     ]
    },
    {
     "name": "stdout",
     "output_type": "stream",
     "text": [
      "A candidato da chapa 1 teve 3 votos\n",
      "A candidato da chapa 2 teve 3 votos\n",
      "A candidato da chapa 3 teve 4 votos\n"
     ]
    }
   ],
   "source": [
    "'''\n",
    "Numa eleição existem três candidatos. Faça um programa que peça o número total de eleitores. \n",
    "Peça para cada eleitor votar e ao final mostrar o número de votos de cada candidato.\n",
    "'''\n",
    "\n",
    "eleitores= int(input('Quantidade total de eleitores'))\n",
    "\n",
    "votos1=0\n",
    "votos2=0\n",
    "votos3=0\n",
    "\n",
    "for i in range (eleitores):\n",
    "    votacao=int(input('Vote na chapa 1, 2 ou 3'))\n",
    "    if votacao==1:\n",
    "        votos1+=1\n",
    "    elif votacao==2:\n",
    "        votos2+=1\n",
    "    elif votacao==3:\n",
    "        votos3+=1\n",
    "    \n",
    "print('A candidato da chapa 1 teve',votos1,'votos')\n",
    "print('A candidato da chapa 2 teve',votos2,'votos')\n",
    "print('A candidato da chapa 3 teve',votos3,'votos')\n",
    "    "
   ]
  },
  {
   "cell_type": "code",
   "execution_count": 15,
   "id": "0caa7ed7-d9be-4f14-a39a-ce1c318475e2",
   "metadata": {},
   "outputs": [
    {
     "name": "stdin",
     "output_type": "stream",
     "text": [
      "Informe a quantidade de turmas 5\n"
     ]
    },
    {
     "name": "stdout",
     "output_type": "stream",
     "text": [
      "Turma 0 tem quantos alunos?\n"
     ]
    },
    {
     "name": "stdin",
     "output_type": "stream",
     "text": [
      " 12\n"
     ]
    },
    {
     "name": "stdout",
     "output_type": "stream",
     "text": [
      "Turma 1 tem quantos alunos?\n"
     ]
    },
    {
     "name": "stdin",
     "output_type": "stream",
     "text": [
      " 36\n"
     ]
    },
    {
     "name": "stdout",
     "output_type": "stream",
     "text": [
      "Turma 2 tem quantos alunos?\n"
     ]
    },
    {
     "name": "stdin",
     "output_type": "stream",
     "text": [
      " 45\n"
     ]
    },
    {
     "name": "stdout",
     "output_type": "stream",
     "text": [
      "Turma 3 tem quantos alunos?\n"
     ]
    },
    {
     "name": "stdin",
     "output_type": "stream",
     "text": [
      " 18\n"
     ]
    },
    {
     "name": "stdout",
     "output_type": "stream",
     "text": [
      "Turma 4 tem quantos alunos?\n"
     ]
    },
    {
     "name": "stdin",
     "output_type": "stream",
     "text": [
      " 9\n"
     ]
    },
    {
     "name": "stdout",
     "output_type": "stream",
     "text": [
      "O numero de turmas é 24.0\n"
     ]
    }
   ],
   "source": [
    "'''\n",
    "Faça um programa que calcule o número médio de alunos por turma. Para isto, peça a quantidade de turmas e a quantidade de alunos para cada turma. As turmas não podem ter mais de 40 alunos.\n",
    "'''\n",
    "\n",
    "numero_turmas=int(input('Informe a quantidade de turmas'))\n",
    "ntotal_alunos=0\n",
    "\n",
    "for i in range(1,numero_turmas+1):\n",
    "    print('Turma',i,'tem quantos alunos?')\n",
    "    numero_alunos=int(input())\n",
    "    ntotal_alunos+=numero_alunos\n",
    "    \n",
    "media=ntotal_alunos/numero_turmas\n",
    "\n",
    "print('O numero media de alunos por turma é ',media)\n",
    "\n",
    "\n",
    "\n"
   ]
  },
  {
   "cell_type": "code",
   "execution_count": 18,
   "id": "32c13d86-a8a0-46dc-8c7f-f3be9fde2ac2",
   "metadata": {},
   "outputs": [
    {
     "name": "stdin",
     "output_type": "stream",
     "text": [
      "Me informe o numero total de CDs 5\n"
     ]
    },
    {
     "name": "stdout",
     "output_type": "stream",
     "text": [
      "O valor do CD 1 foi de:\n"
     ]
    },
    {
     "name": "stdin",
     "output_type": "stream",
     "text": [
      " 100\n"
     ]
    },
    {
     "name": "stdout",
     "output_type": "stream",
     "text": [
      "O valor do CD 2 foi de:\n"
     ]
    },
    {
     "name": "stdin",
     "output_type": "stream",
     "text": [
      " 200\n"
     ]
    },
    {
     "name": "stdout",
     "output_type": "stream",
     "text": [
      "O valor do CD 3 foi de:\n"
     ]
    },
    {
     "name": "stdin",
     "output_type": "stream",
     "text": [
      " 15\n"
     ]
    },
    {
     "name": "stdout",
     "output_type": "stream",
     "text": [
      "O valor do CD 4 foi de:\n"
     ]
    },
    {
     "name": "stdin",
     "output_type": "stream",
     "text": [
      " 80\n"
     ]
    },
    {
     "name": "stdout",
     "output_type": "stream",
     "text": [
      "O valor do CD 5 foi de:\n"
     ]
    },
    {
     "name": "stdin",
     "output_type": "stream",
     "text": [
      " 90\n"
     ]
    },
    {
     "name": "stdout",
     "output_type": "stream",
     "text": [
      "O valor total investido em CDs foi de: 485\n"
     ]
    }
   ],
   "source": [
    "'''\n",
    "Faça um programa que calcule o valor total investido por um colecionador em sua coleção de CDs e o valor médio gasto em cada um deles.\n",
    "O usuário deverá informar a quantidade de CDs e o valor para em cada um.\n",
    "'''\n",
    "numero_cd=int(input('Me informe o numero total de CDs'))\n",
    "valor_total=0\n",
    "\n",
    "for i in range(1,numero_cd+1):\n",
    "    print('O valor do CD',i,'foi de:')\n",
    "    valor=int(input())\n",
    "    valor_total+=valor\n",
    "\n",
    "print('O valor total investido em CDs foi de:',valor_total)"
   ]
  },
  {
   "cell_type": "code",
   "execution_count": 22,
   "id": "53f5490f-7052-45bf-8f56-f260de53ae00",
   "metadata": {},
   "outputs": [
    {
     "name": "stdout",
     "output_type": "stream",
     "text": [
      "Lojas Quase Dois - Tabela de preços\n",
      "1  - R$ 1.99\n",
      "2  - R$ 3.98\n",
      "3  - R$ 5.97\n",
      "4  - R$ 7.96\n",
      "5  - R$ 9.95\n",
      "6  - R$ 11.94\n",
      "7  - R$ 13.93\n",
      "8  - R$ 15.92\n",
      "9  - R$ 17.91\n",
      "10  - R$ 19.9\n",
      "11  - R$ 21.89\n",
      "12  - R$ 23.88\n",
      "13  - R$ 25.87\n",
      "14  - R$ 27.86\n",
      "15  - R$ 29.85\n",
      "16  - R$ 31.84\n",
      "17  - R$ 33.83\n",
      "18  - R$ 35.82\n",
      "19  - R$ 37.81\n",
      "20  - R$ 39.8\n",
      "21  - R$ 41.79\n",
      "22  - R$ 43.78\n",
      "23  - R$ 45.77\n",
      "24  - R$ 47.76\n",
      "25  - R$ 49.75\n",
      "26  - R$ 51.74\n",
      "27  - R$ 53.73\n",
      "28  - R$ 55.72\n",
      "29  - R$ 57.71\n",
      "30  - R$ 59.7\n",
      "31  - R$ 61.69\n",
      "32  - R$ 63.68\n",
      "33  - R$ 65.67\n",
      "34  - R$ 67.66\n",
      "35  - R$ 69.65\n",
      "36  - R$ 71.64\n",
      "37  - R$ 73.63\n",
      "38  - R$ 75.62\n",
      "39  - R$ 77.61\n",
      "40  - R$ 79.6\n",
      "41  - R$ 81.59\n",
      "42  - R$ 83.58\n",
      "43  - R$ 85.57\n",
      "44  - R$ 87.56\n",
      "45  - R$ 89.55\n",
      "46  - R$ 91.54\n",
      "47  - R$ 93.53\n",
      "48  - R$ 95.52\n",
      "49  - R$ 97.51\n",
      "50  - R$ 99.5\n"
     ]
    }
   ],
   "source": [
    "'''\n",
    "O Sr. Manoel Joaquim possui uma grande loja de artigos de R$ 1,99, com cerca de 10 caixas.\n",
    "Para agilizar o cálculo de quanto cada cliente deve pagar ele desenvolveu um tabela que contém o número de itens que o cliente comprou e ao lado o valor da conta.\n",
    "Desta forma a atendente do caixa precisa apenas contar quantos itens o cliente está levando e olhar na tabela de preços. \n",
    "Você foi contratado para desenvolver o programa que monta esta tabela de preços, que conterá os preços de 1 até 50 produtos, conforme o exemplo abaixo:\n",
    "Lojas Quase Dois - Tabela de preços\n",
    "1 - R$ 1.99\n",
    "2 - R$ 3.98\n",
    "...\n",
    "50 - R$ 99.50\n",
    "'''\n",
    "valor_padrao=0\n",
    "print('Lojas Quase Dois - Tabela de preços')\n",
    "for i in range (1,51):\n",
    "    valor_padrao+=1.99\n",
    "    print(i,' - R$',round(valor_padrao,2))\n",
    "   "
   ]
  },
  {
   "cell_type": "code",
   "execution_count": 25,
   "id": "e0fc6ee7-676f-490e-911a-012605eb4c20",
   "metadata": {},
   "outputs": [
    {
     "name": "stdin",
     "output_type": "stream",
     "text": [
      "Me informe o valor do pão 0.5\n"
     ]
    },
    {
     "name": "stdout",
     "output_type": "stream",
     "text": [
      "Preço do pão: R$  0.5\n",
      "Panificadora Pão de Ontem - Tabela de preços\n",
      "1  - R$ 0.5\n",
      "2  - R$ 1.0\n",
      "3  - R$ 1.5\n",
      "4  - R$ 2.0\n",
      "5  - R$ 2.5\n",
      "6  - R$ 3.0\n",
      "7  - R$ 3.5\n",
      "8  - R$ 4.0\n",
      "9  - R$ 4.5\n",
      "10  - R$ 5.0\n",
      "11  - R$ 5.5\n",
      "12  - R$ 6.0\n",
      "13  - R$ 6.5\n",
      "14  - R$ 7.0\n",
      "15  - R$ 7.5\n",
      "16  - R$ 8.0\n",
      "17  - R$ 8.5\n",
      "18  - R$ 9.0\n",
      "19  - R$ 9.5\n",
      "20  - R$ 10.0\n",
      "21  - R$ 10.5\n",
      "22  - R$ 11.0\n",
      "23  - R$ 11.5\n",
      "24  - R$ 12.0\n",
      "25  - R$ 12.5\n",
      "26  - R$ 13.0\n",
      "27  - R$ 13.5\n",
      "28  - R$ 14.0\n",
      "29  - R$ 14.5\n",
      "30  - R$ 15.0\n",
      "31  - R$ 15.5\n",
      "32  - R$ 16.0\n",
      "33  - R$ 16.5\n",
      "34  - R$ 17.0\n",
      "35  - R$ 17.5\n",
      "36  - R$ 18.0\n",
      "37  - R$ 18.5\n",
      "38  - R$ 19.0\n",
      "39  - R$ 19.5\n",
      "40  - R$ 20.0\n",
      "41  - R$ 20.5\n",
      "42  - R$ 21.0\n",
      "43  - R$ 21.5\n",
      "44  - R$ 22.0\n",
      "45  - R$ 22.5\n",
      "46  - R$ 23.0\n",
      "47  - R$ 23.5\n",
      "48  - R$ 24.0\n",
      "49  - R$ 24.5\n",
      "50  - R$ 25.0\n"
     ]
    }
   ],
   "source": [
    "'''\n",
    "O Sr. Manoel Joaquim acaba de adquirir uma panificadora e pretende implantar a metodologia da tabelinha, que já é um sucesso na sua loja de 1,99.\n",
    "Você foi contratado para desenvolver o programa que monta a tabela de preços de pães, de 1 até 50 pães,\n",
    "a partir do preço do pão informado pelo usuário, conforme o exemplo abaixo:\n",
    "Preço do pão: R$ 0.18\n",
    "Panificadora Pão de Ontem - Tabela de preços\n",
    "1 - R$ 0.18\n",
    "2 - R$ 0.36\n",
    "...\n",
    "50 - R$ 9.00\n",
    "'''\n",
    "\n",
    "valor_pao=float(input('Me informe o valor do pão'))\n",
    "valor_padrao=0\n",
    "\n",
    "print('Preço do pão: R$ ',valor_pao)\n",
    "print('Panificadora Pão de Ontem - Tabela de preços')\n",
    "\n",
    "for i in range(1,51):\n",
    "    valor_padrao+=valor_pao\n",
    "    print(i,' - R$',round(valor_padrao,2))\n"
   ]
  },
  {
   "cell_type": "code",
   "execution_count": 37,
   "id": "a8840e0e-5fcf-4e94-98b7-0c5451feeb1c",
   "metadata": {},
   "outputs": [
    {
     "name": "stdout",
     "output_type": "stream",
     "text": [
      "O valor do produto: 1\n"
     ]
    },
    {
     "name": "stdin",
     "output_type": "stream",
     "text": [
      " 2\n"
     ]
    },
    {
     "name": "stdout",
     "output_type": "stream",
     "text": [
      "O valor do produto: 2\n"
     ]
    },
    {
     "name": "stdin",
     "output_type": "stream",
     "text": [
      " 30\n"
     ]
    },
    {
     "name": "stdout",
     "output_type": "stream",
     "text": [
      "O valor do produto: 3\n"
     ]
    },
    {
     "name": "stdin",
     "output_type": "stream",
     "text": [
      " 0\n",
      "Valor em dinheiro: 40\n"
     ]
    },
    {
     "name": "stdout",
     "output_type": "stream",
     "text": [
      "                                                                              \n",
      "------------------------------------------------------------------------------\n",
      "Lojas Tabajara \n",
      "Produto 1 : R$ 2\n",
      "Produto 2 : R$ 30\n",
      "Produto 3 : R$ 0\n",
      "Total: R$ 32\n",
      "Dinheiro: R$ 40.0\n",
      "Troco: R$ 8.0\n"
     ]
    }
   ],
   "source": [
    "'''\n",
    "O Sr. Manoel Joaquim expandiu seus negócios para além dos negócios de 1,99 e agora possui uma loja de conveniências. \n",
    "Faça um programa que implemente uma caixa registradora rudimentar. O programa deverá receber um número desconhecido de valores referentes aos preços das mercadorias.\n",
    "Um valor zero deve ser informado pelo operador para indicar o final da compra.\n",
    "O programa deve então mostrar o total da compra e perguntar o valor em dinheiro que o cliente forneceu, para então calcular e mostrar o valor do troco.\n",
    "Após esta operação, o programa deverá voltar ao ponto inicial, para registrar a próxima compra. A saída deve ser conforme o exemplo abaixo:\n",
    "Lojas Tabajara \n",
    "Produto 1: R$ 2.20\n",
    "Produto 2: R$ 5.80\n",
    "Produto 3: R$ 0\n",
    "Total: R$ 9.00\n",
    "Dinheiro: R$ 20.00\n",
    "Troco: R$ 11.00\n",
    "'''\n",
    "\n",
    "valor=1\n",
    "count=1\n",
    "total=0\n",
    "lista_produtos=[]\n",
    "\n",
    "while valor>0:\n",
    "    print('O valor do produto:',count)\n",
    "    valor=int(input())\n",
    "    total+=valor\n",
    "    count+=1\n",
    "    lista=[valor]\n",
    "    lista_produtos+=lista   \n",
    "\n",
    "dinheiro=float(input('Valor em dinheiro:'))\n",
    "troco=dinheiro-total\n",
    "count1=1\n",
    "\n",
    "print('                       ')\n",
    "print('-----------------------')\n",
    "print('Lojas Tabajara ')\n",
    "for i in range(len(lista_produtos)):\n",
    "    print('Produto',count1,': R$',lista_produtos[i])\n",
    "    count1+=1\n",
    "print('Total: R$',total)    \n",
    "print('Dinheiro: R$',dinheiro)\n",
    "print('Troco: R$',troco)\n"
   ]
  },
  {
   "cell_type": "code",
   "execution_count": 2,
   "id": "443c6d1d-b6fd-4404-85eb-adb737cb0da8",
   "metadata": {},
   "outputs": [
    {
     "name": "stdin",
     "output_type": "stream",
     "text": [
      "Me informe um numero: 6\n"
     ]
    },
    {
     "name": "stdout",
     "output_type": "stream",
     "text": [
      "Fatorial de: 6\n",
      "6! = 6. 5. 4. 3. 2. 1 = 720\n"
     ]
    }
   ],
   "source": [
    "'''\n",
    "Faça um programa que calcule o fatorial de um número inteiro fornecido pelo usuário. Ex.: 5!=5.4.3.2.1=120. A saída deve ser conforme o exemplo abaixo:\n",
    "Fatorial de: 5\n",
    "5! =  5 . 4 . 3 . 2 . 1 = 120\n",
    "'''\n",
    "numero_fatorial=int(input('Me informe um numero:'))\n",
    "total=1\n",
    "frase=str(numero_fatorial)+'! ='\n",
    "\n",
    "for i in range(1,numero_fatorial+1):\n",
    "    total*=i\n",
    "\n",
    "print('Fatorial de: '+str(numero_fatorial))\n",
    "\n",
    "for i in range(numero_fatorial,0,-1):   \n",
    "    if i==1:\n",
    "        frase1=' '+str(i)+' = '+str(total)\n",
    "    else:\n",
    "        frase1=' '+str(i)+'.'\n",
    "    frase+= frase1\n",
    "\n",
    "print(frase)"
   ]
  },
  {
   "cell_type": "code",
   "execution_count": 48,
   "id": "c3da74f6-b710-4017-8779-b6dcf8b4c7b0",
   "metadata": {},
   "outputs": [
    {
     "name": "stdout",
     "output_type": "stream",
     "text": [
      "Se quiser parar o programa digite 0\n",
      "--------------------\n",
      "\n",
      "Me informe a temperatura 1\n"
     ]
    },
    {
     "name": "stdin",
     "output_type": "stream",
     "text": [
      " 30\n"
     ]
    },
    {
     "name": "stdout",
     "output_type": "stream",
     "text": [
      "Me informe a temperatura 2\n"
     ]
    },
    {
     "name": "stdin",
     "output_type": "stream",
     "text": [
      " 20\n"
     ]
    },
    {
     "name": "stdout",
     "output_type": "stream",
     "text": [
      "Me informe a temperatura 3\n"
     ]
    },
    {
     "name": "stdin",
     "output_type": "stream",
     "text": [
      " 60\n"
     ]
    },
    {
     "name": "stdout",
     "output_type": "stream",
     "text": [
      "Me informe a temperatura 4\n"
     ]
    },
    {
     "name": "stdin",
     "output_type": "stream",
     "text": [
      " 15\n"
     ]
    },
    {
     "name": "stdout",
     "output_type": "stream",
     "text": [
      "Me informe a temperatura 5\n"
     ]
    },
    {
     "name": "stdin",
     "output_type": "stream",
     "text": [
      " -1\n"
     ]
    },
    {
     "name": "stdout",
     "output_type": "stream",
     "text": [
      "Me informe a temperatura 6\n"
     ]
    },
    {
     "name": "stdin",
     "output_type": "stream",
     "text": [
      " 0\n"
     ]
    },
    {
     "name": "stdout",
     "output_type": "stream",
     "text": [
      "--------------------\n",
      "Este é o valor maximo de temperatura informado 60.0\n",
      "Este é o valor minimo de temeperatura informado -1.0\n",
      "Este é o valor medio de temperatura 24.8\n"
     ]
    }
   ],
   "source": [
    "'''\n",
    "O Departamento Estadual de Meteorologia lhe contratou para desenvolver um programa que leia as um conjunto indeterminado de temperaturas,\n",
    "e informe ao final a menor e a maior temperaturas informadas, bem como a média das temperaturas.\n",
    "'''\n",
    "temperatura=1\n",
    "count=1\n",
    "total=0\n",
    "anteriormax=1\n",
    "anteriormin=9999999999999\n",
    "\n",
    "print('Se quiser parar o programa digite 0')\n",
    "print('--------------------')\n",
    "print('')\n",
    "\n",
    "while temperatura!=0:\n",
    "    print('Me informe a temperatura',count)\n",
    "    temperatura=float(input())\n",
    "    if temperatura>=anteriormax:\n",
    "        maximo=temperatura\n",
    "        anteriormax=maximo\n",
    "        total+=temperatura\n",
    "    elif temperatura<=anteriormin and temperatura!=0:\n",
    "        minimo=temperatura\n",
    "        anteriormin=minimo\n",
    "        total+=temperatura\n",
    "    \n",
    "    else:\n",
    "        total+=temperatura\n",
    "        \n",
    "    count+=1\n",
    "\n",
    "media=total/(count-2)    \n",
    "    \n",
    "    \n",
    "print('--------------------')\n",
    "print('Este é o valor maximo de temperatura informado',maximo)\n",
    "print('Este é o valor minimo de temeperatura informado',minimo)\n",
    "print('Este é o valor medio de temperatura',media)\n",
    "    \n"
   ]
  },
  {
   "cell_type": "code",
   "execution_count": 59,
   "id": "79253aec-1cf4-4076-ae25-f7ab6f855a25",
   "metadata": {},
   "outputs": [
    {
     "name": "stdin",
     "output_type": "stream",
     "text": [
      "Montar a tabuada de: 5\n",
      "Começar por: 4\n",
      "Terminar em: 7\n"
     ]
    },
    {
     "name": "stdout",
     "output_type": "stream",
     "text": [
      "5 x 4 = 20\n",
      "5 x 5 = 25\n",
      "5 x 6 = 30\n",
      "5 x 7 = 35\n",
      "\n"
     ]
    }
   ],
   "source": [
    "'''\n",
    "Desenvolva um programa que faça a tabuada de um número qualquer inteiro que será digitado pelo usuário, mas a tabuada não deve necessariamente iniciar em 1 e terminar em 10,\n",
    "o valor inicial e final devem ser informados também pelo usuário, conforme exemplo abaixo:\n",
    "\n",
    "Montar a tabuada de: 5\n",
    "Começar por: 4\n",
    "Terminar em: 7\n",
    "\n",
    "Vou montar a tabuada de 5 começando em 4 e terminando em 7:\n",
    "5 X 4 = 20\n",
    "5 X 5 = 25\n",
    "5 X 6 = 30\n",
    "5 X 7 = 35\n",
    "\n",
    "'''\n",
    "\n",
    "numero_tabuada=int(input('Montar a tabuada de:'))             \n",
    "inicio=int(input('Começar por:'))\n",
    "final=int(input('Terminar em:'))\n",
    "while inicio>=final:\n",
    "    print('Inicio igual que final ou menor, informar outro final')\n",
    "    final=int(input('Terminar em:'))\n",
    "\n",
    "while inicio<=final:\n",
    "    print(numero_tabuada,'x',inicio,'=',numero_tabuada*inicio) \n",
    "    inicio+=1\n",
    "\n",
    "print('----')\n",
    "\n"
   ]
  },
  {
   "cell_type": "code",
   "execution_count": 17,
   "id": "638d97e1-940e-4e1a-979c-d8a702ca33ac",
   "metadata": {},
   "outputs": [
    {
     "name": "stdin",
     "output_type": "stream",
     "text": [
      "Me informe sua altura: 1.8\n",
      "Me informe seu peso: 55\n",
      "Me informe sua altura: 1.8\n",
      "Me informe seu peso: 60\n",
      "Me informe sua altura: 0\n"
     ]
    },
    {
     "name": "stdout",
     "output_type": "stream",
     "text": [
      "------------------------------\n",
      "Altura maxima: 1.8\n",
      "Altura minima: 0\n",
      "Maior peso: 60.0\n",
      "Menor peso: 55.0\n"
     ]
    }
   ],
   "source": [
    "'''\n",
    "Uma academia deseja fazer um senso entre seus clientes para descobrir o mais alto, o mais baixo, a mais gordo e o mais magro, \n",
    "para isto você deve fazer um programa que pergunte a cada um dos clientes da academia seu código, sua altura e seu peso. \n",
    "O final da digitação de dados deve ser dada quando o usuário digitar 0 (zero) no campo código. \n",
    "Ao encerrar o programa também deve ser informados os códigos e valores do clente mais alto, do mais baixo, do mais gordo e do mais magro,\n",
    "além da média das alturas e dos pesos dos clientes.\n",
    "'''\n",
    "\n",
    "altura=1\n",
    "\n",
    "altura_maxima=0\n",
    "altura_minima=0\n",
    "anterior_alturamax=0\n",
    "anterior_alturamin=99999999\n",
    "\n",
    "maior_peso=0\n",
    "menor_peso=0\n",
    "anterior_pesomax=0\n",
    "anterior_pesomin=99999999\n",
    "\n",
    "while altura>0:\n",
    "    altura=float(input('Me informe sua altura:'))\n",
    "    if altura>=anterior_alturamax:                         #maior altura \n",
    "        altura_maxima=altura\n",
    "        anterior_alturamax=altura_maxima\n",
    "        \n",
    "    elif altura<anterior_alturamin and altura>0:           #menor altura\n",
    "        altura_minima=altura\n",
    "        anterior_alturamin=altura_minima\n",
    "    \n",
    "    \n",
    "        \n",
    "    if altura!=0:\n",
    "        peso=float(input('Me informe seu peso:'))\n",
    "        if peso>anterior_pesomax:\n",
    "            maior_peso=peso\n",
    "            anterior_pesomax=maior_peso\n",
    "\n",
    "        elif peso<anterior_pesomin and peso>0:\n",
    "            menor_peso=peso\n",
    "            anterior_pesomin=menor_peso\n",
    "    \n",
    "        if menor_peso==0:                      \n",
    "            menor_peso=peso\n",
    "print('-'*30)\n",
    "print('Altura maxima:',altura_maxima)\n",
    "print('Altura minima:',altura_minima)\n",
    "print('Maior peso:',maior_peso)\n",
    "print('Menor peso:',menor_peso)\n",
    "\n",
    "\n",
    "\n"
   ]
  },
  {
   "cell_type": "code",
   "execution_count": 35,
   "id": "a8679842-c81c-481c-a00a-bbc1932a3f3f",
   "metadata": {},
   "outputs": [
    {
     "name": "stdout",
     "output_type": "stream",
     "text": [
      "1015\n",
      "1045\n",
      "1108\n",
      "1241\n",
      "1539\n",
      "2277\n",
      "4464\n",
      "13036\n"
     ]
    }
   ],
   "source": [
    "'''\n",
    "Um funcionário de uma empresa recebe aumento salarial anualmente: Sabe-se que:\n",
    "Esse funcionário foi contratado em 1995, com salário inicial de R$ 1.000,00;\n",
    "Em 1996 recebeu aumento de 1,5% sobre seu salário inicial;\n",
    "A partir de 1997 (inclusive), os aumentos salariais sempre correspondem ao dobro do percentual do ano anterior. \n",
    "Faça um programa que determine o salário atual desse funcionário.\n",
    "Após concluir isto, altere o programa permitindo que o usuário digite o salário inicial do funcionário.\n",
    "'''\n",
    "\n",
    "salario_inicial=1000\n",
    "percentual_anual=0.015\n",
    "\n",
    "ano_contratado=1995\n",
    "ano_atual=2002\n",
    "\n",
    "while ano_contratado<=ano_atual:\n",
    "    \n",
    "    salario_inicial=salario_inicial+(salario_inicial*percentual_anual)\n",
    "    \n",
    "    percentual_anual+=(percentual_anual)\n",
    "    \n",
    "    ano_contratado+=1\n",
    "    \n",
    "\n",
    "print(int(salario_inicial))\n"
   ]
  },
  {
   "cell_type": "code",
   "execution_count": 37,
   "id": "b8cd921d-92c9-4e90-9a80-4e3cf12073a8",
   "metadata": {},
   "outputs": [
    {
     "name": "stdout",
     "output_type": "stream",
     "text": [
      "Numero do aluno 1\n"
     ]
    },
    {
     "name": "stdin",
     "output_type": "stream",
     "text": [
      "Me infome altura 1.8\n"
     ]
    },
    {
     "name": "stdout",
     "output_type": "stream",
     "text": [
      "Numero do aluno 2\n"
     ]
    },
    {
     "name": "stdin",
     "output_type": "stream",
     "text": [
      "Me infome altura 1.5\n"
     ]
    },
    {
     "name": "stdout",
     "output_type": "stream",
     "text": [
      "Numero do aluno 3\n"
     ]
    },
    {
     "name": "stdin",
     "output_type": "stream",
     "text": [
      "Me infome altura 1.6\n"
     ]
    },
    {
     "name": "stdout",
     "output_type": "stream",
     "text": [
      "Numero do aluno 4\n"
     ]
    },
    {
     "name": "stdin",
     "output_type": "stream",
     "text": [
      "Me infome altura 1.8\n"
     ]
    },
    {
     "name": "stdout",
     "output_type": "stream",
     "text": [
      "Numero do aluno 5\n"
     ]
    },
    {
     "name": "stdin",
     "output_type": "stream",
     "text": [
      "Me infome altura 2.4\n"
     ]
    },
    {
     "name": "stdout",
     "output_type": "stream",
     "text": [
      "Numero do aluno 6\n"
     ]
    },
    {
     "name": "stdin",
     "output_type": "stream",
     "text": [
      "Me infome altura 2.1\n"
     ]
    },
    {
     "name": "stdout",
     "output_type": "stream",
     "text": [
      "Numero do aluno 7\n"
     ]
    },
    {
     "name": "stdin",
     "output_type": "stream",
     "text": [
      "Me infome altura 2\n"
     ]
    },
    {
     "name": "stdout",
     "output_type": "stream",
     "text": [
      "Numero do aluno 8\n"
     ]
    },
    {
     "name": "stdin",
     "output_type": "stream",
     "text": [
      "Me infome altura 1.4\n"
     ]
    },
    {
     "name": "stdout",
     "output_type": "stream",
     "text": [
      "Numero do aluno 9\n"
     ]
    },
    {
     "name": "stdin",
     "output_type": "stream",
     "text": [
      "Me infome altura 1.9\n"
     ]
    },
    {
     "name": "stdout",
     "output_type": "stream",
     "text": [
      "O aluno de numero: 8 tem a menor altura: 1.4\n",
      "O aluno de numero: 5 tem a menor altura: 2.4\n"
     ]
    }
   ],
   "source": [
    "'''\n",
    "Faça um programa que leia dez conjuntos de dois valores, o primeiro representando o número do aluno e o segundo representando a sua altura em centímetros\n",
    ". Encontre o aluno mais alto e o mais baixo. Mostre o número do aluno mais alto e o número do aluno mais baixo, junto com suas alturas.\n",
    "'''\n",
    "\n",
    "for i in range(1,11):\n",
    "    print('Numero do aluno',i)\n",
    "    altura=float(input('Me infome altura'))\n",
    "    \n",
    "    if altura>anterior_alturamax:\n",
    "        alturamax=altura\n",
    "        numero_alunomax=i\n",
    "        anterior_alturamax=alturamax\n",
    "\n",
    "    elif altura<anterior_alturamin:\n",
    "        alturamin=altura\n",
    "        numero_alunomin=i\n",
    "        anterior_alturamin=alturamin\n",
    "    \n",
    "print('O aluno de numero:',numero_alunomin,'tem a menor altura:',alturamin)\n",
    "print('O aluno de numero:',numero_alunomax,'tem a menor altura:',alturamax)\n",
    "        "
   ]
  },
  {
   "cell_type": "code",
   "execution_count": 28,
   "id": "b1d5c49e-726a-41c6-8b14-ac61bf878740",
   "metadata": {},
   "outputs": [
    {
     "name": "stdin",
     "output_type": "stream",
     "text": [
      "Informe o codigo da cidade 1\n",
      "Me informe o numero de carros de 1999 200\n",
      "Me informe o numero de acidentes na cidade: 30\n",
      "Informe o codigo da cidade 2\n",
      "Me informe o numero de carros de 1999 300\n",
      "Me informe o numero de acidentes na cidade: 20\n"
     ]
    },
    {
     "name": "stdout",
     "output_type": "stream",
     "text": [
      "------------------------------------------------------------\n",
      "Media de veiculos nas 5 cidades\n",
      "O valor maximo de acidentes 30 cidade: 1\n",
      "O valor minimo de acidentes 20 cidade: 2\n",
      "média de acidentes de trânsito nas cidades com menos de 2.000 veículos de passeio: 25.0\n"
     ]
    }
   ],
   "source": [
    "'''\n",
    "Foi feita uma estatística em cinco cidades brasileiras para coletar dados sobre acidentes de trânsito. Foram obtidos os seguintes dados:\n",
    "Código da cidade;\n",
    "Número de veículos de passeio (em 1999);\n",
    "Número de acidentes de trânsito com vítimas (em 1999).\n",
    "\n",
    "Deseja-se saber:\n",
    "Qual o maior e menor índice de acidentes de transito e a que cidade pertence;\n",
    "\n",
    "Qual a média de acidentes de trânsito nas cidades com menos de 2.000 veículos de passeio.\n",
    "\n",
    "'''\n",
    "maximo_acidentes=0\n",
    "anterior_max=0\n",
    "\n",
    "veiculos_total=0\n",
    "\n",
    "anterior_min=9999999\n",
    "minimo_acidentes=0\n",
    "\n",
    "total_acidentes=0\n",
    "\n",
    "for i in range(5):\n",
    "    codigo=input('Informe o codigo da cidade')\n",
    "    carros_passeio=int(input('Me informe o numero de carros de 1999'))\n",
    "    veiculos_total+=carros_passeio\n",
    "\n",
    "    acidentes=int(input('Me informe o numero de acidentes na cidade:'))\n",
    "    \n",
    "    if carros_passeio<2000:\n",
    "        total_acidentes+=acidentes\n",
    "\n",
    "    if acidentes>=anterior_max:\n",
    "        maximo_acidentes= acidentes\n",
    "        anterior_max=maximo_acidentes\n",
    "        cidade_max=codigo\n",
    "\n",
    "    elif acidentes<anterior_min:\n",
    "        minimo_acidentes=acidentes\n",
    "        anterior_min=minimo_acidentes\n",
    "        cidade_min=codigo\n",
    "    \n",
    "\n",
    "media_veiculos=veiculos_total/len(range(i+1))\n",
    "media_acidentes2000=total_acidentes/len(range(i+1))\n",
    "\n",
    "print('--'*40)\n",
    "print('Media de veiculos nas 5 cidades')\n",
    "print('O valor maximo de acidentes',maximo_acidentes,'cidade:',cidade_max)\n",
    "print('O valor minimo de acidentes',minimo_acidentes,'cidade:',cidade_min)\n",
    "print('média de acidentes de trânsito nas cidades com menos de 2.000 veículos de passeio:',media_acidentes2000)\n",
    "                \n",
    "\n",
    "\n",
    "\n"
   ]
  },
  {
   "cell_type": "code",
   "execution_count": 29,
   "id": "4f93a9c2-edd5-4711-b614-fa09074f2e43",
   "metadata": {},
   "outputs": [
    {
     "name": "stdin",
     "output_type": "stream",
     "text": [
      "Me informe o valor inicial divida: 2000\n"
     ]
    },
    {
     "name": "stdout",
     "output_type": "stream",
     "text": [
      "Valor da Dívida | Valor dos Juros | Quantidade de Parcelas | Valor da Parcela |\n",
      "R$ 2000.0           0.0                 1                        R$ 2000.0\n",
      "R$ 2200.0           200.0               3                        R$ 733.33\n",
      "R$ 2300.0           300.0               6                        R$ 383.33\n",
      "R$ 2400.0           400.0               9                        R$ 266.67\n"
     ]
    }
   ],
   "source": [
    "'''\n",
    "Faça um programa que receba o valor de uma dívida e mostre uma tabela com os seguintes dados: valor da dívida, valor dos juros, quantidade de parcelas e valor da parcela.\n",
    "Os juros e a quantidade de parcelas seguem a tabela abaixo:\n",
    "QP     %Juros \n",
    "1       0\n",
    "3       10\n",
    "6       15\n",
    "9       20\n",
    "12      25\n",
    "'''\n",
    "\n",
    "divida=float(input('Me informe o valor inicial divida:'))\n",
    "pacelas=1\n",
    "juros=0\n",
    "porcentagemj=0\n",
    "\n",
    "frase= 'Valor da Dívida | Valor dos Juros | Quantidade de Parcelas | Valor da Parcela |'\n",
    "frase2= 'R$ '+str(divida*(1+porcentagemj))+'           '+str(porcentagemj*divida)+'                 '+str(pacelas)+'                        R$ '+str(round((divida*(1+porcentagemj)/pacelas),2))\n",
    "\n",
    "print(frase)\n",
    "\n",
    "while pacelas<12:\n",
    "\n",
    "    if pacelas==1:\n",
    "        pacelas+=2\n",
    "        juros+=10\n",
    "        porcentagemj+=0.1\n",
    "        print(frase2)\n",
    "    elif pacelas==12:\n",
    "        pacelas+=3\n",
    "        juros+=5\n",
    "        porcentagemj+=0.05\n",
    "\n",
    "        print(frase2)\n",
    "    else:\n",
    "        pacelas+=3\n",
    "        juros+=5\n",
    "        porcentagemj+=0.05\n",
    "        print(frase2)\n",
    "    \n",
    "    frase2='R$ '+str(round(divida*(1+porcentagemj),2))+'           '+str(round(porcentagemj*divida,1))+'               '+str(pacelas)+'                        R$ '+str(round((divida*(1+porcentagemj)/pacelas),2))\n",
    "    \n",
    "   \n",
    "\n",
    "    \n",
    "    \n",
    "\n",
    "\n"
   ]
  },
  {
   "cell_type": "code",
   "execution_count": 3,
   "id": "d091018c-d975-4db4-b167-39a18d3ada10",
   "metadata": {},
   "outputs": [
    {
     "name": "stdin",
     "output_type": "stream",
     "text": [
      "Me informe um numero 3\n",
      "Me informe um numero 26\n",
      "Me informe um numero 40\n",
      "Me informe um numero 100\n",
      "Me informe um numero 75\n",
      "Me informe um numero 14\n",
      "Me informe um numero 78\n",
      "Me informe um numero -1\n"
     ]
    },
    {
     "name": "stdout",
     "output_type": "stream",
     "text": [
      "A quantidade de numeros dentro do intervalo de 0-25 é: 2\n",
      "A quantidade de numeros dentro do intervalo de 26-50 é: 2\n",
      "A quantidade de numeros dentro do intervalo de 51-75 é: 1\n",
      "A quantidade de numeros dentro do intervalo de 76-100 é: 2\n"
     ]
    }
   ],
   "source": [
    "'''\n",
    "Faça um programa que leia uma quantidade indeterminada de números positivos e conte quantos deles estão nos seguintes intervalos: [0-25], [26-50], [51-75] e [76-100].\n",
    "A entrada de dados deverá terminar quando for lido um número negativo.\n",
    "'''\n",
    "\n",
    "x=0\n",
    "\n",
    "lista=[]\n",
    "lista1=[]\n",
    "lista2=[]\n",
    "lista3=[]\n",
    "\n",
    "while x>=0:\n",
    "    x=int(input('Me informe um numero'))\n",
    "    \n",
    "    if x>=0 and x<=25:\n",
    "        valor=[x]\n",
    "        lista+=valor\n",
    "    elif x>=26 and x<=50:\n",
    "        valor=[x]\n",
    "        lista1+=valor\n",
    "    elif x>=51 and x<=75:\n",
    "        valor=[x]\n",
    "        lista2+=valor\n",
    "    elif x>=76 and x<=100:\n",
    "        valor=[x]\n",
    "        lista3+=valor\n",
    "\n",
    "    \n",
    "print('A quantidade de numeros dentro do intervalo de 0-25 é:',len(lista))\n",
    "print('A quantidade de numeros dentro do intervalo de 26-50 é:',len(lista1))\n",
    "print('A quantidade de numeros dentro do intervalo de 51-75 é:',len(lista2))\n",
    "print('A quantidade de numeros dentro do intervalo de 76-100 é:',len(lista3))\n",
    "    "
   ]
  },
  {
   "cell_type": "code",
   "execution_count": null,
   "id": "0e3f8a72-f7ee-40c5-b2ee-4221467d5f55",
   "metadata": {},
   "outputs": [],
   "source": []
  }
 ],
 "metadata": {
  "kernelspec": {
   "display_name": "Python 3 (ipykernel)",
   "language": "python",
   "name": "python3"
  },
  "language_info": {
   "codemirror_mode": {
    "name": "ipython",
    "version": 3
   },
   "file_extension": ".py",
   "mimetype": "text/x-python",
   "name": "python",
   "nbconvert_exporter": "python",
   "pygments_lexer": "ipython3",
   "version": "3.10.9"
  }
 },
 "nbformat": 4,
 "nbformat_minor": 5
}
