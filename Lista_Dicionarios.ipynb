{
 "cells": [
  {
   "cell_type": "code",
   "execution_count": 1,
   "id": "203c881e-c6c3-4da7-bbbf-c2a6bbc159f9",
   "metadata": {},
   "outputs": [],
   "source": [
    "# Lista retirada do canal: https://www.youtube.com/watch?v=ZWj8o692qGY&t=42s"
   ]
  },
  {
   "cell_type": "code",
   "execution_count": 8,
   "id": "9fe96d3f-3c9e-46e1-8d37-92eced3410ba",
   "metadata": {},
   "outputs": [
    {
     "name": "stdin",
     "output_type": "stream",
     "text": [
      "Nome: Tarcisio\n",
      "Media: 9\n"
     ]
    },
    {
     "name": "stdout",
     "output_type": "stream",
     "text": [
      "------------------------------\n",
      "O aluno Tarcisio teve uma média 9 e está Aprovado\n"
     ]
    }
   ],
   "source": [
    "# Faça um programa que leia o nome e a média do aluno, guardando também a situação em um dicionário. No final, mostre-o construindo da estrutura na tela.\n",
    "\n",
    "dicionario=dict()\n",
    "\n",
    "dicionario['nome']=str(input('Nome:'))\n",
    "dicionario['media']=int(input('Media:'))\n",
    "\n",
    "if dicionario['media']>=7:\n",
    "    dicionario['situacao']='aprovado'\n",
    "\n",
    "else:\n",
    "    dicionario['situacao']='reprovado'\n",
    "\n",
    "print('-'*30)\n",
    "\n",
    "print(f'O aluno {dicionario[\"nome\"]} teve uma média {dicionario[\"media\"]} e está {dicionario[\"situacao\"]}')\n",
    "\n"
   ]
  },
  {
   "cell_type": "code",
   "execution_count": 31,
   "id": "5b051604-eb76-46f5-911f-8a5342686ae8",
   "metadata": {},
   "outputs": [
    {
     "name": "stdout",
     "output_type": "stream",
     "text": [
      "jogador 1 tirou 5 no dado.\n",
      "jogador 2 tirou 1 no dado.\n",
      "jogador 3 tirou 2 no dado.\n",
      "jogador 4 tirou 3 no dado.\n",
      "\n",
      "==============================\n",
      "\n",
      "RANKING DE JOGADORES\n",
      "=============\n",
      "jogador 1 = 5\n",
      "jogador 4 = 3\n",
      "jogador 3 = 2\n",
      "jogador 2 = 1\n"
     ]
    }
   ],
   "source": [
    "'''\n",
    "Crie um programa onde 4 jogadores joguem um dado e tenham resultados aleatórios, guarde esses resultados em um dicionário.\n",
    "No final coloque esse dicionário em ordem, sabendo que o vencedor tirou o maior numero no dado. \n",
    "'''\n",
    "import random\n",
    "import time\n",
    "\n",
    "dicionario=dict()\n",
    "for i in range(4):\n",
    "    valor_dado= random.randrange(1,7)\n",
    "    dicionario[f'jogador {i+1}'] = valor_dado \n",
    "\n",
    "for k,v in dicionario.items():\n",
    "    print(f'{k} tirou {v} no dado.')\n",
    "    time.sleep(1)\n",
    "print('')\n",
    "print('='*30)\n",
    "print('RANKING DE JOGADORES')\n",
    "for x in sorted(dicionario, key = dicionario.get, reverse=True):\n",
    "    print(f'{x} = {dicionario[x]}')\n"
   ]
  },
  {
   "cell_type": "code",
   "execution_count": 37,
   "id": "21925cf0-d73e-4f8d-a26e-167099589689",
   "metadata": {},
   "outputs": [
    {
     "name": "stdout",
     "output_type": "stream",
     "text": [
      "jogador 1 tirou 6 no dado.\n",
      "jogador 2 tirou 2 no dado.\n",
      "jogador 3 tirou 1 no dado.\n",
      "jogador 4 tirou 1 no dado.\n",
      "====================\n",
      "RANKING DOS JOGADORE\n",
      "O 1 lugar: jogador 1 com 6.\n",
      "O 2 lugar: jogador 2 com 2.\n",
      "O 3 lugar: jogador 3 com 1.\n",
      "O 4 lugar: jogador 4 com 1.\n"
     ]
    }
   ],
   "source": [
    "'''\n",
    "Crie um programa onde 4 jogadores joguem um dado e tenham resultados aleatórios, guarde esses resultados em um dicionário.\n",
    "No final coloque esse dicionário em ordem, sabendo que o vencedor tirou o maior numero no dado. \n",
    "'''\n",
    "import random\n",
    "import time\n",
    "import operator\n",
    "\n",
    "dicionario=dict()\n",
    "for i in range(4):\n",
    "    valor_dado= random.randrange(1,7)                                             # coloca um valor aleátorio\n",
    "    dicionario[f'jogador {i+1}'] = valor_dado \n",
    "\n",
    "for k,v in dicionario.items():\n",
    "    print(f'{k} tirou {v} no dado.')\n",
    "    time.sleep(1)                                                                 # Coloca um timer aparecer alguma mensagem no codigo\n",
    "\n",
    "ranking=sorted(dicionario.items(), key=operator.itemgetter(1), reverse=True)      # faz a chave a valor do dicionario se transformarem em uma tupla e os coloca dentro de uma lista.\n",
    "\n",
    "print('====================')\n",
    "print('RANKING DOS JOGADORES')\n",
    "for z,v in enumerate(ranking):\n",
    "    print(f'O {z+1} lugar: {v[0]} com {v[1]}.')\n",
    "    time.sleep(1)\n",
    "    \n"
   ]
  },
  {
   "cell_type": "code",
   "execution_count": 46,
   "id": "d7714ff7-094a-4a20-b723-cf5b9a2277a5",
   "metadata": {},
   "outputs": [
    {
     "name": "stdin",
     "output_type": "stream",
     "text": [
      "Nome: Tarcisio\n",
      "Idade 22\n",
      "Cateira de trabalho (0 se não tiver): 1234\n",
      "Ano contratação: 2022\n",
      "Salario 1000\n"
     ]
    },
    {
     "name": "stdout",
     "output_type": "stream",
     "text": [
      "-=-=-=-=-=-=-=-=-=-=-=-=-=-=-=-=-=-=-=-=-=-=-=-=-=-=-=-=-=-=\n",
      "-nometem o valorTarcisio\n",
      "-idadetem o valor22\n",
      "-crpstem o valor1234\n",
      "-anotem o valor2022\n",
      "-salariotem o valor1000\n",
      "-aposentadoriatem o valor57\n"
     ]
    }
   ],
   "source": [
    "'''\n",
    "3-Crie um programa que leia nome, ano de nascimento e carteira de trabalho cadastre-os com ideade em um dicionpario se por o ctps for diferente de zero,\n",
    "o dicionarioo receberá também o ano de contratação e o salário. Calcule e acrescente, além da idade, com quantos anos a pessoa vai se aposentar.\n",
    "'''\n",
    "\n",
    "informacao=dict()\n",
    "\n",
    "informacao['nome']=input('Nome:')\n",
    "informacao['idade']=int(input('Idade'))\n",
    "informacao['crps']=int(input('Cateira de trabalho (0 se não tiver):'))\n",
    "\n",
    "if informacao['crps'] != 0:\n",
    "    informacao['ano']= int(input('Ano contratação:'))\n",
    "    informacao['salario']=int(input('Salario'))\n",
    "    informacao['aposentadoria']=informacao['idade']+35\n",
    "    \n",
    "print('-='*20)\n",
    "for k,v in informacao.items():\n",
    "    print(f'-{k}tem o valor{v}')\n",
    "\n"
   ]
  },
  {
   "cell_type": "code",
   "execution_count": 1,
   "id": "3685ae3c-02e4-4495-874c-a73d59b8bdb4",
   "metadata": {},
   "outputs": [
    {
     "name": "stdin",
     "output_type": "stream",
     "text": [
      "Nome tata\n",
      "Quantas partidas jogou ? 3\n",
      "Quantos gols na partida 1 ? 1\n",
      "Quantos gols na partida 2 ? 2\n",
      "Quantos gols na partida 3 ? 3\n"
     ]
    },
    {
     "name": "stdout",
     "output_type": "stream",
     "text": [
      "-=-=-=-=-=-=-=-=-=-=-=-=-=-=-=-=-=-=-=-=\n",
      "O jogador tata jogou 3 partidas.\n",
      "         => Na partida 1, fez 1 gols.\n",
      "         => Na partida 2, fez 2 gols.\n",
      "         => Na partida 3, fez 3 gols.\n",
      "Foi um total de 6 gols.\n"
     ]
    }
   ],
   "source": [
    "'''\n",
    " Crie um programa que genrencie o aproveitamento de um jogador de futebol. O programa vai ler o nome do jogador e quantas partidas ele jogou. \n",
    " Depois vai ler a quantidade de gols feitos em cada partida. No final, tudo será guardado em um dicionário, incluindo o total de gols feitos duretante o campeonato. \n",
    "'''\n",
    "dados=dict()\n",
    "lista_gols=list()\n",
    "count=1\n",
    "\n",
    "dados['nome']=input('Nome')\n",
    "partidas=int(input('Quantas partidas jogou ?'))\n",
    "\n",
    "for i in range(partidas):\n",
    "    lista=int(input(f'Quantos gols na partida {i+1} ?'))\n",
    "    lista_gols.append(lista)\n",
    "    \n",
    "dados['gols']=lista_gols[:]\n",
    "dados['total'] = sum(dados['gols'])\n",
    "\n",
    "print('-='*20)\n",
    "\n",
    "print(f'O jogador {dados[\"nome\"]} jogou {partidas} partidas.')\n",
    "\n",
    "for x in dados['gols']:\n",
    "    print(f'         => Na partida {count}, fez {x} gols.')\n",
    "    count+=1\n",
    "\n",
    "print(f'Foi um total de {dados[\"total\"]} gols.')\n",
    "\n"
   ]
  },
  {
   "cell_type": "code",
   "execution_count": 22,
   "id": "e47f380b-cf28-4c3f-9084-db218c43b08f",
   "metadata": {},
   "outputs": [
    {
     "name": "stdin",
     "output_type": "stream",
     "text": [
      "Nome: tarcisio\n",
      "Sexo: m\n",
      "Idade: 22\n",
      "Deseja continuar S/N ? s\n",
      "Nome: adriano\n",
      "Sexo: 25\n",
      "Idade: 25\n",
      "Deseja continuar S/N ? s\n",
      "Nome: apolonia\n",
      "Sexo: f\n",
      "Idade: 21\n",
      "Deseja continuar S/N ? s\n",
      "Nome: andreia\n",
      "Sexo: m\n",
      "Idade: 26\n",
      "Deseja continuar S/N ? s\n",
      "Nome: cleiton\n",
      "Sexo: f\n",
      "Idade: 23\n",
      "Deseja continuar S/N ? n\n"
     ]
    },
    {
     "name": "stdout",
     "output_type": "stream",
     "text": [
      "\n",
      "-=-=-=-=-=-=-=-=-=-=-=-=-=-=-=-=-=-=-=-=\n",
      "Foram cadastradas 5 pessoas\n",
      "-=-=-=-=-=-=-=-=-=-=-=-=-=-=-=-=-=-=-=-=\n",
      "A media de idade do grupo é 23.4 anos\n",
      "A a lista de todas as mulheres do grupo:\n",
      "       => nome=apolonia; sexo=f; idade=21\n",
      "       => nome=cleiton; sexo=f; idade=23\n",
      "As pessoas que estão acima da media:\n",
      "       => nome =adriano; sexo=25; idade=25\n",
      "       => nome =andreia; sexo=m; idade=26\n"
     ]
    }
   ],
   "source": [
    "'''\n",
    "Crie um programa que leia nome, sexo e idade de várias pessoas, guardado os dados de cada pessoa em um dicionário e todos os dicionários em uma lista . No final, mostre: \n",
    "Quantas pessoas foram cadastradas.\n",
    "A media de idade do grupo.\n",
    "Uma lista com todas as mulheres.\n",
    "Uma lista com todos as pessoas com idade acima da média.\n",
    "'''\n",
    "\n",
    "lista_pessoas=list()\n",
    "lista_mulheres=list()\n",
    "lista_acimaM=list()\n",
    "\n",
    "total_idade=0\n",
    "\n",
    "\n",
    "while True:\n",
    "    pessoa=dict()\n",
    "    pessoa['nome']=input('Nome:')\n",
    "    pessoa['sexo']=input('Sexo:')\n",
    "    pessoa['idade']=int(input('Idade:'))\n",
    "    lista_pessoas.append(pessoa)\n",
    "    \n",
    "    total_idade+= pessoa['idade']\n",
    "    \n",
    "    if pessoa['sexo'] == 'f' or pessoa['sexo'] == 'F':\n",
    "        lista_mulheres.append(pessoa)\n",
    "\n",
    "    desejo=input('Deseja continuar S/N ?').upper()[0]\n",
    "    if desejo == 'n' or desejo == 'N':\n",
    "        break\n",
    "    \n",
    "media= total_idade/len(lista_pessoas)\n",
    "\n",
    "for i in range(len(lista_pessoas)):\n",
    "    if lista_pessoas[i][\"idade\"]>media:\n",
    "        lista_acimaM.append(lista_pessoas[i])\n",
    "\n",
    "        \n",
    "print('')\n",
    "print('-='*20)\n",
    "print(f'Foram cadastradas {len(lista_pessoas)} pessoas')\n",
    "print('-='*20)\n",
    "print(f'A media de idade do grupo é {media} anos')\n",
    "\n",
    "print(f'A a lista de todas as mulheres do grupo:')\n",
    "for n in lista_mulheres:\n",
    "    print(f'       => nome={n[\"nome\"]}; sexo={n[\"sexo\"]}; idade={n[\"idade\"]}')\n",
    "    \n",
    "print(f'As pessoas que estão acima da media:')\n",
    "for z in lista_acimaM:\n",
    "    print(f'       => nome ={z[\"nome\"]}; sexo={z[\"sexo\"]}; idade={z[\"idade\"]}')\n"
   ]
  },
  {
   "cell_type": "code",
   "execution_count": null,
   "id": "1442759f-f9ac-4b2c-8570-7b85a08e8a1d",
   "metadata": {},
   "outputs": [],
   "source": []
  }
 ],
 "metadata": {
  "kernelspec": {
   "display_name": "Python 3 (ipykernel)",
   "language": "python",
   "name": "python3"
  },
  "language_info": {
   "codemirror_mode": {
    "name": "ipython",
    "version": 3
   },
   "file_extension": ".py",
   "mimetype": "text/x-python",
   "name": "python",
   "nbconvert_exporter": "python",
   "pygments_lexer": "ipython3",
   "version": "3.11.5"
  }
 },
 "nbformat": 4,
 "nbformat_minor": 5
}
