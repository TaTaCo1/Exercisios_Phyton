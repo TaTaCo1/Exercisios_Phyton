{
 "cells": [
  {
   "cell_type": "code",
   "execution_count": null,
   "id": "384ca89b-3b48-4b3a-9b1b-3062b6d936de",
   "metadata": {},
   "outputs": [],
   "source": [
    "# Lista disponivel no site https://wiki.python.org.br/ExerciciosListas.\n"
   ]
  },
  {
   "cell_type": "code",
   "execution_count": 1,
   "id": "b823e73e-1aaf-4f18-b0db-9be05cfb58c9",
   "metadata": {},
   "outputs": [
    {
     "name": "stdout",
     "output_type": "stream",
     "text": [
      "[1, 2, 3, 4, 5]\n"
     ]
    }
   ],
   "source": [
    "#Faça um Programa que leia um vetor de 5 números inteiros e mostre-os.\n",
    "vetor=[1,2,3,4,5]\n",
    "\n",
    "print(vetor)\n"
   ]
  },
  {
   "cell_type": "code",
   "execution_count": 2,
   "id": "3ebf7777-4f9d-48ab-8ae4-00ee9ee7ea28",
   "metadata": {},
   "outputs": [
    {
     "name": "stdout",
     "output_type": "stream",
     "text": [
      "[0, 9, 8, 7, 6, 5, 4, 3, 2, 1]\n"
     ]
    }
   ],
   "source": [
    "# Faça um Programa que leia um vetor de 10 números reais e mostre-os na ordem inversa.\n",
    "\n",
    "numeros=[1,2,3,4,5,6,7,8,9,0]\n",
    "\n",
    "numeros.reverse()  # função que inverte o vetor.\n",
    "\n",
    "print(x)\n"
   ]
  },
  {
   "cell_type": "code",
   "execution_count": 4,
   "id": "4b71b69b-85d2-49ce-8b09-073a116f40ab",
   "metadata": {},
   "outputs": [
    {
     "name": "stdout",
     "output_type": "stream",
     "text": [
      "7.8\n",
      "10\n",
      "6.9\n",
      "8\n",
      "Média é igual a: 8.175\n"
     ]
    }
   ],
   "source": [
    "# Faça um Programa que leia 4 notas, mostre as notas e a média na tela.\n",
    "\n",
    "notas=[7.8,10,6.9,8]\n",
    "\n",
    "for i in notas:\n",
    "    print(i)\n",
    "\n",
    "print('Média é igual a:',(sum(notas)/len(notas)))"
   ]
  },
  {
   "cell_type": "code",
   "execution_count": 27,
   "id": "d710d8f7-a941-47cc-9f0b-9a60320d88e6",
   "metadata": {},
   "outputs": [
    {
     "name": "stdout",
     "output_type": "stream",
     "text": [
      "Numero de consoantes: 6\n",
      "['r', 't', 'k', 'g', 'f', 'r']\n"
     ]
    }
   ],
   "source": [
    "# Faça um Programa que leia um vetor de 10 caracteres, e diga quantas consoantes foram lidas. Imprima as consoantes.\n",
    "\n",
    "palavra= 'aeiortkgfr'\n",
    "\n",
    "palavra.split()  # função que separa a uma string em elementos de uma lista\n",
    "\n",
    "count=0\n",
    "count1=0\n",
    "lista=[]\n",
    "\n",
    "for i in palavra:\n",
    "\n",
    "    if i in 'aeiou':\n",
    "        count+=1\n",
    "    else:\n",
    "        count1+=1\n",
    "        lista.append(i)\n",
    "    \n",
    "print('Numero de consoantes:',count1)\n",
    "print(lista)\n"
   ]
  },
  {
   "cell_type": "code",
   "execution_count": 30,
   "id": "d95e41ef-67d3-4437-a2df-4399626c5f03",
   "metadata": {},
   "outputs": [
    {
     "name": "stdout",
     "output_type": "stream",
     "text": [
      "--------------------------------------------------\n",
      "Vetor lista [1, 2, 3, 4, 5, 6, 7, 8, 9, 10, 11, 12, 13, 14, 15, 16, 17, 18, 19, 20]\n",
      "--------------------------------------------------\n",
      "Vetor pares [2, 4, 6, 8, 10, 12, 14, 16, 18, 20]\n",
      "Vetor impares [1, 3, 5, 7, 9, 11, 13, 15, 17, 19]\n"
     ]
    }
   ],
   "source": [
    "''' \n",
    "Faça um Programa que leia 20 números inteiros e armazene-os num vetor. \n",
    "Armazene os números pares no vetor PAR e os números IMPARES no vetor impar. Imprima os três vetores.\n",
    "'''\n",
    "\n",
    "vetor=[1,2,3,4,5,6,7,8,9,10,11,12,13,14,15,16,17,18,19,20]\n",
    "\n",
    "par=[]\n",
    "impares=[]\n",
    "\n",
    "for i in vetor:\n",
    "    if i%2==0:\n",
    "        par.append(i)\n",
    "    else:\n",
    "        impares.append(i)\n",
    "\n",
    "print('-'*50)\n",
    "print('Vetor lista',vetor)\n",
    "print('-'*50)\n",
    "print('Vetor pares',par)\n",
    "print('Vetor impares',impares)\n"
   ]
  },
  {
   "cell_type": "code",
   "execution_count": 10,
   "id": "4345426a-348a-4c47-ae34-1cb47d67d8be",
   "metadata": {},
   "outputs": [
    {
     "name": "stdout",
     "output_type": "stream",
     "text": [
      "Me infome notas do aluno 1\n"
     ]
    },
    {
     "name": "stdin",
     "output_type": "stream",
     "text": [
      " 1\n",
      " 12\n",
      " 3\n",
      " 4\n"
     ]
    },
    {
     "name": "stdout",
     "output_type": "stream",
     "text": [
      "Me infome notas do aluno 2\n"
     ]
    },
    {
     "name": "stdin",
     "output_type": "stream",
     "text": [
      " 6\n",
      " 5\n",
      " 2\n",
      " 3\n"
     ]
    },
    {
     "name": "stdout",
     "output_type": "stream",
     "text": [
      "A quantidade de alunos que tem nota maior do 7 é 0\n"
     ]
    }
   ],
   "source": [
    "'''\n",
    "Faça um Programa que peça as quatro notas de 10 alunos, calcule e armazene num vetor a média de cada aluno,\n",
    "imprima o número de alunos com média maior ou igual a 7.0.\n",
    "'''\n",
    "\n",
    "count=0\n",
    "for i in range(1,11):\n",
    "    media=[]\n",
    "    print('Me infome notas do aluno',i)\n",
    "    for n in range(1,5):\n",
    "        nota=float(input())\n",
    "        media+=[nota]\n",
    "        \n",
    "    if (sum(media)/len(media))>=7:\n",
    "        count+=1\n",
    "    \n",
    "print('A quantidade de alunos que tem nota maior do 7 é:',count)\n"
   ]
  },
  {
   "cell_type": "code",
   "execution_count": 14,
   "id": "e20701cc-7a87-40b8-954d-edacfcd72a6c",
   "metadata": {},
   "outputs": [
    {
     "name": "stdin",
     "output_type": "stream",
     "text": [
      " 1\n",
      " 2\n",
      " 3\n",
      " 4\n",
      " 5\n"
     ]
    },
    {
     "name": "stdout",
     "output_type": "stream",
     "text": [
      "15\n",
      "120\n",
      "[1, 2, 3, 4, 5]\n"
     ]
    }
   ],
   "source": [
    "#Faça um Programa que leia um vetor de 5 números inteiros, mostre a soma, a multiplicação e os números.\n",
    "\n",
    "vetor=[]\n",
    "produto=1\n",
    "for n in range(5):\n",
    "    numero=int(input())\n",
    "    vetor.append(numero)\n",
    "\n",
    "for i in vetor:\n",
    "    produto*=i\n",
    "\n",
    "print(sum(vetor))\n",
    "print(produto)\n",
    "print(vetor)\n",
    "\n"
   ]
  },
  {
   "cell_type": "code",
   "execution_count": null,
   "id": "cefb9faa-e3f6-45f1-b25d-0ba756ea006e",
   "metadata": {},
   "outputs": [
    {
     "name": "stdin",
     "output_type": "stream",
     "text": [
      " 1\n",
      " 2\n",
      " 3\n",
      " 4\n",
      " 5\n",
      " 6\n",
      " 9\n",
      " 8\n",
      " 7\n",
      " 4\n"
     ]
    },
    {
     "name": "stdout",
     "output_type": "stream",
     "text": [
      "[7, 9, 5, 3, 1]\n",
      "[4.0, 8.0, 6.0, 4.0, 2.0]\n"
     ]
    }
   ],
   "source": [
    "#Faça um Programa que peça a idade e a altura de 5 pessoas, armazene cada informação no seu respectivo vetor.\n",
    "# Imprima a idade e a altura na ordem inversa a ordem lida.\n",
    "\n",
    "vetor_idade=[]\n",
    "vetor_altura=[]\n",
    "\n",
    "for i in range(5):\n",
    "    idade=int(input())\n",
    "    altura=float(input())\n",
    "    \n",
    "    vetor_idade+=[idade]\n",
    "    vetor_altura+=[altura]\n",
    "    \n",
    "vetor_idade.reverse() \n",
    "vetor_altura.reverse()\n",
    "\n",
    "print(vetor_idade)\n",
    "print(vetor_altura)\n",
    "\n",
    "\n",
    "\n"
   ]
  },
  {
   "cell_type": "code",
   "execution_count": 17,
   "id": "fa526564-b782-4a5f-8e2f-01daefb5f4cf",
   "metadata": {},
   "outputs": [
    {
     "name": "stdout",
     "output_type": "stream",
     "text": [
      "181\n"
     ]
    }
   ],
   "source": [
    "# Faça um Programa que leia um vetor A com 10 números inteiros, calcule e mostre a soma dos quadrados dos elementos do vetor.\n",
    "\n",
    "vetor_a=[1,2,3,4,5,6,7,8,9,10]\n",
    "\n",
    "quadrado=[]\n",
    "\n",
    "for i in vetor_a:\n",
    "    numero=i*i\n",
    "    quadrado.append(numero)\n",
    "\n",
    "print(sum(quadrado))\n",
    "\n",
    "\n",
    "\n",
    "\n",
    "\n",
    "\n",
    "\n",
    "\n"
   ]
  },
  {
   "cell_type": "code",
   "execution_count": 28,
   "id": "faeff81f-8915-4b5d-ad32-9e210c9af52a",
   "metadata": {},
   "outputs": [
    {
     "name": "stdout",
     "output_type": "stream",
     "text": [
      "[2, 1, 1, 4, 1, 3, 6, 2, 5, 8, 3, 7, 10, 5, 9, 12, 8, 11, 14, 13, 13, 16, 21, 15, 18, 34, 18, 20, 55, 21]\n"
     ]
    }
   ],
   "source": [
    "'''Faça um Programa que leia dois vetores com 10 elementos cada. Gere um terceiro vetor de 20 elementos,\n",
    "cujos valores deverão ser compostos pelos elementos intercalados dos dois outros vetores.\n",
    "'''\n",
    "vetorjunto=[]\n",
    "\n",
    "vetorpar=[2,4,6,8,10,12,14,16,18,20]\n",
    "vetorimpar=[1,3,5,7,9,11,13,15,18,21]\n",
    "vetorfibonati=[1,1,2,3,5,8,13,21,34,55]\n",
    "               \n",
    "\n",
    "for i in range(10):\n",
    "    vetorjunto.append(vetorpar[i])\n",
    "    vetorjunto.append(vetorfibonati[i])\n",
    "    vetorjunto.append(vetorimpar[i])\n",
    "\n",
    "print(vetorjunto)\n"
   ]
  },
  {
   "cell_type": "code",
   "execution_count": 36,
   "id": "e08d519d-c7c3-4843-a42b-1a8c323c4442",
   "metadata": {},
   "outputs": [
    {
     "name": "stdout",
     "output_type": "stream",
     "text": [
      "ALUNO 1\n"
     ]
    },
    {
     "name": "stdin",
     "output_type": "stream",
     "text": [
      "INFORME IDADE 13\n",
      "INFORME ALTURA 1.9\n"
     ]
    },
    {
     "name": "stdout",
     "output_type": "stream",
     "text": [
      "ALUNO 2\n"
     ]
    },
    {
     "name": "stdin",
     "output_type": "stream",
     "text": [
      "INFORME IDADE 16\n",
      "INFORME ALTURA 1.4\n"
     ]
    },
    {
     "name": "stdout",
     "output_type": "stream",
     "text": [
      "ALUNO 3\n"
     ]
    },
    {
     "name": "stdin",
     "output_type": "stream",
     "text": [
      "INFORME IDADE 15\n",
      "INFORME ALTURA 1.8\n"
     ]
    },
    {
     "name": "stdout",
     "output_type": "stream",
     "text": [
      "1\n"
     ]
    }
   ],
   "source": [
    "\n",
    "#Foram anotadas as idades e alturas de 30 alunos. \n",
    "#Faça um Programa que determine quantos alunos com mais de 13 anos\n",
    "#possuem altura inferior à média de altura desses alunos.\n",
    "\n",
    "vetoridade=[]\n",
    "vetoraltura=[]\n",
    "count=0\n",
    "\n",
    "for n in range(1,4):\n",
    "    print('ALUNO',n)\n",
    "    idade=int(input('INFORME IDADE'))\n",
    "    altura=float(input('INFORME ALTURA'))\n",
    "    \n",
    "    vetoridade.append(idade)\n",
    "    vetoraltura.append(altura)\n",
    "\n",
    "for i in range(3):\n",
    "    if vetoridade[i]>13 and vetoraltura[i]<(sum(vetoraltura)/len(vetoraltura)):\n",
    "        count+=1\n",
    "\n",
    "print(count)\n"
   ]
  },
  {
   "cell_type": "code",
   "execution_count": 18,
   "id": "7eb94777-dca9-4446-80f5-496bf7ab3921",
   "metadata": {},
   "outputs": [
    {
     "name": "stdin",
     "output_type": "stream",
     "text": [
      " 31\n",
      " 20\n",
      " 45\n",
      " 26\n",
      " 19\n",
      " 20\n",
      " 38\n",
      " 26\n",
      " 34\n",
      " 27\n",
      " 37\n",
      " 16\n"
     ]
    },
    {
     "name": "stdout",
     "output_type": "stream",
     "text": [
      "[28.25]\n",
      "1 - Fevereiro : 20.0\n",
      "3 - Abril : 26.0\n",
      "4 - Maior : 19.0\n",
      "5 - Junho : 20.0\n",
      "7 - Agosto : 26.0\n",
      "9 - Outubro : 27.0\n",
      "11 - Dezembro : 16.0\n"
     ]
    }
   ],
   "source": [
    "'''\n",
    "Faça um programa que receba a temperatura média de cada mês do ano e armazene-as em uma lista. \n",
    "Após isto, calcule a média anual das temperaturas e mostre todas as temperaturas acima da média anual, \n",
    "e em que mês elas ocorreram (mostrar o mês por extenso: 1 – Janeiro, 2 – Fevereiro, . . . ).\n",
    "'''\n",
    "\n",
    "meses=['Janeiro','Fevereiro','Março','Abril','Maior','Junho','Julho','Agosto','Setembro','Outubro','Novenbro','Dezembro']\n",
    "med_temp=[]\n",
    "\n",
    "for i in range(12):\n",
    "    temperatura=float(input())\n",
    "    med_temp.append(temperatura)\n",
    "    \n",
    "med_anual=[float(sum(med_temp)/len(med_temp))]\n",
    "\n",
    "for n in range(12):\n",
    "    if med_temp[n]<med_anual[0]:\n",
    "        print(n,'-',meses[n],':',med_temp[n])\n"
   ]
  },
  {
   "cell_type": "code",
   "execution_count": 3,
   "id": "1b73098c-ddbc-474f-9c16-a8669fd5c01d",
   "metadata": {},
   "outputs": [
    {
     "name": "stdin",
     "output_type": "stream",
     "text": [
      "Telefonou para a vítima? sim\n",
      "Esteve no local do crime? não\n",
      "Mora perto da vítima? sim\n",
      "Devia para a vítima? não\n",
      "Já trabalhou com a vítima? sim\n"
     ]
    },
    {
     "name": "stdout",
     "output_type": "stream",
     "text": [
      "Cúmplice\n",
      "3\n",
      "['sim', 'sim', 'sim']\n"
     ]
    }
   ],
   "source": [
    "'''Utilizando listas faça um programa que faça 5 perguntas para uma pessoa sobre um crime. As perguntas são:\n",
    "\"Telefonou para a vítima?\"\n",
    "\"Esteve no local do crime?\"\n",
    "\"Mora perto da vítima?\"\n",
    "\"Devia para a vítima?\"\n",
    "\"Já trabalhou com a vítima?\" O programa deve no final emitir uma classificação sobre a participação da pessoa no crime. \n",
    "Se a pessoa responder positivamente a 2 questões ela deve ser classificada como \"Suspeita\", entre 3 e 4 como \"Cúmplice\" e 5 como \"Assassino\". \n",
    "Caso contrário, ele será classificado como \"Inocente\".\n",
    "'''\n",
    "lista=[]\n",
    "\n",
    "pergunta1=input(\"Telefonou para a vítima?\")\n",
    "pergunta2=input(\"Esteve no local do crime?\")\n",
    "pergunta3=input(\"Mora perto da vítima?\")\n",
    "pergunta4=input(\"Devia para a vítima?\")\n",
    "pergunta5=input(\"Já trabalhou com a vítima?\")\n",
    "\n",
    "if pergunta1=='sim' or pergunta1=='Sim':\n",
    "    lista.append(pergunta1)\n",
    "if pergunta2=='sim' or pergunta2=='Sim':\n",
    "    lista.append(pergunta2)\n",
    "if pergunta3=='sim' or pergunta3=='Sim':\n",
    "    lista.append(pergunta3)\n",
    "if pergunta4=='sim' or pergunta4=='Sim':\n",
    "    lista.append(pergunta4)\n",
    "if pergunta5=='sim' or pergunta5=='Sim':\n",
    "    lista.append(pergunta5)\n",
    "\n",
    "if len(lista)==2:\n",
    "    print('Suspeita')\n",
    "elif len(lista)==3 or len(lista)==4:\n",
    "    print('Cúmplice')\n",
    "elif len(lista)==5:\n",
    "    print('Assassino')\n",
    "else:\n",
    "    print('Inocente')\n",
    "    \n",
    "print(len(lista))\n",
    "print(lista)\n",
    "    "
   ]
  },
  {
   "cell_type": "code",
   "execution_count": 16,
   "id": "ae8ae8f2-1bc5-462a-8df2-fe6c22e98f35",
   "metadata": {},
   "outputs": [
    {
     "name": "stdin",
     "output_type": "stream",
     "text": [
      " 10\n",
      " 9\n",
      " 8.9\n",
      " 9.8\n",
      " 4.8\n",
      " 6.7\n",
      " 3.9\n",
      " 1.5\n",
      " 1\n",
      " 10\n",
      " -1\n"
     ]
    },
    {
     "name": "stdout",
     "output_type": "stream",
     "text": [
      "Quantidade de valores: 10\n",
      "Todos os valores na ordem: [10.0, 9.0, 8.9, 9.8, 4.8, 6.7, 3.9, 1.5, 1.0, 10.0]\n",
      "Valores na ordem inversa: [10.0, 1.0, 1.5, 3.9, 6.7, 4.8, 9.8, 8.9, 9.0, 10.0]\n",
      "Soma dos valores: 65.6\n",
      "Média dos valores: 6.56\n",
      "Quantidade de valores acima da média calculada 6\n",
      "Quantidade de valores abaixo de sete 5\n",
      "Muito obrigado pelas informações!!\n"
     ]
    }
   ],
   "source": [
    "'''\n",
    "Faça um programa que leia um número indeterminado de valores, correspondentes a notas, encerrando a entrada de dados quando for informado um valor igual a -1 (que não deve ser armazenado). \n",
    "Após esta entrada de dados, faça:\n",
    "Mostre a quantidade de valores que foram lidos; len\n",
    "Exiba todos os valores na ordem em que foram informados, um ao lado do outro; print\n",
    "Exiba todos os valores na ordem inversa à que foram informados, um abaixo do outro; lista.reverse()\n",
    "Calcule e mostre a soma dos valores; sum()\n",
    "Calcule e mostre a média dos valores; sum()/len()\n",
    "Calcule e mostre a quantidade de valores acima da média calculada; if \n",
    "Calcule e mostre a quantidade de valores abaixo de sete;\n",
    "Encerre o programa com uma mensagem;\n",
    "'''\n",
    "\n",
    "notas=''\n",
    "lista_notas=[]\n",
    "acima_media=0\n",
    "abaixo_7=0\n",
    "\n",
    "while notas!=-1:\n",
    "    notas=float(input())\n",
    "    if notas!=-1:\n",
    "        lista_notas.append(notas)\n",
    "media=round(sum(lista_notas)/len(lista_notas),3)\n",
    "print('Quantidade de valores:',len(lista_notas))\n",
    "print('Todos os valores na ordem:',lista_notas)\n",
    "lista_notas.reverse()\n",
    "print('Valores na ordem inversa:',lista_notas)\n",
    "print('Soma dos valores:',sum(lista_notas))\n",
    "print('Média dos valores:',media)\n",
    "\n",
    "for i in lista_notas:\n",
    "    if i>media:\n",
    "        acima_media+=1\n",
    "    if i<7:\n",
    "        abaixo_7+=1\n",
    "print('Quantidade de valores acima da média calculada',acima_media)\n",
    "print('Quantidade de valores abaixo de sete',abaixo_7)\n",
    "print('Muito obrigado pelas informações!!')"
   ]
  },
  {
   "cell_type": "code",
   "execution_count": 25,
   "id": "b300c5a6-99df-4adb-abab-113c3bfd1775",
   "metadata": {},
   "outputs": [
    {
     "name": "stdin",
     "output_type": "stream",
     "text": [
      "Me informe a quantidade de colaboradores: 5\n"
     ]
    },
    {
     "ename": "TypeError",
     "evalue": "object of type 'int' has no len()",
     "output_type": "error",
     "traceback": [
      "\u001b[1;31m---------------------------------------------------------------------------\u001b[0m",
      "\u001b[1;31mTypeError\u001b[0m                                 Traceback (most recent call last)",
      "Cell \u001b[1;32mIn[25], line 22\u001b[0m\n\u001b[0;32m     19\u001b[0m lista_salario\u001b[38;5;241m=\u001b[39m[]\n\u001b[0;32m     20\u001b[0m contagem_salarial\u001b[38;5;241m=\u001b[39m[\u001b[38;5;241m0\u001b[39m]\u001b[38;5;241m*\u001b[39m\u001b[38;5;241m9\u001b[39m\n\u001b[1;32m---> 22\u001b[0m \u001b[38;5;28;01mfor\u001b[39;00m x \u001b[38;5;129;01min\u001b[39;00m \u001b[38;5;28mrange\u001b[39m(\u001b[38;5;241m1\u001b[39m,\u001b[38;5;28;43mlen\u001b[39;49m\u001b[43m(\u001b[49m\u001b[43mcolaboradores\u001b[49m\u001b[43m)\u001b[49m\u001b[38;5;241m+\u001b[39m\u001b[38;5;241m1\u001b[39m):\n\u001b[0;32m     23\u001b[0m     \u001b[38;5;28mprint\u001b[39m(\u001b[38;5;124m'\u001b[39m\u001b[38;5;124mMe informe o faturamento do colaborador:\u001b[39m\u001b[38;5;124m'\u001b[39m,x)\n\u001b[0;32m     24\u001b[0m     faturamento\u001b[38;5;241m=\u001b[39m\u001b[38;5;28mfloat\u001b[39m(\u001b[38;5;28minput\u001b[39m())\n",
      "\u001b[1;31mTypeError\u001b[0m: object of type 'int' has no len()"
     ]
    }
   ],
   "source": [
    "'''\n",
    "Utilize uma lista para resolver o problema a seguir. Uma empresa paga seus vendedores com base em comissões.\n",
    "O vendedor recebe $200 por semana mais 9 por cento de suas vendas brutas daquela semana.\n",
    "Por exemplo, um vendedor que teve vendas brutas de $3000 em uma semana recebe $200 mais 9 por cento de $3000, ou seja, um total de $470.\n",
    "Escreva um programa (usando um array de contadores) que determine quantos vendedores receberam salários nos seguintes intervalos de valores:\n",
    "$200 - $299\n",
    "$300 - $399\n",
    "$400 - $499\n",
    "$500 - $599\n",
    "$600 - $699\n",
    "$700 - $799\n",
    "$800 - $899\n",
    "$900 - $999\n",
    "$1000 em diante\n",
    "Desafio: Crie ma fórmula para chegar na posição da lista a partir do salário, sem fazer vários ifs aninhados.\n",
    "'''\n",
    "colaboradores=int(input('Me informe a quantidade de colaboradores:'))\n",
    "lista_faturamento=[]\n",
    "lista_salario=[]\n",
    "contagem_salarial=[0]*9\n",
    "\n",
    "for x in range(1,len(colaboradores)+1):\n",
    "    print('Me informe o faturamento do colaborador:',x)\n",
    "    faturamento=float(input())\n",
    "    lista_faturamento.append(faturamento)\n",
    "\n",
    "for i in range(len(lista_faturamento)):\n",
    "    salario=0.09*lista_faturamento[i]+200\n",
    "    lista_salario.append(salario)\n",
    "    "
   ]
  },
  {
   "cell_type": "code",
   "execution_count": 21,
   "id": "32b2c1b9-e9d1-4b88-b106-2d462b6498f6",
   "metadata": {},
   "outputs": [
    {
     "name": "stdout",
     "output_type": "stream",
     "text": [
      "[2, 1, 1, 1, 1, 1, 1, 1, 3]\n"
     ]
    }
   ],
   "source": [
    "'''\n",
    "Utilize uma lista para resolver o problema a seguir. Uma empresa paga seus vendedores com base em comissões.\n",
    "O vendedor recebe $200 por semana mais 9 por cento de suas vendas brutas daquela semana.\n",
    "Por exemplo, um vendedor que teve vendas brutas de $3000 em uma semana recebe $200 mais 9 por cento de $3000, ou seja, um total de $470.\n",
    "Escreva um programa (usando um array de contadores) que determine quantos vendedores receberam salários nos seguintes intervalos de valores:\n",
    "$200 - $299\n",
    "$300 - $399\n",
    "$400 - $499\n",
    "$500 - $599\n",
    "$600 - $699\n",
    "$700 - $799\n",
    "$800 - $899\n",
    "$900 - $999\n",
    "$1000 em diante\n",
    "Desafio: Crie ma fórmula para chegar na posição da lista a partir do salário, sem fazer vários ifs aninhados.\n",
    "'''\n",
    "\n",
    "salarios=[200,250,320,413,516,680,791,877,999,1000,2000,3000]\n",
    "contagem_salarial=[0]*9                                   # \n",
    "\n",
    "for salario in salarios:   \n",
    "    indice= salario//100 -2                               # Separadamente me informa o indice referente a que range salarial \n",
    "    indice_maximo= len(contagem_salarial)-1               # Me retorna examente a quantidade maxima de indice na lista salarial \n",
    "    indice= min(indice,indice_maximo)                     # Me retorna o valor minimo entre os 2 numeros que estão sendo analisados\n",
    "    contagem_salarial[indice]+=1                          # O indice sempre retornará a posição da lista, então é só somar na contagem\n",
    "\n",
    "print(contagem_salarial)\n",
    "\n"
   ]
  },
  {
   "cell_type": "code",
   "execution_count": null,
   "id": "c71b613a-e622-42dd-8bcc-4b463b2a9e6d",
   "metadata": {},
   "outputs": [],
   "source": [
    "'''\n",
    "Em uma competição de salto em distância cada atleta tem direito a cinco saltos. O resultado do atleta será determinado pela média dos cinco valores restantes.\n",
    "Você deve fazer um programa que receba o nome e as cinco distâncias alcançadas pelo atleta em seus saltos e depois informe o nome, os saltos e a média dos saltos.\n",
    "O programa deve ser encerrado quando não for informado o nome do atleta. A saída do programa deve ser conforme o exemplo abaixo:\n",
    "Atleta: Rodrigo Curvêllo\n",
    " \n",
    "Primeiro Salto: 6.5 m\n",
    "Segundo Salto: 6.1 m\n",
    "Terceiro Salto: 6.2 m\n",
    "Quarto Salto: 5.4 m\n",
    "Quinto Salto: 5.3 m\n",
    "\n",
    "Resultado final:\n",
    "Atleta: Rodrigo Curvêllo\n",
    "Saltos: 6.5 - 6.1 - 6.2 - 5.4 - 5.3\n",
    "Média dos saltos: 5.9 m\n",
    "'''\n",
    "\n",
    "lista=[]\n",
    "nome_atleta=0\n",
    "\n",
    "while nome_atleta!='':\n",
    "    nome_atleta=input('Me informe o nome do atleta:')\n",
    "    for i in range(1,5+1):\n",
    "        print(f'Informe o salto {i}')\n",
    "        salto=float(input())\n",
    "        lista.append(salto)\n",
    "    media=sum(lista)/len(lista)\n",
    "    \n",
    "    print(f'Primeiro Salto:{lista[0]}')\n",
    "    print(f'Segundo Salto:{lista[1]}')\n",
    "    print(f'Terceiro Salto:{lista[2]}')\n",
    "    print(f'Quarto Salto:{lista[3]}')\n",
    "    print(f'Quinto Salto:{lista[4]}')\n",
    "    print('')\n",
    "    print('Resultado final:')\n",
    "    print(f'Atleta:{nome_atleta}')\n",
    "    print(f'Saltos: {lista[0]} - {lista[1]} - {lista[2]} - {lista[3]} - {lista[4]}')\n",
    "    print(f'Média dos saltos:{media}')\n"
   ]
  },
  {
   "cell_type": "code",
   "execution_count": 10,
   "id": "58dcffa4-6fb7-4e83-81b8-f25671713c76",
   "metadata": {},
   "outputs": [
    {
     "name": "stdin",
     "output_type": "stream",
     "text": [
      "Número do jogador (0=fim): 1\n",
      "Número do jogador (0=fim): 1\n",
      "Número do jogador (0=fim): 1\n",
      "Número do jogador (0=fim): 1\n",
      "Número do jogador (0=fim): 1\n",
      "Número do jogador (0=fim): 1\n",
      "Número do jogador (0=fim): 1\n",
      "Número do jogador (0=fim): 1\n",
      "Número do jogador (0=fim): 1\n",
      "Número do jogador (0=fim): 1\n",
      "Número do jogador (0=fim): 1\n",
      "Número do jogador (0=fim): 1\n",
      "Número do jogador (0=fim): 1\n",
      "Número do jogador (0=fim): 1\n",
      "Número do jogador (0=fim): 1\n",
      "Número do jogador (0=fim): 1\n",
      "Número do jogador (0=fim): 1\n",
      "Número do jogador (0=fim): 3\n",
      "Número do jogador (0=fim): 3\n",
      "Número do jogador (0=fim): 3\n",
      "Número do jogador (0=fim): 3\n",
      "Número do jogador (0=fim): 3\n",
      "Número do jogador (0=fim): 3\n",
      "Número do jogador (0=fim): 3\n",
      "Número do jogador (0=fim): 3\n",
      "Número do jogador (0=fim): 63\n"
     ]
    },
    {
     "name": "stdout",
     "output_type": "stream",
     "text": [
      "Informe um valor entre 1 e 23 ou 0 para sair!\n"
     ]
    },
    {
     "name": "stdin",
     "output_type": "stream",
     "text": [
      "Número do jogador (0=fim): 3\n",
      "Número do jogador (0=fim): 3\n",
      "Número do jogador (0=fim): 3\n",
      "Número do jogador (0=fim): 3\n",
      "Número do jogador (0=fim): 3\n",
      "Número do jogador (0=fim): 3\n",
      "Número do jogador (0=fim): 3\n",
      "Número do jogador (0=fim): 3\n",
      "Número do jogador (0=fim): 39\n"
     ]
    },
    {
     "name": "stdout",
     "output_type": "stream",
     "text": [
      "Informe um valor entre 1 e 23 ou 0 para sair!\n"
     ]
    },
    {
     "name": "stdin",
     "output_type": "stream",
     "text": [
      "Número do jogador (0=fim): 9\n",
      "Número do jogador (0=fim): 9\n",
      "Número do jogador (0=fim): 9\n",
      "Número do jogador (0=fim): 9\n",
      "Número do jogador (0=fim): 9\n",
      "Número do jogador (0=fim): 96\n"
     ]
    },
    {
     "name": "stdout",
     "output_type": "stream",
     "text": [
      "Informe um valor entre 1 e 23 ou 0 para sair!\n"
     ]
    },
    {
     "name": "stdin",
     "output_type": "stream",
     "text": [
      "Número do jogador (0=fim): 9\n",
      "Número do jogador (0=fim): 9\n",
      "Número do jogador (0=fim): 9\n",
      "Número do jogador (0=fim): 9\n",
      "Número do jogador (0=fim): 9\n",
      "Número do jogador (0=fim): 0\n"
     ]
    },
    {
     "name": "stdout",
     "output_type": "stream",
     "text": [
      "Resultados da Votação\n",
      "\n",
      "Foram computados 43 votos\n",
      "\n",
      "-Jogador-          -Votos-          -%-\n",
      "    1                17            39.5 %\n",
      "    3                16            37.2 %\n",
      "    9                10            23.3 %\n"
     ]
    }
   ],
   "source": [
    "'''\n",
    "Uma grande emissora de televisão quer fazer uma enquete entre os seus telespectadores para saber qual o melhor jogador após cada jogo.\n",
    "Para isto, faz-se necessário o desenvolvimento de um programa, que será utilizado pelas telefonistas, para a computação dos votos.\n",
    "Sua equipe foi contratada para desenvolver este programa, utilizando a linguagem de programação C++. \n",
    "Para computar cada voto, a telefonista digitará um número, entre 1 e 23, correspondente ao número da camisa do jogador. \n",
    "Um número de jogador igual zero, indica que a votação foi encerrada. Se um número inválido for digitado, o programa deve ignorá-lo, mostrando uma breve mensagem de aviso,\n",
    "e voltando a pedir outro número. Após o final da votação, o programa deverá exibir:\n",
    "\n",
    "O total de votos computados;\n",
    "Os númeos e respectivos votos de todos os jogadores que receberam votos;\n",
    "O percentual de votos de cada um destes jogadores;\n",
    "O número do jogador escolhido como o melhor jogador da partida, juntamente com o número de votos e o percentual de votos dados a ele.\n",
    "'''\n",
    "lista=list()\n",
    "\n",
    "voto= 1\n",
    "\n",
    "while voto != 0:\n",
    "    voto= int(input('Número do jogador (0=fim):'))\n",
    "    if voto>23 or voto < 0:\n",
    "        print('Informe um valor entre 1 e 23 ou 0 para sair!')\n",
    "        continue\n",
    "    if voto == 0:\n",
    "        break\n",
    "    lista.append(voto)   \n",
    "    \n",
    "lista_voto=list()\n",
    "\n",
    "for i in range(1,24):\n",
    "    colocado = lista.count(i)              \n",
    "    lista_voto.append(colocado)\n",
    "    \n",
    "lista_voto_copy= lista_voto[:]\n",
    "top_colocados= list()\n",
    "voto_top_colocados= list()\n",
    "\n",
    "for x in range(3):\n",
    "    maximo=max(lista_voto_copy)\n",
    "    jogador=int(lista_voto.index(maximo))+1\n",
    "    voto_top_colocados.append(maximo)\n",
    "    top_colocados.append(jogador)\n",
    "    lista_voto_copy.remove(maximo)\n",
    "\n",
    "\n",
    "print('')\n",
    "print('Resultados da Votação')\n",
    "print('')\n",
    "print(f'Foram computados {len(lista)} votos')\n",
    "print('')\n",
    "print('-Jogador-          -Votos-          -%-')\n",
    "print(f'    {top_colocados[0]}                {voto_top_colocados[0]}            {round(voto_top_colocados[0]/len(lista)*100,1)} %')\n",
    "print(f'    {top_colocados[1]}                {voto_top_colocados[1]}            {round(voto_top_colocados[1]/len(lista)*100,1)} %')\n",
    "print(f'    {top_colocados[2]}                {voto_top_colocados[2]}            {round(voto_top_colocados[2]/len(lista)*100,1)} %')\n",
    "print('')\n",
    "print(f'O melhor jogador foi o número {top_colocados[0]}, com {voto_top_colocados[0]} votos, correspondendo a {round(voto_top_colocados[0]/len(lista)*100,1)}% do total de votos')\n",
    "\n"
   ]
  },
  {
   "cell_type": "code",
   "execution_count": 10,
   "id": "4971c61b-a5e8-43ef-b1fd-07e81ad07fa4",
   "metadata": {},
   "outputs": [
    {
     "name": "stdin",
     "output_type": "stream",
     "text": [
      "\n",
      " \n",
      "Qual o melhor Sistema Operacional para uso em servidores?\n",
      " \n",
      "As possíveis respostas são:\n",
      "1- Windows Server\n",
      "2- Unix\n",
      "3- Linux\n",
      "4- Netware\n",
      "5- Mac OS\n",
      "6- Outro\n",
      " Informe o numero referente a seu voto ! \n",
      " 1\n",
      "\n",
      " \n",
      "Qual o melhor Sistema Operacional para uso em servidores?\n",
      " \n",
      "As possíveis respostas são:\n",
      "1- Windows Server\n",
      "2- Unix\n",
      "3- Linux\n",
      "4- Netware\n",
      "5- Mac OS\n",
      "6- Outro\n",
      " Informe o numero referente a seu voto ! \n",
      " 1\n",
      "\n",
      " \n",
      "Qual o melhor Sistema Operacional para uso em servidores?\n",
      " \n",
      "As possíveis respostas são:\n",
      "1- Windows Server\n",
      "2- Unix\n",
      "3- Linux\n",
      "4- Netware\n",
      "5- Mac OS\n",
      "6- Outro\n",
      " Informe o numero referente a seu voto ! \n",
      " 1\n",
      "\n",
      " \n",
      "Qual o melhor Sistema Operacional para uso em servidores?\n",
      " \n",
      "As possíveis respostas são:\n",
      "1- Windows Server\n",
      "2- Unix\n",
      "3- Linux\n",
      "4- Netware\n",
      "5- Mac OS\n",
      "6- Outro\n",
      " Informe o numero referente a seu voto ! \n",
      " 1\n",
      "\n",
      " \n",
      "Qual o melhor Sistema Operacional para uso em servidores?\n",
      " \n",
      "As possíveis respostas são:\n",
      "1- Windows Server\n",
      "2- Unix\n",
      "3- Linux\n",
      "4- Netware\n",
      "5- Mac OS\n",
      "6- Outro\n",
      " Informe o numero referente a seu voto ! \n",
      " 1\n",
      "\n",
      " \n",
      "Qual o melhor Sistema Operacional para uso em servidores?\n",
      " \n",
      "As possíveis respostas são:\n",
      "1- Windows Server\n",
      "2- Unix\n",
      "3- Linux\n",
      "4- Netware\n",
      "5- Mac OS\n",
      "6- Outro\n",
      " Informe o numero referente a seu voto ! \n",
      " 1\n",
      "\n",
      " \n",
      "Qual o melhor Sistema Operacional para uso em servidores?\n",
      " \n",
      "As possíveis respostas são:\n",
      "1- Windows Server\n",
      "2- Unix\n",
      "3- Linux\n",
      "4- Netware\n",
      "5- Mac OS\n",
      "6- Outro\n",
      " Informe o numero referente a seu voto ! \n",
      " 1\n",
      "\n",
      " \n",
      "Qual o melhor Sistema Operacional para uso em servidores?\n",
      " \n",
      "As possíveis respostas são:\n",
      "1- Windows Server\n",
      "2- Unix\n",
      "3- Linux\n",
      "4- Netware\n",
      "5- Mac OS\n",
      "6- Outro\n",
      " Informe o numero referente a seu voto ! \n",
      " 1\n",
      "\n",
      " \n",
      "Qual o melhor Sistema Operacional para uso em servidores?\n",
      " \n",
      "As possíveis respostas são:\n",
      "1- Windows Server\n",
      "2- Unix\n",
      "3- Linux\n",
      "4- Netware\n",
      "5- Mac OS\n",
      "6- Outro\n",
      " Informe o numero referente a seu voto ! \n",
      " 0\n"
     ]
    },
    {
     "name": "stdout",
     "output_type": "stream",
     "text": [
      "\n",
      "---------------------------------------------------------\n",
      "Sistema operacional         Votos          %\n",
      "Windows Server               8           100.0%\n",
      "Unix                         0            0.0%\n",
      "Linux                        0            0.0%\n",
      "Netware                      0            0.0%\n",
      "Mac OS                       0            0.0%\n",
      "Outro                        0            0.0%\n",
      "TOTAL                        8\n",
      "---------------------------------------------------------\n",
      "O Sistema Operacional mais votado foi o  Windows Server, com 8 votos, correspondendo a 100.0% dos votos\n"
     ]
    }
   ],
   "source": [
    "'''\n",
    "Uma empresa de pesquisas precisa tabular os resultados da seguinte enquete feita a um grande quantidade de organizações:\n",
    "\"Qual o melhor Sistema Operacional para uso em servidores?\"\n",
    "\n",
    "As possíveis respostas são:\n",
    "\n",
    "1- Windows Server\n",
    "2- Unix\n",
    "3- Linux\n",
    "4- Netware\n",
    "5- Mac OS\n",
    "6- Outro\n",
    "Você foi contratado para desenvolver um programa que leia o resultado da enquete e informe ao final o resultado da mesma. \n",
    "O programa deverá ler os valores até ser informado o valor 0, que encerra a entrada dos dados. Não deverão ser aceitos valores além dos válidos para o programa (0 a 6).\n",
    "Os valores referentes a cada uma das opções devem ser armazenados num vetor. Após os dados terem sido completamente informados,\n",
    "o programa deverá calcular a percentual de cada um dos concorrentes e informar o vencedor da enquete\n",
    "'''\n",
    "# lista com todos os votos computados\n",
    "lista_votos=list()\n",
    "\n",
    "while True:\n",
    "    votos=int(input('\\n \\nQual o melhor Sistema Operacional para uso em servidores?\\n \\nAs possíveis respostas são:\\n1- Windows Server\\n2- Unix\\n3- Linux\\n4- Netware\\n5- Mac OS\\n6- Outro\\n Informe o numero referente a seu voto ! \\n'))\n",
    "    if votos == 0:\n",
    "        break\n",
    "    if votos>6 or votos<0:\n",
    "        print('Me informe um valor válido de 1 a 6')\n",
    "        continue\n",
    "    lista_votos.append(votos)  \n",
    "    \n",
    "# Lista com a quanlidade de votos que cada sistema operacional teve.\n",
    "lista_contagem=list()  \n",
    "# Lista com a porcentagem de votos que cada sistema operacional teve.\n",
    "lista_porcentagem=list()\n",
    "\n",
    "for i in range(1,7):\n",
    "    contagem=lista_votos.count(i)\n",
    "    porcentagem=round(contagem/len(lista_votos)*100,1)\n",
    "    lista_contagem.append(contagem)\n",
    "    lista_porcentagem.append(porcentagem)\n",
    "\n",
    "vencedor=lista_contagem.index(max(lista_contagem))\n",
    "\n",
    "lista_sistemas=['Windows Server','Unix','Linux','Netware','Mac OS','Outro']\n",
    "\n",
    "# saidas\n",
    "print('')\n",
    "print('---------------------------------------------------------')\n",
    "print('Sistema operacional         Votos          %')\n",
    "print(f'{lista_sistemas[0]}               {lista_contagem[0]}           {round(lista_contagem[0]/len(lista_votos)*100,1)}%')\n",
    "print(f'{lista_sistemas[1]}                         {lista_contagem[1]}            {round(lista_contagem[1]/len(lista_votos)*100,1)}%')\n",
    "print(f'{lista_sistemas[2]}                        {lista_contagem[2]}            {round(lista_contagem[2]/len(lista_votos)*100,1)}%')\n",
    "print(f'{lista_sistemas[3]}                      {lista_contagem[3]}            {round(lista_contagem[3]/len(lista_votos)*100,1)}%')\n",
    "print(f'{lista_sistemas[4]}                       {lista_contagem[4]}            {round(lista_contagem[4]/len(lista_votos)*100,1)}%')\n",
    "print(f'{lista_sistemas[5]}                        {lista_contagem[5]}            {round(lista_contagem[5]/len(lista_votos)*100,1)}%')\n",
    "print(f'TOTAL                        {len(lista_votos)}')\n",
    "print('---------------------------------------------------------')\n",
    "print(f'O Sistema Operacional mais votado foi o  {lista_sistemas[vencedor]}, com {max(lista_contagem)} votos, correspondendo a {max(lista_porcentagem)}% dos votos')\n",
    "        "
   ]
  },
  {
   "cell_type": "code",
   "execution_count": 26,
   "id": "bee2ba9a-e343-445a-ac6a-eb99f96b3abe",
   "metadata": {},
   "outputs": [
    {
     "name": "stdin",
     "output_type": "stream",
     "text": [
      "Salário: 100\n",
      "Salário: 200\n",
      "Salário: 300\n",
      "Salário: 0\n"
     ]
    },
    {
     "name": "stdout",
     "output_type": "stream",
     "text": [
      "\n",
      "------------------------------\n",
      "\n",
      "Salario                 Abono               \n",
      "R$ 100.0                R$100.0               \n",
      "R$ 200.0                R$100.0               \n",
      "R$ 300.0                R$100.0               \n",
      "\n",
      "\n",
      "Foram processados 3 colaboradores\n",
      "Total gasto com abonos: R$ 300.0\n",
      "Valor mínimo pago a 3 colaboradores\n",
      "Maior valor de abono pago: R$ 100.0\n",
      "[100.0, 200.0, 300.0]\n",
      "[100.0, 100.0, 100.0]\n"
     ]
    }
   ],
   "source": [
    "'''\n",
    "As Organizações Tabajara resolveram dar um abono aos seus colaboradores em reconhecimento ao bom resultado alcançado durante o ano que passou.\n",
    "Para isto contratou você para desenvolver a aplicação que servirá como uma projeção de quanto será gasto com o pagamento deste abono.\n",
    "Após reuniões envolvendo a diretoria executiva, a diretoria financeira e os representantes do sindicato laboral, chegou-se a seguinte forma de cálculo:\n",
    "a.Cada funcionário receberá o equivalente a 20% do seu salário bruto de dezembro; a.O piso do abono será de 100 reais, isto é, aqueles funcionários cujo salário for muito baixo,\n",
    "recebem este valor mínimo; Neste momento, não se deve ter nenhuma preocupação com colaboradores com tempo menor de casa, descontos, impostos ou outras particularidades.\n",
    "Seu programa deverá permitir a digitação do salário de um número indefinido (desconhecido) de salários. Um valor de salário igual a 0 (zero) encerra a digitação.\n",
    "Após a entrada de todos os dados o programa deverá calcular o valor do abono concedido a cada colaborador, de acordo com a regra definida acima. \n",
    "Ao final, o programa deverá apresentar:\n",
    "\n",
    "O salário de cada funcionário, juntamente com o valor do abono;\n",
    "O número total de funcionário processados;\n",
    "O valor total a ser gasto com o pagamento do abono;\n",
    "O número de funcionário que receberá o valor mínimo de 100 reais;\n",
    "O maior valor pago como abono; A tela abaixo é um exemplo de execução do programa, apenas para fins ilustrativos. Os valores podem mudar a cada execução do programa.\n",
    "'''\n",
    "lista_salario=list()\n",
    "\n",
    "while True:\n",
    "    salario=float(input('Salário:'))\n",
    "    if salario == 0:\n",
    "        break\n",
    "    lista_salario.append(salario)                # criar a lista do salário\n",
    "\n",
    "lista_abono=list()\n",
    "\n",
    "for i in lista_salario:                          # armazenar a lista de abono para conrreponder ao salario posteriormente\n",
    "    abono=i*0.2\n",
    "    if abono<100:\n",
    "        abono=float(100)\n",
    "        lista_abono.append(abono)\n",
    "    else:\n",
    "        lista_abono.append(abono)\n",
    "\n",
    "print('')\n",
    "print('-'*30)\n",
    "print('')\n",
    "print(f\"{'Salário':<23} {'Abono':<20}\")\n",
    "\n",
    "for x in range(len(lista_salario)):\n",
    "    print(f'R$ {lista_salario[x]:<20} R$ {lista_abono[x]:<20}')\n",
    "\n",
    "print('')\n",
    "print('')\n",
    "\n",
    "\n",
    "print(f'Foram processados {len(lista_salario)} colaboradores')\n",
    "print(f'Total gasto com abonos: R$ {sum(lista_abono)}')\n",
    "print(f'Valor mínimo pago a {lista_abono.count(100)} colaboradores')\n",
    "print(f'Maior valor de abono pago: R$ {max(lista_abono)}')\n",
    "\n"
   ]
  },
  {
   "cell_type": "code",
   "execution_count": 58,
   "id": "2c7825f7-7616-4bef-8a2a-29f7df1a861a",
   "metadata": {},
   "outputs": [
    {
     "name": "stdout",
     "output_type": "stream",
     "text": [
      "Veículo 1\n"
     ]
    },
    {
     "name": "stdin",
     "output_type": "stream",
     "text": [
      "Nome: z\n",
      "Km por Litro: 1\n"
     ]
    },
    {
     "name": "stdout",
     "output_type": "stream",
     "text": [
      "Veículo 2\n"
     ]
    },
    {
     "name": "stdin",
     "output_type": "stream",
     "text": [
      "Nome: x\n",
      "Km por Litro: 2\n"
     ]
    },
    {
     "name": "stdout",
     "output_type": "stream",
     "text": [
      "Veículo 3\n"
     ]
    },
    {
     "name": "stdin",
     "output_type": "stream",
     "text": [
      "Nome: c\n",
      "Km por Litro: 3\n"
     ]
    },
    {
     "name": "stdout",
     "output_type": "stream",
     "text": [
      "Veículo 4\n"
     ]
    },
    {
     "name": "stdin",
     "output_type": "stream",
     "text": [
      "Nome: v\n",
      "Km por Litro: 4\n"
     ]
    },
    {
     "name": "stdout",
     "output_type": "stream",
     "text": [
      "Veículo 5\n"
     ]
    },
    {
     "name": "stdin",
     "output_type": "stream",
     "text": [
      "Nome: b\n",
      "Km por Litro: 5\n"
     ]
    },
    {
     "name": "stdout",
     "output_type": "stream",
     "text": [
      "\n",
      "------------------------------\n",
      "\n",
      "Relatório final               Consumo             Necessário          R$ Valor            \n",
      "z                             1.0                 1000.0litros        R$ 2250.0\n",
      "x                             2.0                 500.0litros         R$ 1125.0\n",
      "c                             3.0                 333.3litros         R$ 750.0\n",
      "v                             4.0                 250.0litros         R$ 562.5\n",
      "b                             5.0                 200.0litros         R$ 450.0\n",
      "O menor consumo é do b\n"
     ]
    }
   ],
   "source": [
    "'''\n",
    "Faça um programa que carregue uma lista com os modelos de cinco carros (exemplo de modelos: FUSCA, GOL, VECTRA etc). Carregue uma outra lista com o consumo desses carros,\n",
    "isto é, quantos quilômetros cada um desses carros faz com um litro de combustível. \n",
    "Calcule e mostre:\n",
    "O modelo do carro mais econômico;\n",
    "Quantos litros de combustível cada um dos carros cadastrados consome para percorrer uma distância de 1000 quilômetros e quanto isto custará,\n",
    "considerando um que a gasolina custe R$ 2,25 o litro. Abaixo segue uma tela de exemplo. O disposição das informações deve ser o mais próxima possível ao exemplo.\n",
    "Os dados são fictícios e podem mudar a cada execução do programa.\n",
    "\n",
    "Relatório Final\n",
    " 1 - fusca           -    7.0 -  142.9 litros - R$ 321.43\n",
    " 2 - gol             -   10.0 -  100.0 litros - R$ 225.00\n",
    " 3 - uno             -   12.5 -   80.0 litros - R$ 180.00\n",
    " 4 - vectra          -    9.0 -  111.1 litros - R$ 250.00\n",
    " 5 - peugeout        -   14.5 -   69.0 litros - R$ 155.17\n",
    "O menor consumo é do peugeout.\n",
    "'''\n",
    "lista_carro=list()\n",
    "lista_consumo=list()\n",
    "lista_litros=list()\n",
    "lista_valores=list()\n",
    "\n",
    "for i in range(1,6):\n",
    "    print(f'Veículo {i}')\n",
    "    carro=input('Nome:')\n",
    "    consumo=float(input('Km por Litro:'))\n",
    "    lista_carro.append(carro)\n",
    "    lista_consumo.append(consumo)\n",
    "    \n",
    "for x in lista_consumo:\n",
    "    \n",
    "    litros= 1000/x \n",
    "    lista_litros.append(litros)\n",
    "    \n",
    "    valor= litros*2.25\n",
    "    lista_valores.append(valor)\n",
    "\n",
    "custo_beneficio=lista_valores.index(min(lista_valores))\n",
    "print('')\n",
    "print('-'*30)\n",
    "print('')\n",
    "\n",
    "print(f\"{'Relatório final':<30}{'Consumo':<20}{'Necessário':<20}{'R$ Valor':<20}\")\n",
    "\n",
    "for z in range(5):\n",
    "    print(f'{lista_carro[z]:<30}{lista_consumo[z]:<20}{str(round(lista_litros[z],1))+\" L\":<20}R$ {lista_valores[z]}')\n",
    "\n",
    "print(f'O menor consumo é do {lista_carro[custo_beneficio]}')"
   ]
  },
  {
   "cell_type": "code",
   "execution_count": 70,
   "id": "342446bc-6df6-45dd-a615-6efcee0bc279",
   "metadata": {},
   "outputs": [
    {
     "name": "stdout",
     "output_type": "stream",
     "text": [
      "O valor 1 aparece nos dados 21 vezes \n",
      "O valor 2 aparece nos dados 21 vezes \n",
      "O valor 3 aparece nos dados 18 vezes \n",
      "O valor 4 aparece nos dados 12 vezes \n",
      "O valor 5 aparece nos dados 15 vezes \n",
      "O valor 6 aparece nos dados 13 vezes \n"
     ]
    }
   ],
   "source": [
    "'''Faça um programa que simule um lançamento de dados. Lance o dado 100 vezes e armazene os resultados em um vetor .\n",
    "Depois, mostre quantas vezes cada valor foi conseguido. Dica: use um vetor de contadores(1-6) e uma função para gerar numeros aleatórios,\n",
    "simulando os lançamentos dos dados.\n",
    "'''\n",
    "import random\n",
    "lista_valores=list()\n",
    "\n",
    "for i in range(100):\n",
    "    valor=random.randrange(1,7)\n",
    "    lista_valores.append(valor)\n",
    "\n",
    "lista_quantidades=list()\n",
    "\n",
    "for x in range(1,7):\n",
    "    quantidade=lista_valores.count(x)\n",
    "    lista_quantidades.append(quantidade)\n",
    "    \n",
    "for z in range(6):\n",
    "    print(f'O valor {z+1} aparece nos dados {lista_quantidades[z]} vezes ')"
   ]
  },
  {
   "cell_type": "code",
   "execution_count": null,
   "id": "aef65d6a-f0b1-49eb-b9df-dd72f128d747",
   "metadata": {},
   "outputs": [],
   "source": []
  }
 ],
 "metadata": {
  "kernelspec": {
   "display_name": "Python 3 (ipykernel)",
   "language": "python",
   "name": "python3"
  },
  "language_info": {
   "codemirror_mode": {
    "name": "ipython",
    "version": 3
   },
   "file_extension": ".py",
   "mimetype": "text/x-python",
   "name": "python",
   "nbconvert_exporter": "python",
   "pygments_lexer": "ipython3",
   "version": "3.10.9"
  }
 },
 "nbformat": 4,
 "nbformat_minor": 5
}
