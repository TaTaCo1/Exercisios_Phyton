{
 "cells": [
  {
   "cell_type": "code",
   "execution_count": 3,
   "id": "2d1af14c-4757-496b-b14a-6d99867697f4",
   "metadata": {},
   "outputs": [
    {
     "name": "stdin",
     "output_type": "stream",
     "text": [
      " 2\n",
      " 3\n"
     ]
    },
    {
     "name": "stdout",
     "output_type": "stream",
     "text": [
      "3.0\n"
     ]
    }
   ],
   "source": [
    "# questões encontradas https://wiki.python.org.br/EstruturaDeDecisao\n",
    "\n",
    "\n",
    "#Faça um Programa que peça dois números e imprima o maior deles.\n",
    "x=input()\n",
    "y=input()\n",
    "\n",
    "x=float(x)\n",
    "y=float(y)\n",
    "\n",
    "if x>y:\n",
    "    print(x)\n",
    "    \n",
    "else:\n",
    "    print(y)\n"
   ]
  },
  {
   "cell_type": "code",
   "execution_count": 11,
   "id": "9b926c9e-971d-4d8a-9aff-25a29660ddfd",
   "metadata": {},
   "outputs": [
    {
     "name": "stdin",
     "output_type": "stream",
     "text": [
      " -2\n"
     ]
    },
    {
     "name": "stdout",
     "output_type": "stream",
     "text": [
      "-2.0\n",
      "o valor é negativo\n"
     ]
    }
   ],
   "source": [
    "#Faça um Programa que peça um valor e mostre na tela se o valor é positivo ou negativo.\n",
    "\n",
    "Valor= input()\n",
    "\n",
    "Valor= float(Valor)\n",
    "\n",
    "print(Valor)\n",
    "\n",
    "if Valor>=0:\n",
    "    print('o valor é positivo')\n",
    "else:\n",
    "    print('o valor é negativo')\n",
    "\n"
   ]
  },
  {
   "cell_type": "code",
   "execution_count": 20,
   "id": "0a3ed88b-ae99-4b7e-b18c-0d14a05c1d3d",
   "metadata": {},
   "outputs": [
    {
     "name": "stdin",
     "output_type": "stream",
     "text": [
      " f\n"
     ]
    },
    {
     "name": "stdout",
     "output_type": "stream",
     "text": [
      "Sexo Inválido\n"
     ]
    }
   ],
   "source": [
    "#Faça um Programa que verifique se uma letra digitada é \"F\" ou \"M\".\n",
    "#Conforme a letra escrever: F - Feminino, M - Masculino, Sexo Inválido.\n",
    "\n",
    "Sexo= input()\n",
    "\n",
    "if Sexo[0] == 'F':\n",
    "    print('Feminino')\n",
    "elif Sexo[0] == 'M':\n",
    "    print('Masculino')\n",
    "else:\n",
    "    print('Sexo Inválido')"
   ]
  },
  {
   "cell_type": "code",
   "execution_count": 27,
   "id": "431a9bd4-9be4-42fa-8eb4-913555042d5f",
   "metadata": {},
   "outputs": [
    {
     "name": "stdin",
     "output_type": "stream",
     "text": [
      " M\n"
     ]
    },
    {
     "name": "stdout",
     "output_type": "stream",
     "text": [
      "Consoante\n"
     ]
    }
   ],
   "source": [
    "# Faça um Programa que verifique se uma letra digitada é vogal ou consoante.\n",
    "# A E I O U \n",
    "\n",
    "Letra= input()\n",
    "\n",
    "if   Letra[0] == 'A' or Letra[0] == 'E' or Letra[0] == 'I' or Letra[0] == 'O' or Letra[0] == 'U': \n",
    "    print('Vogal')\n",
    "elif Letra[0] == 'a' or Letra[0] == 'e' or Letra[0] == 'i' or Letra[0] == 'o' or Letra[0] == 'u': \n",
    "    print('Vogal')\n",
    "else:\n",
    "    print('Consoante')\n",
    "\n",
    "\n",
    "\n",
    "\n",
    "\n",
    "\n",
    "\n"
   ]
  },
  {
   "cell_type": "code",
   "execution_count": 30,
   "id": "6a2ade8c-d4d9-4996-b4a7-70f71076a92e",
   "metadata": {},
   "outputs": [
    {
     "name": "stdin",
     "output_type": "stream",
     "text": [
      " 6.99\n",
      " 6.99\n"
     ]
    },
    {
     "name": "stdout",
     "output_type": "stream",
     "text": [
      "reprovado\n"
     ]
    }
   ],
   "source": [
    "# Faça um programa para a leitura de duas notas parciais de um aluno. O programa deve calcular a média alcançada \n",
    "#por aluno e apresentar:\n",
    "#A mensagem \"Aprovado\", se a média alcançada for maior ou igual a sete;\n",
    "#A mensagem \"Reprovado\", se a média for menor do que sete;\n",
    "#A mensagem \"Aprovado com Distinção\", se a média for igual a dez.\n",
    "\n",
    "nota1=input()\n",
    "nota2=input()\n",
    "\n",
    "nota1=float(nota1)\n",
    "nota2=float(nota2)\n",
    "\n",
    "media=(nota1+nota2)/2\n",
    "\n",
    "if media>=7 and media<10:\n",
    "    print('aprovado')\n",
    "\n",
    "elif media<7:\n",
    "    print('reprovado')\n",
    "\n",
    "else:\n",
    "    print('aprovado com distinção')\n",
    "\n",
    "\n",
    "\n",
    "\n",
    "\n",
    "\n",
    "\n"
   ]
  },
  {
   "cell_type": "code",
   "execution_count": 33,
   "id": "1e172291-7452-477b-afc3-46815de2d427",
   "metadata": {},
   "outputs": [
    {
     "name": "stdin",
     "output_type": "stream",
     "text": [
      " 1\n",
      " 3\n",
      " 2\n"
     ]
    },
    {
     "name": "stdout",
     "output_type": "stream",
     "text": [
      "o maior valor é y: 3.0\n"
     ]
    }
   ],
   "source": [
    "#Faça um Programa que leia três números e mostre o maior deles.\n",
    "x=input()\n",
    "y=input()\n",
    "z=input()\n",
    "\n",
    "x=float(x)\n",
    "y=float(y)\n",
    "z=float(z)\n",
    "\n",
    "if x>y and x>z: \n",
    "    print('o maior valor é x:',x)\n",
    "elif y>x and y>z:\n",
    "    print('o maior valor é y:',y)\n",
    "else: \n",
    "    print('o maior valor é z:',z)\n",
    "\n"
   ]
  },
  {
   "cell_type": "code",
   "execution_count": 36,
   "id": "1db2ad0f-93e5-4017-8bb5-30546028ec36",
   "metadata": {},
   "outputs": [
    {
     "name": "stdin",
     "output_type": "stream",
     "text": [
      " 1\n",
      " 2\n",
      " 3\n"
     ]
    },
    {
     "name": "stdout",
     "output_type": "stream",
     "text": [
      "o maior valor é z: 3.0\n",
      "o menor valor é x: 1.0\n"
     ]
    }
   ],
   "source": [
    "# Faça um Programa que leia três números e mostre o maior e o menor deles.\n",
    "\n",
    "#entrada\n",
    "x=input()\n",
    "y=input()\n",
    "z=input()\n",
    "\n",
    "#conversão de valores \n",
    "x=float(x)\n",
    "y=float(y)\n",
    "z=float(z)\n",
    "\n",
    "\n",
    "#laços de decisão para saber qual é o maior \n",
    "if x>y and x>z : \n",
    "    print('o maior valor é x:',x)\n",
    "    #laço de decisão para saber qual é o menor. \n",
    "    if y>z:\n",
    "        print('o menor valor é z:',z)\n",
    "    else:\n",
    "        print('o menor valor é y:',y)\n",
    "elif y>x and y>z:\n",
    "    print('o maior valor é y:',y)\n",
    "    if x>z:\n",
    "        print('o menor valor é z:',z)\n",
    "    else:\n",
    "        print('o menor valor é x:',x)\n",
    "else: \n",
    "    print('o maior valor é z:',z)\n",
    "    if y>x:\n",
    "        print('o menor valor é x:',x)\n",
    "    else:\n",
    "        print('o menor valor é y:',y)\n"
   ]
  },
  {
   "cell_type": "code",
   "execution_count": 2,
   "id": "a57db22d-668e-4d07-b31c-27a981c82e68",
   "metadata": {},
   "outputs": [
    {
     "name": "stdin",
     "output_type": "stream",
     "text": [
      " 3\n",
      " 2\n",
      " 1\n"
     ]
    },
    {
     "name": "stdout",
     "output_type": "stream",
     "text": [
      "você pode comprar o sabonete 3: 1.0 reais\n"
     ]
    }
   ],
   "source": [
    "#Faça um programa que pergunte o preço de três produtos e informe qual produto você deve comprar, \n",
    "#sabendo que a decisão é sempre pelo mais barato.\n",
    "\n",
    "# entrada\n",
    "sabonete1=input()\n",
    "sabonete2=input()\n",
    "sabonete3=input()\n",
    "\n",
    "# Conversão de valores. \n",
    "\n",
    "sabonete1 = float(sabonete1)\n",
    "sabonete2 = float(sabonete2)\n",
    "sabonete3 = float(sabonete3)\n",
    " \n",
    "# Quando o sabonete 1 é mais barato\n",
    "if sabonete1<sabonete2 and sabonete1<sabonete3: \n",
    "    print('você pode comprar o sabonete 1:',sabonete1,'reais')\n",
    "# Quando o sabonete 2 é mais barato\n",
    "elif sabonete2<sabonete1 and sabonete2<sabonete3: \n",
    "    print('você pode comprar o sabonete 2:',sabonete2,'reais')\n",
    "# Quando o sabonete 3 é mais barato \n",
    "else: \n",
    "    print('você pode comprar o sabonete 3:',sabonete3,'reais')\n",
    "\n",
    "\n",
    "\n",
    "\n"
   ]
  },
  {
   "cell_type": "code",
   "execution_count": 14,
   "id": "828c518e-3144-410a-bd76-f1cd79847b2e",
   "metadata": {},
   "outputs": [
    {
     "name": "stdin",
     "output_type": "stream",
     "text": [
      " 8\n",
      " 10\n",
      " 9\n"
     ]
    },
    {
     "name": "stdout",
     "output_type": "stream",
     "text": [
      "10.0 , 9.0 , 8.0\n"
     ]
    }
   ],
   "source": [
    "# Faça um Programa que leia três números e mostre-os em ordem decrescente.\n",
    "\n",
    "#Entradas\n",
    "numero1=input()\n",
    "numero2=input()\n",
    "numero3=input()\n",
    "\n",
    "#Conversão de valores\n",
    "numero1=float(numero1)\n",
    "numero2=float(numero2)\n",
    "numero3=float(numero3)\n",
    "\n",
    "# Quando o numero1 é maior,numero2 é o intermediário e numero3 é o menor \n",
    "if numero1>numero2 and numero1>numero3 and numero2>numero3:\n",
    "    print(numero1,',',numero2,',',numero3)\n",
    "# Quando o numero1 é maior,numero3 é o intermediário e numero2 é o menor \n",
    "elif numero1>numero2 and numero1>numero3 and numero3>numero2:\n",
    "    print(numero1,',',numero3,',',numero2)\n",
    "\n",
    "# Quando o numero2 é maior,numero1 é o intermediário e numero3 é o menor \n",
    "elif numero2>numero1 and numero2 >numero3 and numero1>numero3: \n",
    "    print(numero2,',',numero1,',',numero3)\n",
    "# # Quando o numero2 é maior,numero3 é o intermediário e numero1 é o menor \n",
    "elif numero2>numero1 and numero2 >numero3 and numero3>numero1: \n",
    "    print(numero2,',',numero3,',',numero1)\n",
    "    \n",
    "    \n",
    "# Quando o numero3 é maior,numero1 é o intermediário e numero2 é o menor \n",
    "elif numero3>numero1 and numero3>numero2 and numero1>numero2: \n",
    "    print(numero3,',',numero1,',',numero2)\n",
    "# Quando o numero3 é maior,numero3 é o intermediário e numero1 é o menor \n",
    "elif numero3>numero1 and numero3>numero2 and numero2>numero1: \n",
    "    print(numero3,',',numero2,',',numero1)\n",
    "\n",
    "\n",
    "\n",
    "\n",
    "\n",
    "\n"
   ]
  },
  {
   "cell_type": "code",
   "execution_count": 19,
   "id": "f4ba159e-947f-4fba-be71-0eb81a346e17",
   "metadata": {},
   "outputs": [
    {
     "name": "stdin",
     "output_type": "stream",
     "text": [
      " Qual horário que você estuda M-(matutino) ou V-(Vespertino) ou N-(Noturno): h\n"
     ]
    },
    {
     "name": "stdout",
     "output_type": "stream",
     "text": [
      "Valor inválido\n"
     ]
    }
   ],
   "source": [
    "# Faça um Programa que pergunte em que turno você estuda. Peça para digitar M-matutino ou V-Vespertino ou N- Noturno. \n",
    "#Imprima a mensagem \"Bom Dia!\", \"Boa Tarde!\" ou \"Boa Noite!\" ou \"Valor Inválido!\", conforme o caso.\n",
    "\n",
    "\n",
    "horario= input(' Qual horário que você estuda M-(matutino) ou V-(Vespertino) ou N-(Noturno):')\n",
    "\n",
    "if horario[0]=='M' or horario[0] =='m':\n",
    "    print('Bom Dia!')\n",
    "    \n",
    "elif horario[0]=='V' or horario[0] == 'v':\n",
    "    print('Boa Tarde!')\n",
    "    \n",
    "elif horario[0]=='N' or horario[0] == 'n':\n",
    "    print('Boa Noite!')\n",
    "else:\n",
    "    print('Valor inválido')\n",
    "    \n",
    "# Quando eu quiser verificar se uma letra com o indice eu preciso definir ela como string\n",
    "\n",
    "\n",
    "\n",
    "\n",
    "\n",
    "\n"
   ]
  },
  {
   "cell_type": "code",
   "execution_count": 28,
   "id": "41994bb9-41d2-4eee-840f-4155a92de997",
   "metadata": {},
   "outputs": [
    {
     "name": "stdin",
     "output_type": "stream",
     "text": [
      " 2000\n"
     ]
    },
    {
     "name": "stdout",
     "output_type": "stream",
     "text": [
      "Seu salário antes do reajuste era: 2000.0 \n",
      "Percentual de reajuste foi de: 5 %\n",
      "O valor de aumento foi de: 100.0 \n",
      "E seu novo salário é: 2100.0\n"
     ]
    }
   ],
   "source": [
    "# As Organizações Tabajara resolveram dar um aumento de salário aos seus colaboradores e lhe contraram para desenvolver o programa que calculará os reajustes.\n",
    "#Faça um programa que recebe o salário de um colaborador e o reajuste segundo o seguinte critério, baseado no salário atual:\n",
    "#salários até R$ 280,00 (incluindo) : aumento de 20%\n",
    "#salários entre R$ 280,00 e R$ 700,00 : aumento de 15%\n",
    "#salários entre R$ 700,00 e R$ 1500,00 : aumento de 10%\n",
    "#salários de R$ 1500,00 em diante : aumento de 5% Após o aumento ser realizado, informe na tela:\n",
    "#o salário antes do reajuste;\n",
    "#o percentual de aumento aplicado;\n",
    "#o valor do aumento;\n",
    "#vo novo salário, após o aumento.\n",
    "\n",
    "\n",
    "\n",
    "salario=input()\n",
    "salario= float(salario)\n",
    "\n",
    "#salários até R$ 280,00\n",
    "if salario<280: \n",
    "    salario1= salario*1.2\n",
    "    porcentagem= 20\n",
    "    aumento= salario1-salario\n",
    "    print('Seu salário antes do reajuste era:',salario,'\\nPercentual de reajuste foi de:',porcentagem,'%\\nO valor de aumento foi de:',aumento,'\\nE seu novo salário é:',salario1)\n",
    "#salários entre R$ 280,00 e R$ 700,00\n",
    "elif salario>280 and salario<700:\n",
    "    salario2=salario*1.15\n",
    "    porcentagem= 15\n",
    "    aumento= salario2-salario\n",
    "    print('Seu salário antes do reajuste era:',salario,'\\nPercentual de reajuste foi de:',porcentagem,'%\\nO valor de aumento foi de:',aumento,'\\nE seu novo salário é:',salario2)\n",
    "#salários entre R$ 700,00 e R$ 1500,00\n",
    "elif salario>700 and salario<1500:\n",
    "    salario3=salario*1.1\n",
    "    porcentagem= 10\n",
    "    aumento= salario3-salario\n",
    "    print('Seu salário antes do reajuste era:',salario,'\\nPercentual de reajuste foi de:',porcentagem,'%\\nO valor de aumento foi de:',aumento,'\\nE seu novo salário é:',salario3)\n",
    "# #salários de R$ 1500,00 em diante \n",
    "else: \n",
    "    salario4=salario*1.05\n",
    "    porcentagem= 5\n",
    "    aumento= salario4-salario\n",
    "    print('Seu salário antes do reajuste era:',salario,'\\nPercentual de reajuste foi de:',porcentagem,'%\\nO valor de aumento foi de:',aumento,'\\nE seu novo salário é:',salario4)\n"
   ]
  },
  {
   "cell_type": "code",
   "execution_count": 50,
   "id": "cf82e374-1161-4ea3-8d1d-075aea993322",
   "metadata": {},
   "outputs": [
    {
     "name": "stdin",
     "output_type": "stream",
     "text": [
      "Me informe qual é a quantidade de horas trabalhadas 100\n",
      "Me informe qual é o valor da hora trabalhada 16\n"
     ]
    },
    {
     "name": "stdout",
     "output_type": "stream",
     "text": [
      "Salário Bruto( 100.0 * 16.0 )  :R$ 1600.0\n",
      "(-)IR (10%)                    :R$ 160.0\n",
      "(-)INSS(10%)                   :R$ 160.0\n",
      "FGTS(11%)                      :R$ 176.0\n",
      "Total de Descontos             :R$ 320.0\n",
      "Salario liquido                :R$ 1280.0\n"
     ]
    }
   ],
   "source": [
    "\n",
    "#Faça um programa para o cálculo de uma folha de pagamento, sabendo que os descontos são do Imposto de Renda, que depende do salário bruto (conforme tabela abaixo) \n",
    "#e 3% para o Sindicato e que o FGTS corresponde a 11% do Salário Bruto, mas não é descontado (é a empresa que deposita). O Salário Líquido corresponde ao Salário Bruto menos os descontos.\n",
    "#O programa deverá pedir ao usuário o valor da sua hora e a quantidade de horas trabalhadas no mês.\n",
    "#Desconto do IR:\n",
    "#Salário Bruto até 900 (inclusive) - isento\n",
    "#Salário Bruto até 1500 (inclusive) - desconto de 5%\n",
    "#Salário Bruto até 2500 (inclusive) - desconto de 10%\n",
    "#Salário Bruto acima de 2500 - desconto de 20% Imprima na tela as informações, dispostas conforme o exemplo abaixo. No exemplo o valor da hora é 5 e a quantidade de hora é 220\n",
    "\n",
    "\n",
    "\n",
    "#Entradas \n",
    "horatrabalhada= input('Me informe qual é a quantidade de horas trabalhadas')\n",
    "salariohora= input('Me informe qual é o valor da horas trabalhadas')\n",
    "\n",
    "horatrabalhada= float(horatrabalhada)\n",
    "salariohora= float(salariohora)\n",
    "\n",
    "#variavel \n",
    "salariobruto= horatrabalhada*salariohora\n",
    "\n",
    "#Salário Bruto até 900\n",
    "if salariobruto <= 900: \n",
    "    IR= salariobruto*0                     # valor do imposto de renda pago \n",
    "    INSS = salariobruto-(salariobruto*0.9) # valor do INSS pago\n",
    "    FGTS = salariobruto-(salariobruto*0.89)# valor do FGTS\n",
    "    descontos = IR+INSS                    # valor do descontos\n",
    "    salarioliquido= salariobruto-descontos # salario liquido total \n",
    "    print('Salário Bruto(',horatrabalhada,'*',salariohora,')   :R$',salariobruto)\n",
    "    print('(-)IR (0%)                     :R$',IR)\n",
    "    print('(-)INSS(10%)                   :R$',INSS)\n",
    "    print('FGTS(11%)                      :R$',FGTS)\n",
    "    print('Total de Descontos             :R$',descontos)\n",
    "    print('Salario liquido                :R$',salarioliquido)\n",
    "    \n",
    "    \n",
    "#Salário Bruto até 1500\n",
    "elif salariobruto > 900 and salariobruto<= 1500: \n",
    "    IR= salariobruto*0.05                  # valor do imposto de renda pago 0.05 = 5%\n",
    "    INSS = salariobruto-(salariobruto*0.9) # valor do imposto de renda pago\n",
    "    FGTS = salariobruto-(salariobruto*0.89)# valor do FGTS\n",
    "    descontos = IR+INSS                    # valor do descontos \n",
    "    salarioliquido= salariobruto-descontos # salario liquido total \n",
    "    print('Salário Bruto(',horatrabalhada,'*',salariohora,')   :R$',salariobruto)\n",
    "    print('(-)IR (5%)                     :R$',IR)\n",
    "    print('(-)INSS(10%)                   :R$',INSS)\n",
    "    print('FGTS(11%)                      :R$',FGTS)\n",
    "    print('Total de Descontos             :R$',descontos)\n",
    "    print('Salario liquido                :R$',salarioliquido)\n",
    "\n",
    "#Salário Bruto até 2500\n",
    "    \n",
    "elif salariobruto > 1500 and salariobruto<= 2500: \n",
    "    IR= salariobruto*0.1                   # valor do imposto de renda pago 0.1 = 10%\n",
    "    INSS = salariobruto-(salariobruto*0.9) # valor do imposto de renda pago\n",
    "    FGTS = salariobruto-(salariobruto*0.89)# valor do FGTS\n",
    "    descontos = IR+INSS                    # valor do descontos \n",
    "    salarioliquido= salariobruto-descontos # salario liquido total \n",
    "    print('Salário Bruto(',horatrabalhada,'*',salariohora,')  :R$',salariobruto)\n",
    "    print('(-)IR (10%)                    :R$',IR)\n",
    "    print('(-)INSS(10%)                   :R$',INSS)\n",
    "    print('FGTS(11%)                      :R$',FGTS)\n",
    "    print('Total de Descontos             :R$',descontos)\n",
    "    print('Salario liquido                :R$',salarioliquido)\n",
    "\n",
    "\n",
    "else:  \n",
    "    IR= salariobruto*0.2                   # valor do imposto de renda pago 0.2 = 20%\n",
    "    INSS = salariobruto-(salariobruto*0.9) # valor do imposto de renda pago\n",
    "    FGTS = salariobruto-(salariobruto*0.89)# valor do FGTS\n",
    "    descontos = IR+INSS                    # valor do descontos \n",
    "    salarioliquido= salariobruto-descontos # salario liquido total \n",
    "    print('Salário Bruto(',horatrabalhada,'*',salariohora,')  :R$',salariobruto)\n",
    "    print('(-)IR (20%)                    :R$',IR)\n",
    "    print('(-)INSS(10%)                   :R$',INSS)\n",
    "    print('FGTS(11%)                      :R$',FGTS)\n",
    "    print('Total de Descontos             :R$',descontos)\n",
    "    print('Salario liquido                :R$',salarioliquido)\n"
   ]
  },
  {
   "cell_type": "code",
   "execution_count": 55,
   "id": "f896c9b5-5f53-4855-9aaa-2d5e648813b8",
   "metadata": {},
   "outputs": [
    {
     "name": "stdin",
     "output_type": "stream",
     "text": [
      "Me informe o numero do  dia da semana: 6\n"
     ]
    },
    {
     "name": "stdout",
     "output_type": "stream",
     "text": [
      "6 -sexta\n"
     ]
    }
   ],
   "source": [
    "# Faça um Programa que leia um número e exiba o dia correspondente da semana. (1-Domingo, 2- Segunda, etc.), se digitar outro valor deve aparecer valor inválido.\n",
    "\n",
    "dia= input('Me informe o numero do  dia da semana:')\n",
    "\n",
    "dia= int(dia) \n",
    "\n",
    "if dia == 1: \n",
    "    print(dia,'-Domingo')\n",
    "elif dia == 2: \n",
    "    print(dia,'-Segunda')\n",
    "elif dia == 3: \n",
    "    print(dia,'-Terça')\n",
    "elif dia == 4: \n",
    "    print(dia,'-Quarta')\n",
    "elif dia == 5: \n",
    "    print(dia,'-Quinta')\n",
    "elif dia == 6: \n",
    "    print(dia,'-sexta')\n",
    "elif dia == 7: \n",
    "    print(dia,'-Sabado')\n",
    "\n"
   ]
  },
  {
   "cell_type": "code",
   "execution_count": 67,
   "id": "d585236c-fa1f-4c52-8611-a252e3e09f89",
   "metadata": {},
   "outputs": [
    {
     "name": "stdin",
     "output_type": "stream",
     "text": [
      " 10\n",
      " 9\n"
     ]
    },
    {
     "name": "stdout",
     "output_type": "stream",
     "text": [
      "Seu conceito é A \n",
      "Sua nota 1 é : 10.0\n",
      "Sua nota 2 é : 9.0\n",
      "Sua média é  : 9.5\n",
      "você foi APROVADO\n"
     ]
    }
   ],
   "source": [
    "'''\n",
    "Faça um programa que lê as duas notas parciais obtidas por um aluno numa disciplina ao longo de um semestre e\n",
    "calcule a sua média. A atribuição de conceitos obedece à tabela abaixo: \n",
    "Média de Aproveitamento  Conceito\n",
    "  Entre 9.0 e 10.0        A\n",
    "  Entre 7.5 e 9.0         B\n",
    "  Entre 6.0 e 7.5         C\n",
    "  Entre 4.0 e 6.0         D\n",
    "  Entre 4.0 e zero        E\n",
    "'''\n",
    "\n",
    "Nota1= input()\n",
    "Nota2= input()\n",
    "\n",
    "Nota1=float(Nota1)\n",
    "Nota2=float(Nota2)\n",
    "\n",
    "media=(Nota1+Nota2)/2 # \n",
    "\n",
    "if media>=9:\n",
    "    print('Seu conceito é A ')\n",
    "    print('Sua nota 1 é :',Nota1)\n",
    "    print('Sua nota 2 é :',Nota2)\n",
    "    print('Sua média é  :',media)\n",
    "    print('Você foi APROVADO')\n",
    "elif media<9 and media>=7.5:\n",
    "    print('Seu conceito é B ')\n",
    "    print('Sua nota 1 é :',Nota1)\n",
    "    print('Sua nota 2 é :',Nota2)\n",
    "    print('Sua média é  :',media)\n",
    "    print('Você foi APROVADO')\n",
    "elif media<7.5 and media>=6:\n",
    "    print('Seu conceito é C ')\n",
    "    print('Sua nota 1 é :',Nota1)\n",
    "    print('Sua nota 2 é :',Nota2)\n",
    "    print('Sua média é  :',media)\n",
    "    print('Você foi APROVADO')\n",
    "elif media<6 and media>=4:\n",
    "    print('Seu conceito é D ')\n",
    "    print('Sua nota 1 é :',Nota1)\n",
    "    print('Sua nota 2 é :',Nota2)\n",
    "    print('Sua média é  :',media)\n",
    "    print('Você foi REPROVADO')\n",
    "else:\n",
    "    print('Seu conceito é E')\n",
    "    print('Sua nota 1 é :',Nota1)\n",
    "    print('Sua nota 2 é :',Nota2)\n",
    "    print('Sua média é  :',media)\n",
    "    print('Você foi REPROVADO')\n",
    "    "
   ]
  },
  {
   "cell_type": "code",
   "execution_count": null,
   "id": "54e555fa-6f1e-45ab-8d8b-09ea756c5b61",
   "metadata": {},
   "outputs": [
    {
     "name": "stdin",
     "output_type": "stream",
     "text": [
      " 3\n",
      " 4\n",
      " 5\n"
     ]
    },
    {
     "name": "stdout",
     "output_type": "stream",
     "text": [
      "Pode ser um triangulo\n",
      " É um triangulo Escaleno\n"
     ]
    }
   ],
   "source": [
    "#Faça um Programa que peça os 3 lados de um triângulo. O programa deverá informar se os valores podem ser um triângulo. Indique, caso os lados formem um triângulo\n",
    "#se o mesmo é: equilátero, isósceles ou escaleno.\n",
    "\n",
    "#Dicas:\n",
    "#Três lados formam um triângulo quando a soma de quaisquer dois lados for maior que o terceiro;\n",
    "#Triângulo Equilátero: três lados iguais;\n",
    "#Triângulo Isósceles: quaisquer dois lados iguais;\n",
    "#Triângulo Escaleno: três lados diferentes;\n",
    "\n",
    "lado1= input()\n",
    "lado2= input()\n",
    "lado3= input()\n",
    "\n",
    "lado1= float(lado1)\n",
    "lado2= float(lado2)\n",
    "lado3= float(lado3)\n",
    "\n",
    "if lado1+lado2>=lado3 and lado1<=lado3 and lado2<=lado3:\n",
    "    print('Pode ser um triangulo')\n",
    "    if lado1==lado2 and lado1==lado3:         #Se lado 1 é iqual ao lado 2 e o lado 1 é igual ao lado3, então, o lado 3 é igual ao lado 2\n",
    "        print('É um triangulo equilátero')\n",
    "    elif lado1==lado2 and lado1!=lado3:\n",
    "        print('É um triangulo Isóseles')      #Se o lado 1 é igual ao dois, e o lado 1 é diferente do lado 3, então o lado 3 é diferente do lado 1 e lado 2. \n",
    "    else:\n",
    "        print(' É um triangulo Escaleno')\n",
    "\n",
    "elif lado1+lado3>=lado2 and lado1<=lado2 and lado3<=lado2:\n",
    "    if lado1==lado2 and lado1==lado3:         #Se lado 1 é iqual ao lado 2 e o lado 1 é igual ao lado3, então, o lado 3 é igual ao lado 2\n",
    "        print('É um triangulo equilátero')\n",
    "    elif lado1==lado2 and lado1!=lado3:\n",
    "        print('É um triangulo Isóseles')      #Se o lado 1 é igual ao dois, e o lado 1 é diferente do lado 3, então o lado 3 é diferente do lado 1 e lado 2. \n",
    "    else:\n",
    "        print(' É um triangulo Escaleno')\n",
    "        \n",
    "elif lado2+lado3>=lado1 and lado2<=lado1 and lado3<=lado1:\n",
    "    if lado1==lado2 and lado1==lado3:         #Se lado 1 é iqual ao lado 2 e o lado 1 é igual ao lado3, então, o lado 3 é igual ao lado 2\n",
    "        print('É um triangulo equilátero')\n",
    "    elif lado1==lado2 and lado1!=lado3:\n",
    "        print('É um triangulo Isóseles')      #Se o lado 1 é igual ao dois, e o lado 1 é diferente do lado 3, então o lado 3 é diferente do lado 1 e lado 2. \n",
    "    else:\n",
    "        print(' É um triangulo Escaleno')\n",
    "else: \n",
    "    print('Não é um triangulo')\n",
    "    \n",
    "\n",
    "\n"
   ]
  },
  {
   "cell_type": "code",
   "execution_count": 2,
   "id": "45153855-592f-4b1d-a904-8c37b857db40",
   "metadata": {},
   "outputs": [
    {
     "name": "stdin",
     "output_type": "stream",
     "text": [
      " Me informe o valor de \"a\" 2\n",
      "Me informe o valor de \"b\" 3\n",
      "Me informe o valor de \"c\" 4\n"
     ]
    },
    {
     "name": "stdout",
     "output_type": "stream",
     "text": [
      "A equação não possui Raizes reais\n"
     ]
    }
   ],
   "source": [
    "'''Faça um programa que calcule as raízes de uma equação do segundo grau, na forma ax2 + bx + c. O programa deverá pedir os valores de a, b e c e fazer as consistências, informando ao usuário nas seguintes situações:\n",
    "Se o usuário informar o valor de A igual a zero, a equação não é do segundo grau e o programa não deve fazer pedir os demais valores, sendo encerrado;\n",
    "Se o delta calculado for negativo, a equação não possui raizes reais. Informe ao usuário e encerre o programa;\n",
    "Se o delta calculado for igual a zero a equação possui apenas uma raiz real; informe-a ao usuário;\n",
    "Se o delta for positivo, a equação possui duas raiz reais; informe-as ao usuário;'''\n",
    "import math\n",
    "\n",
    "a = input(' Me informe o valor de \"a\"')\n",
    "a = float(a)\n",
    "\n",
    "if a == 0:\n",
    "    print(' Não é uma equação de segundo grau')\n",
    "\n",
    "else:\n",
    "    b = input('Me informe o valor de \"b\"')\n",
    "    b = float(b)\n",
    "    \n",
    "    c = input('Me informe o valor de \"c\"')\n",
    "    c = float(c)\n",
    "    \n",
    "    delta= (b*b)-(4*a*c)\n",
    "    \n",
    "    if delta>0:\n",
    "        print('A equação possui 2 raizes reais')\n",
    "        x1=((-b)+(math.sqrt(delta)))/(2*a)\n",
    "        x2=((-b)-(math.sqrt(delta)))/(2*a)\n",
    "        print(x1,x2)\n",
    "    elif delta==0:\n",
    "        print('A equação só possui 1 Raiz real')\n",
    "        x1=((-b)+(sqrt(delta)))/(2*a)\n",
    "        print(x1)\n",
    "    else: \n",
    "        print('A equação não possui Raizes reais')\n",
    "\n",
    "\n",
    "\n",
    "\n",
    "\n",
    "\n",
    "\n",
    "\n",
    "\n",
    "\n",
    "\n",
    "\n",
    "\n",
    "\n",
    "\n",
    "\n",
    "\n",
    "\n",
    "\n"
   ]
  },
  {
   "cell_type": "code",
   "execution_count": 7,
   "id": "a7716626-c43d-4131-96d1-35a577a1f074",
   "metadata": {},
   "outputs": [
    {
     "name": "stdin",
     "output_type": "stream",
     "text": [
      " 2004\n"
     ]
    },
    {
     "name": "stdout",
     "output_type": "stream",
     "text": [
      "é ano bissexto\n"
     ]
    }
   ],
   "source": [
    "# Faça um Programa que peça um número correspondente a um determinado ano e em seguida informe se este ano é ou não bissexto.\n",
    "\n",
    "\n",
    "ano=input()\n",
    "ano=float(ano)\n",
    "\n",
    "bissexto= ano%4 # Resto da divisão\n",
    "\n",
    "if bissexto == 0:\n",
    "    print('é ano bissexto') \n",
    "else:\n",
    "    print('não é ano bissexto')\n"
   ]
  },
  {
   "cell_type": "code",
   "execution_count": 20,
   "id": "110478c2-60a2-4e01-8ca1-e738e781d04d",
   "metadata": {},
   "outputs": [
    {
     "name": "stdin",
     "output_type": "stream",
     "text": [
      "me informe se a data no formado dd/mm/aaaa 31/04/200\n"
     ]
    },
    {
     "name": "stdout",
     "output_type": "stream",
     "text": [
      "é uma data inválida\n"
     ]
    }
   ],
   "source": [
    "# Faça um Programa que peça uma data no formato dd/mm/aaaa e determine se a mesma é uma data válida.\n",
    "\n",
    "data= input('Me informe se a data no formado dd/mm/aaaa') \n",
    "\n",
    "data1 = float(data[6:10])                                    \n",
    "\n",
    "bissexto= data1%4                                                              # Verificando se o ano é bissexto. \n",
    "\n",
    "if int(data[0:2]) >= 0 and int(data[0:2])<=31:                                 # verificando de dd tem valores validos. \n",
    "    \n",
    "    if int(data[3:5]) <= 12 and int(data[3:5])>0:                              # verificando de 'mm' tem valores validos. \n",
    "        \n",
    "        if int(data[3:5]) == 2:                                                # verificando se fevereiro tem 28 ou 29 dias. \n",
    "            if   bissexto == 0 and int(data[0:2])<=29:                         # Caso o ano seja bissexto fevereirO tem que ter 29 dias. \n",
    "                print('é uma data válida')\n",
    "            elif bissexto != 0 and int(data[0:2])<=28:                         # Caso o ano seja bissexto fevereirO tem que ter 28 dias. \n",
    "                print('é uma data válida')\n",
    "            else:\n",
    "                print('é uma data inválida')                                   # Caso o ano seja bissexto e ele tem mais que 29 dias o valor é invalido.\n",
    "        \n",
    "                                                                           \n",
    "        elif int(data[3:5]) == 4 or int(data[3:5]) == 6 or int(data[3:5]) == 9 or int(data[3:5]) == 11:   # no mes 4,6,9,11 são 30 dias. \n",
    "            if int(data[0:2])<=30: \n",
    "                print('é uma data válida')\n",
    "            else: \n",
    "                print('é uma data inválida')\n",
    "        \n",
    "        elif int(data[3:5]) != 4 or int(data[3:5]) != 6 or int(data[3:5]) != 9 or int(data[3:5]) != 11:  # Nos restos dos meses são 31 dias.\n",
    "            if int(data[0:2])<=31:\n",
    "                print('É uma data válida')\n",
    "            else: \n",
    "                print('É uma data inválida')\n",
    "            \n",
    "        else: \n",
    "            print('é uma data inválida')\n",
    "    \n",
    "    else:\n",
    "        print('Data inválida')\n",
    "        \n",
    "else: \n",
    "    print('Data inválida')\n",
    "\n"
   ]
  },
  {
   "cell_type": "code",
   "execution_count": null,
   "id": "31b91861-d7ac-436d-ae7d-8155c5919866",
   "metadata": {},
   "outputs": [
    {
     "name": "stdin",
     "output_type": "stream",
     "text": [
      " 2\n"
     ]
    },
    {
     "name": "stdout",
     "output_type": "stream",
     "text": [
      "2 Unidade\n"
     ]
    }
   ],
   "source": [
    "'''Faça um Programa que leia um número inteiro menor que 1000 e imprima a quantidade de centenas, dezenas e unidades do mesmo.\n",
    "Observando os termos no plural a colocação do \"e\", da vírgula entre outros. Exemplo:\n",
    "326 = 3 centenas, 2 dezenas e 6 unidades\n",
    "12 = 1 dezena e 2 unidades Testar com: 326, 300, 100, 320, 310,305, 301, 101, 311, 111, 25, 20, 10, 21, 11, 1, 7 e 16'''\n",
    "\n",
    "numero= input()\n",
    "\n",
    "x= len(numero)                         \n",
    "\n",
    "if   x==1:\n",
    "    print(numero[0],'Unidade') \n",
    "elif x==2:\n",
    "    print(numero[1],'Unidade e',numero[0],'Dezena')\n",
    "elif x==3:\n",
    "    print(numero[2],'Unidade ,',numero[1],'Dezena',numero[0],'centena')\n",
    "else:\n",
    "    print('numero inválido')"
   ]
  },
  {
   "cell_type": "code",
   "execution_count": 40,
   "id": "26b91bb7-05ac-4eb7-be22-be1157e5bfd2",
   "metadata": {},
   "outputs": [
    {
     "name": "stdin",
     "output_type": "stream",
     "text": [
      " 10\n",
      " 10\n",
      " 10\n"
     ]
    },
    {
     "name": "stdout",
     "output_type": "stream",
     "text": [
      "Aprovado com distinção\n"
     ]
    }
   ],
   "source": [
    "'''Faça um Programa para leitura de três notas parciais de um aluno. O programa deve calcular a média alcançada por aluno e presentar:\n",
    "A mensagem \"Aprovado\", se a média for maior ou igual a 7, com a respectiva média alcançada;\n",
    "A mensagem \"Reprovado\", se a média for menor do que 7, com a respectiva média alcançada;\n",
    "A mensagem \"Aprovado com Distinção\", se a média for igual a 10. '''\n",
    "\n",
    "nota1=input()\n",
    "nota2=input()\n",
    "nota3=input()\n",
    "\n",
    "nota1=float(nota1)\n",
    "nota2=float(nota2)\n",
    "nota3=float(nota3)\n",
    "\n",
    "media=(nota1+nota2+nota3)/3\n",
    "\n",
    "if media>=7 and media<10:\n",
    "    print('Aprovado')\n",
    "elif media<7 and media>0:\n",
    "    print('Reprovado')\n",
    "elif media == 10:\n",
    "    print('Aprovado com distinção')\n",
    "else:\n",
    "    print('valor inválido')\n",
    "\n",
    "\n"
   ]
  },
  {
   "cell_type": "code",
   "execution_count": 21,
   "id": "6b9a5789-c34c-49de-99f3-6b967d96503f",
   "metadata": {},
   "outputs": [
    {
     "name": "stdin",
     "output_type": "stream",
     "text": [
      " Me informe o valor que gostaria de sacar ? 4\n"
     ]
    },
    {
     "name": "stdout",
     "output_type": "stream",
     "text": [
      "0 nota de 5 reais\n",
      "4 nota de 1 real\n"
     ]
    }
   ],
   "source": [
    "'''Faça um Programa para um caixa eletrônico. O programa deverá perguntar ao usuário a valor do saque e depois informar quantas notas de cada valor serão fornecidas. As notas disponíveis serão as de 1, 5, 10, 50 e 100 reais. O valor mínimo é de 10 reais e o máximo de 600 reais. O programa não deve se preocupar com a quantidade de notas existentes na máquina.\n",
    "Exemplo 1: Para sacar a quantia de 256 reais, o programa fornece duas notas de 100, uma nota de 50, uma nota de 5 e uma nota de 1;\n",
    "Exemplo 2: Para sacar a quantia de 399 reais, o programa fornece três notas de 100, uma nota de 50, quatro notas de 10, uma nota de 5 e quatro notas de 1'''\n",
    "import math                                            # primordialmente\n",
    "\n",
    "valor = input(' Me informe o valor que gostaria de sacar ?')\n",
    "x = len(valor)\n",
    "\n",
    "\n",
    "if x==1:\n",
    "    valor = int(valor)\n",
    "    valor5 = math.floor(valor/5)\n",
    "    valor1 = valor%5\n",
    "    print(valor5,'nota de 5 reais')\n",
    "    print(valor1,'nota de 1 real')\n",
    "elif x==2: \n",
    "    valor = int(valor)\n",
    "    valor10 = math.floor(valor/10)\n",
    "    valor5  = math.floor((valor%10)/5)\n",
    "    valor1  = valor%5\n",
    "    print(valor10,'nota de 10 reais')\n",
    "    print(valor5, 'nota de 5 reais')\n",
    "    print(valor1,' nota de 1 real')\n",
    "\n",
    "elif x==3:\n",
    "    valor = int(valor)\n",
    "    valor100= math.floor(valor/100)\n",
    "    valor10= math.floor((valor%100)/10)\n",
    "    valor5= math.floor(((valor%100)/10)/5)\n",
    "    valor1= valor%5\n",
    "    print(valor100,'nota de 100 reais')\n",
    "    print(valor10,'nota de 10 reais')\n",
    "    print(valor5, 'nota de 5 reais')\n",
    "    print(valor1,' nota de 1 real')\n",
    "\n",
    "elif x==4:\n",
    "    valor = int(valor)\n",
    "    valor100= math.floor(valor/100)\n",
    "    valor10= math.floor((valor%100)/10)\n",
    "    valor5= math.floor(((valor%100)/10)/5)\n",
    "    valor1= valor%5\n",
    "    print(valor100,'nota de 100 reais')\n",
    "    print(valor10,'nota de 10 reais')\n",
    "    print(valor5, 'nota de 5 reais')\n",
    "    print(valor1,'nota de 1 real')\n",
    "else:\n",
    "    print('Você não pode sacar esse valor')\n",
    "    \n",
    "\n",
    "\n",
    "\n",
    "\n",
    "\n"
   ]
  },
  {
   "cell_type": "code",
   "execution_count": 30,
   "id": "797c91ec-046c-46cc-ad20-87cc8e9110e3",
   "metadata": {},
   "outputs": [
    {
     "name": "stdin",
     "output_type": "stream",
     "text": [
      " 12\n"
     ]
    },
    {
     "name": "stdout",
     "output_type": "stream",
     "text": [
      "O numero é par\n"
     ]
    }
   ],
   "source": [
    "# Faça um Programa que peça um número inteiro e determine se ele é par ou impar. Dica: utilize o operador módulo (resto da divisão).\n",
    "\n",
    "numero=int(input())\n",
    "\n",
    "teste= numero%2\n",
    "\n",
    "if teste== 1:\n",
    "    print(' o numero é impar')\n",
    "\n",
    "elif teste ==0:\n",
    "    print('O numero é par')\n",
    "    \n",
    "else:\n",
    "    print('Numero inválido')\n",
    "\n"
   ]
  },
  {
   "cell_type": "code",
   "execution_count": 35,
   "id": "c756e04c-27cf-4b68-93ea-8545169da9c3",
   "metadata": {},
   "outputs": [
    {
     "name": "stdin",
     "output_type": "stream",
     "text": [
      " 1.5\n"
     ]
    },
    {
     "name": "stdout",
     "output_type": "stream",
     "text": [
      "É um numero decimal\n"
     ]
    }
   ],
   "source": [
    "# Faça um Programa que peça um número e informe se o número é inteiro ou decimal. Dica: utilize uma função de arredondamento.\n",
    "\n",
    "numero= float(input())\n",
    "\n",
    "\n",
    "if round(numero)>numero or round(numero)<numero: \n",
    "    print('É um numero decimal')\n",
    "else: \n",
    "    print('É um numero inteiro')\n",
    "    \n"
   ]
  },
  {
   "cell_type": "code",
   "execution_count": 21,
   "id": "a637fc3f-726e-4d56-90a6-65c7faf6e12a",
   "metadata": {},
   "outputs": [
    {
     "name": "stdin",
     "output_type": "stream",
     "text": [
      " 1\n",
      " 2\n"
     ]
    },
    {
     "name": "stdout",
     "output_type": "stream",
     "text": [
      "Você pode fazer as seguintes operações com os numeros:S Somar, Subtrair,Multiplicar ou Dividir.\n"
     ]
    },
    {
     "name": "stdin",
     "output_type": "stream",
     "text": [
      "Que operação deseja fazer ? somar\n"
     ]
    },
    {
     "name": "stdout",
     "output_type": "stream",
     "text": [
      "3.0\n",
      "Ímpar\n",
      "Valor é positivo\n",
      "Numero inteiro\n"
     ]
    }
   ],
   "source": [
    "'''Faça um Programa que leia 2 números e em seguida pergunte ao usuário qual operação ele deseja realizar. O resultado da operação deve ser acompanhado de uma frase que diga se o número é:\n",
    "par ou ímpar;\n",
    "positivo ou negativo;\n",
    "inteiro ou decimal.'''\n",
    "\n",
    "numero1= float(input())\n",
    "numero2= float(input())\n",
    "\n",
    "print('Você pode fazer as seguintes operações com os numeros:S Somar, Subtrair,Multiplicar ou Dividir.')\n",
    "Desejo= input('Que operação deseja fazer ?')\n",
    "\n",
    "\n",
    "if Desejo == 'Somar' or Desejo == 'somar':                               # operação que deseja.\n",
    "    resultado= numero1+numero2 \n",
    "    print(resultado)\n",
    "    if resultado%2 == 1:                                                 # verificando se o valor é impar \n",
    "        print('Ímpar')\n",
    "        if resultado>=0:                                                 # varificando se o valor é positivo.\n",
    "            print('Valor é positivo')\n",
    "            if round(resultado)>resultado or round(resultado)<resultado: #  verificando se o valor decimal ou inteiro. \n",
    "                print('Numero decimal')\n",
    "            else: \n",
    "                print('Numero inteiro')\n",
    "        else:\n",
    "            print('Valor é negativo')   \n",
    "    elif resultado%2 == 0:                                               # verificando se o valor é par \n",
    "        print('Par')\n",
    "        if resultado>=0:                                                 # varificando se o valor é positivo.\n",
    "            print('Valor é positivo')\n",
    "            if round(resultado)>resultado or round(resultado)<resultado: #  verificando se o valor decimal ou inteiro. \n",
    "                print('Numero decimal')\n",
    "            else: \n",
    "                print('Numero inteiro')\n",
    "        else:\n",
    "            print('Valor é negativo')\n",
    "    elif resultado>0 and resultado<1:\n",
    "        print ('Não é par nem impar')\n",
    "        if resultado>=0:                                                 # varificando se o valor é positivo.\n",
    "            print('Valor é positivo')\n",
    "            if round(resultado)>resultado or round(resultado)<resultado: #  verificando se o valor decimal ou inteiro. \n",
    "                print('Numero decimal')\n",
    "            else: \n",
    "                print('Numero inteiro')\n",
    "        else:\n",
    "            print('Valor é negativo')\n",
    "\n",
    "elif Desejo == 'Subtrair' or Desejo == 'subtrair':                       # operação que deseja.\n",
    "    resultado= numero1-numero2\n",
    "    print(resultado)\n",
    "    if resultado%2 == 1:                                                 # verificando se o valor é impar \n",
    "        print('Ímpar')\n",
    "        if resultado>=0:                                                 # varificando se o valor é positivo.\n",
    "            print('Valor é positivo')\n",
    "            if round(resultado)>resultado or round(resultado)<resultado: #  verificando se o valor decimal ou inteiro. \n",
    "                print('Numero decimal')\n",
    "            else: \n",
    "                print('Numero inteiro')\n",
    "        else:\n",
    "            print('Valor é negativo')   \n",
    "    elif resultado%2 == 0:                                               # verificando se o valor é par \n",
    "        print('Par')\n",
    "        if resultado>=0:                                                 # varificando se o valor é positivo.\n",
    "            print('Valor é positivo')\n",
    "            if round(resultado)>resultado or round(resultado)<resultado: #  verificando se o valor decimal ou inteiro. \n",
    "                print('Numero decimal')\n",
    "            else: \n",
    "                print('Numero inteiro')\n",
    "        else:\n",
    "            print('Valor é negativo')\n",
    "    elif resultado>0 and resultado<1:\n",
    "        print ('Não é par nem impar')\n",
    "        if resultado>=0:                                                 # varificando se o valor é positivo.\n",
    "            print('Valor é positivo')\n",
    "            if round(resultado)>resultado or round(resultado)<resultado: #  verificando se o valor decimal ou inteiro. \n",
    "                print('Numero decimal')\n",
    "            else: \n",
    "                print('Numero inteiro')\n",
    "        else:\n",
    "            print('Valor é negativo')\n",
    "\n",
    "elif Desejo == 'Multiplicar' or Desejo == 'multiplicar':                 # operação que deseja.\n",
    "    resultado= numero1*numero2\n",
    "    print(resultado)\n",
    "    if resultado%2 == 1:                                                 # verificando se o valor é impar \n",
    "        print('Ímpar')\n",
    "        if resultado>=0:                                                 # varificando se o valor é positivo.\n",
    "            print('Valor é positivo')\n",
    "            if round(resultado)>resultado or round(resultado)<resultado: #  verificando se o valor decimal ou inteiro. \n",
    "                print('Numero decimal')\n",
    "            else: \n",
    "                print('Numero inteiro')\n",
    "        else:\n",
    "            print('Valor é negativo')   \n",
    "    elif resultado%2 == 0:                                               # verificando se o valor é par \n",
    "        print('Par')\n",
    "        if resultado>=0:                                                 # varificando se o valor é positivo.\n",
    "            print('Valor é positivo')\n",
    "            if round(resultado)>resultado or round(resultado)<resultado: #  verificando se o valor decimal ou inteiro. \n",
    "                print('Numero decimal')\n",
    "            else: \n",
    "                print('Numero inteiro')\n",
    "        else:\n",
    "            print('Valor é negativo')\n",
    "    elif resultado>0 and resultado<1:\n",
    "        print ('Não é par nem impar')\n",
    "        if resultado>=0:                                                 # varificando se o valor é positivo.\n",
    "            print('Valor é positivo')\n",
    "            if round(resultado)>resultado or round(resultado)<resultado: #  verificando se o valor decimal ou inteiro. \n",
    "                print('Numero decimal')\n",
    "            else: \n",
    "                print('Numero inteiro')\n",
    "        else:\n",
    "            print('Valor é negativo')\n",
    "\n",
    "elif Desejo == 'Dividir' or Desejo == 'dividir':                 # operação que deseja.\n",
    "    resultado= numero1/numero2\n",
    "    print(resultado)\n",
    "    if resultado%2 == 1:                                                 # verificando se o valor é impar \n",
    "        print('Ímpar')\n",
    "        if resultado>=0:                                                 # varificando se o valor é positivo.\n",
    "            print('Valor é positivo')\n",
    "            if round(resultado)>resultado or round(resultado)<resultado: #  verificando se o valor decimal ou inteiro. \n",
    "                print('Numero decimal')\n",
    "            else: \n",
    "                print('Numero inteiro')\n",
    "        else:\n",
    "            print('Valor é negativo')   \n",
    "    elif resultado%2 == 0:                                               # verificando se o valor é par \n",
    "        print('Par')\n",
    "        if resultado>=0:                                                 # varificando se o valor é positivo.\n",
    "            print('Valor é positivo')\n",
    "            if round(resultado)>resultado or round(resultado)<resultado: #  verificando se o valor decimal ou inteiro. \n",
    "                print('Numero decimal')\n",
    "            else: \n",
    "                print('Numero inteiro')\n",
    "        else:\n",
    "            print('Valor é negativo')\n",
    "    elif resultado>0 and resultado<1:\n",
    "        print ('Não é par nem impar')\n",
    "        if resultado>=0:                                                 # varificando se o valor é positivo.\n",
    "            print('Valor é positivo')\n",
    "            if round(resultado)>resultado or round(resultado)<resultado: #  verificando se o valor decimal ou inteiro. \n",
    "                print('Numero decimal')\n",
    "            else: \n",
    "                print('Numero inteiro')\n",
    "        else:\n",
    "            print('Valor é negativo')\n",
    "        \n",
    "else:\n",
    "    print('Valor inválido')\n",
    "    \n",
    "    \n",
    "\n"
   ]
  },
  {
   "cell_type": "code",
   "execution_count": 30,
   "id": "c62d7568-c68d-4fc6-8e91-7a70369b9f31",
   "metadata": {},
   "outputs": [
    {
     "name": "stdout",
     "output_type": "stream",
     "text": [
      "responda somento com sim ou não\n"
     ]
    },
    {
     "name": "stdin",
     "output_type": "stream",
     "text": [
      "Telefonou para a vítima? não\n",
      "Esteve no local do crime? não\n",
      "Mora perto da vítima? não\n",
      "Devia para a vítima? não\n",
      "Já trabalhou com a vítima? sim\n"
     ]
    },
    {
     "name": "stdout",
     "output_type": "stream",
     "text": [
      "inocente\n"
     ]
    }
   ],
   "source": [
    "'''Faça um programa que faça 5 perguntas para uma pessoa sobre um crime. As perguntas são:\n",
    "\"Telefonou para a vítima?\"\n",
    "\"Esteve no local do crime?\"\n",
    "\"Mora perto da vítima?\"\n",
    "\"Devia para a vítima?\"\n",
    "\"Já trabalhou com a vítima?\" O programa deve no final emitir uma classificação sobre a participação da pessoa no crime. \n",
    "Se a pessoa responder positivamente a 2 questões ela deve ser classificada como \"Suspeita\", entre 3 e 4 como \"Cúmplice\" e 5 como \"Assassino\". Caso contrário, ele será classificado como \"Inocente\".'''\n",
    "\n",
    "print('responda somento com sim ou não')\n",
    "pergunta1= input('Telefonou para a vítima?')\n",
    "pergunta2= input('Esteve no local do crime?')\n",
    "pergunta3= input('Mora perto da vítima?')\n",
    "pergunta4= input('Devia para a vítima?')\n",
    "pergunta5= input('Já trabalhou com a vítima?')\n",
    "\n",
    "\n",
    "if pergunta1 == 'sim' and pergunta2 == 'sim' and pergunta3 == 'sim' and pergunta4 == 'sim' and pergunta5 == 'sim': \n",
    "    print('Classificação: 5')\n",
    "    print('Assasino')\n",
    "elif pergunta1=='não' and pergunta2=='sim' and pergunta3=='sim' and pergunta4=='sim' and pergunta5=='sim': \n",
    "    print('Classificação: 4')\n",
    "    print('Cumplice')\n",
    "elif pergunta1=='sim' and pergunta2=='não' and pergunta3=='sim' and pergunta4=='sim' and pergunta5=='sim': \n",
    "    print('Classificação: 4')\n",
    "    print('Cumplice')\n",
    "elif pergunta1=='sim' and pergunta2=='sim' and pergunta3=='não' and pergunta4=='sim' and pergunta5=='sim': \n",
    "    print('Classificação: 4')\n",
    "    print('Cumplice')\n",
    "elif pergunta1=='sim' and pergunta2=='sim' and pergunta3=='sim' and pergunta4=='não' and pergunta5=='sim': \n",
    "    print('Classificação: 4')\n",
    "    print('Cumplice')\n",
    "elif pergunta1=='sim' and pergunta2=='sim' and pergunta3=='sim' and pergunta4=='sim' and pergunta5=='não': \n",
    "    print('Classificação: 4')\n",
    "    print('Cumplice')\n",
    "elif pergunta1=='não' and pergunta2=='não' and pergunta3=='sim' and pergunta4=='sim' and pergunta5=='sim': \n",
    "    print('Classificação: 3')\n",
    "    print('Cumplice')\n",
    "elif pergunta1=='não' and pergunta2=='sim' and pergunta3=='não' and pergunta4=='sim' and pergunta5=='sim': \n",
    "    print('Classificação: 3')\n",
    "    print('Cumplice')\n",
    "elif pergunta1=='não' and pergunta2=='sim' and pergunta3=='sim' and pergunta4=='não' and pergunta5=='sim': \n",
    "    print('Classificação: 3')\n",
    "    print('Cumplice')\n",
    "elif pergunta1=='não' and pergunta2=='sim' and pergunta3=='sim' and pergunta4=='sim' and pergunta5=='não': \n",
    "    print('Classificação: 3')\n",
    "    print('Cumplice')\n",
    "elif pergunta1=='sim' and pergunta2=='não' and pergunta3=='não' and pergunta4=='sim' and pergunta5=='sim': \n",
    "    print('Classificação: 3')\n",
    "    print('Cumplice')\n",
    "elif pergunta1=='sim' and pergunta2=='não' and pergunta3=='sim' and pergunta4=='não' and pergunta5=='sim': \n",
    "    print('Classificação: 3')\n",
    "    print('Cumplice')\n",
    "elif pergunta1=='sim' and pergunta2=='não' and pergunta3=='sim' and pergunta4=='sim' and pergunta5=='não': \n",
    "    print('Classificação: 3')\n",
    "    print('Cumplice')\n",
    "elif pergunta1=='sim' and pergunta2=='sim' and pergunta3=='não' and pergunta4=='não' and pergunta5=='sim': \n",
    "    print('Classificação: 3')\n",
    "    print('Cumplice')\n",
    "elif pergunta1=='sim' and pergunta2=='sim' and pergunta3=='não' and pergunta4=='sim' and pergunta5=='não': \n",
    "    print('Classificação: 3')\n",
    "    print('Cumplice') \n",
    "elif pergunta1=='sim' and pergunta2=='sim' and pergunta3=='sim' and pergunta4=='não' and pergunta5=='não': \n",
    "    print('Classificação: 3')\n",
    "    print('Cumplice')       \n",
    "elif pergunta1=='não' and pergunta2=='não' and pergunta3=='não' and pergunta4=='sim' and pergunta5=='sim': \n",
    "    print('Classificação: 2')\n",
    "    print('Suspeito')\n",
    "elif pergunta1=='não' and pergunta2=='sim' and pergunta3=='não' and pergunta4=='não' and pergunta5=='sim': \n",
    "    print('Classificação: 2')\n",
    "    print('Suspeito')\n",
    "elif pergunta1=='não' and pergunta2=='sim' and pergunta3=='sim' and pergunta4=='não' and pergunta5=='não': \n",
    "    print('Classificação: 2')\n",
    "    print('Suspeito')          \n",
    "elif pergunta1=='sim' and pergunta2=='não' and pergunta3=='não' and pergunta4=='não' and pergunta5=='sim': \n",
    "    print('Classificação: 2')\n",
    "    print('Suspeito') \n",
    "elif pergunta1=='sim' and pergunta2=='não' and pergunta3=='sim' and pergunta4=='não' and pergunta5=='não': \n",
    "    print('Classificação: 2')\n",
    "    print('Suspeito')\n",
    "\n",
    "elif pergunta1=='sim' and pergunta2=='sim' and pergunta3=='não' and pergunta4=='não' and pergunta5=='não': \n",
    "    print('Classificação: 2')\n",
    "    print('Suspeito')                \n",
    "else:\n",
    "    print('inocente')\n",
    "          \n",
    "          \n",
    "          \n",
    "          \n",
    "          \n",
    "          \n",
    "          \n",
    "          \n",
    "            \n",
    "          \n",
    "          \n",
    "          \n",
    "          \n",
    "          "
   ]
  },
  {
   "cell_type": "code",
   "execution_count": 3,
   "id": "d3f20682-6fd0-41ea-a8c8-dc67fa657a7e",
   "metadata": {},
   "outputs": [
    {
     "name": "stdin",
     "output_type": "stream",
     "text": [
      "Me informe o tipo de combustivel A-álcool, G-gasolina G\n",
      "Me informe a quantidade de litros 10\n"
     ]
    },
    {
     "name": "stdout",
     "output_type": "stream",
     "text": [
      "Valor a ser pago aplicando o desconto de 4 porcento ao litro é de: 24.0 $\n"
     ]
    }
   ],
   "source": [
    "'''Um posto está vendendo combustíveis com a seguinte tabela de descontos:\n",
    "Álcool:\n",
    "até 20 litros, desconto de 3% por litro\n",
    "acima de 20 litros, desconto de 5% por litro\n",
    "Gasolina:\n",
    "até 20 litros, desconto de 4% por litro\n",
    "acima de 20 litros, desconto de 6% por litro \n",
    "\n",
    "Escreva um algoritmo que leia o número de litros vendidos, o tipo de combustível (codificado da seguinte forma: A-álcool, G-gasolina)\n",
    "calcule e imprima o valor a ser pago pelo cliente sabendo-se que o preço do litro da gasolina é R$ 2,50 o preço do litro do álcool é R$ 1,90.'''\n",
    "\n",
    "\n",
    "tipo= input('Me informe o tipo de combustivel A-álcool, G-gasolina')\n",
    "\n",
    "if tipo[0] == 'A': \n",
    "    \n",
    "    litros = float(input('Me informe a quantidade de litros'))\n",
    "    if litros <= 20: \n",
    "        valor= 1.90*0.97\n",
    "        pagamento= valor*litros\n",
    "        print('Valor a ser pago aplicando o desconto de 3 porcento ao litro é de:',pagamento,'$')\n",
    "    elif litros >= 20: \n",
    "        valor=1.90*0.95\n",
    "        pagamento= valor*litros\n",
    "        print('Valor a ser pago aplicando o desconto de 5 porcento ao litro é de:',pagamento,'$')\n",
    "    else: \n",
    "        print('Valor inválido')\n",
    "\n",
    "elif tipo[0] == 'G':\n",
    "    litros = float(input('Me informe a quantidade de litros'))\n",
    "    if litros <= 20: \n",
    "        valor= 2.5*0.96\n",
    "        pagamento= valor*litros\n",
    "        print('Valor a ser pago aplicando o desconto de 4 porcento ao litro é de:',pagamento,'$')\n",
    "    elif litros >= 20: \n",
    "        valor=2.5*0.94\n",
    "        pagamento= valor*litros\n",
    "        print('Valor a ser pago aplicando o desconto de 6 porcento ao litro é de:',pagamento,'$')\n",
    "    else: \n",
    "        print('Valor inválido')\n",
    "\n",
    "else: \n",
    "        print('Letra inválida')\n",
    "        \n",
    "    \n",
    "\n",
    "\n",
    "\n",
    "\n",
    "\n",
    "\n",
    "\n",
    "\n",
    "\n",
    "\n",
    "\n",
    "\n",
    "\n",
    "\n",
    "\n",
    "\n",
    "\n",
    "\n",
    "\n",
    "\n",
    "\n"
   ]
  },
  {
   "cell_type": "code",
   "execution_count": 8,
   "id": "21202759-9d71-4bcd-8e17-a57ba0fb0837",
   "metadata": {},
   "outputs": [
    {
     "name": "stdin",
     "output_type": "stream",
     "text": [
      " Me informe a quantida de morangos comprados 10\n",
      " Me informe a quantida de maçãs compradas 10\n"
     ]
    },
    {
     "name": "stdout",
     "output_type": "stream",
     "text": [
      "O valor a ser pago é 33.300000000000004\n"
     ]
    }
   ],
   "source": [
    "'''Uma fruteira está vendendo frutas com a seguinte tabela de preços:\n",
    "                      Até 5 Kg           Acima de 5 Kg\n",
    "Morango         R$ 2,50 por Kg          R$ 2,20 por Kg\n",
    "Maçã            R$ 1,80 por Kg          R$ 1,50 por Kg\n",
    "Se o cliente comprar mais de 8 Kg em frutas ou o valor total da compra ultrapassar R$ 25,00, receberá ainda um desconto de 10% sobre este total.\n",
    "Escreva um algoritmo para ler a quantidade (em Kg) de morangos e a quantidade (em Kg) de maças adquiridas e escreva o valor a ser pago pelo cliente.'''\n",
    "\n",
    "\n",
    "qmorangos=float(input(' Me informe a quantida de morangos comprados'))\n",
    "qmaca=float(input(' Me informe a quantida de maçãs compradas'))\n",
    "\n",
    "totalkg= qmorangos+qmaca\n",
    "\n",
    "if qmorangos<=5:\n",
    "    valor1=qmorangos*2.5\n",
    "elif qmorangos>=5:\n",
    "    valor1=qmorangos*2.2\n",
    "\n",
    "\n",
    "if qmaca<=5:\n",
    "    valor2=qmaca*1.80\n",
    "elif qmaca>=5:\n",
    "    valor2=qmaca*1.50\n",
    "\n",
    "\n",
    "pag=(valor1+valor2)\n",
    "\n",
    "if pag>25 or totalkg>8:\n",
    "    pag=(valor1+valor2)*0.9\n",
    "    print('O valor a ser pago é',pag)\n",
    "else:\n",
    "    print('O valor a ser pago é',pag)\n",
    "    \n",
    "\n",
    "\n",
    "\n",
    "\n",
    "\n",
    "\n",
    "\n",
    "\n",
    "\n",
    "\n",
    "\n",
    "\n",
    "\n",
    "\n",
    "\n",
    "\n",
    "\n",
    "\n"
   ]
  },
  {
   "cell_type": "code",
   "execution_count": 18,
   "id": "4ad662c5-2fcb-4ef5-b8f5-40d9a2f275c7",
   "metadata": {},
   "outputs": [
    {
     "name": "stdin",
     "output_type": "stream",
     "text": [
      "Me informe o tipo de carne que vai levar:File Duplo, Alcatra ou Picanha? File \n",
      "Me informe o tipo do seu cartão: Comum ou Tabajara? Comum\n",
      "Me informe a quantidade 10\n"
     ]
    },
    {
     "name": "stdout",
     "output_type": "stream",
     "text": [
      "Tipo de carne: File \n",
      "Preço total: 58.0 $\n",
      "Tipo de pagamento: Comum\n",
      "Desconto:0\n",
      "Valor a pagar: 58.0\n"
     ]
    }
   ],
   "source": [
    "'''O Hipermercado Tabajara está com uma promoção de carnes que é imperdível. Confira:\n",
    "                      Até 5 Kg           Acima de 5 Kg\n",
    "File Duplo      R$ 4,90 por Kg          R$ 5,80 por Kg\n",
    "Alcatra         R$ 5,90 por Kg          R$ 6,80 por Kg\n",
    "Picanha         R$ 6,90 por Kg          R$ 7,80 por Kg\n",
    "Para atender a todos os clientes, cada cliente poderá levar apenas um dos tipos de carne da promoção, porém não há limites para a quantidade de carne por cliente.\n",
    "Se compra for feita no cartão Tabajara o cliente receberá ainda um desconto de 5% sobre o total da compra. \n",
    "Escreva um programa que peça o tipo e a quantidade de carne comprada pelo usuário e gere um cupom fiscal, contendo as informações da compra: tipo e quantidade de carne, preço total, tipo de pagamento,\n",
    "valor do desconto e valor a pagar.'''\n",
    "\n",
    "tipo=input('Me informe o tipo de carne que vai levar:File Duplo, Alcatra ou Picanha?')\n",
    "cartao= input('Me informe o tipo do seu cartão: Comum ou Tabajara?')\n",
    "quantidade= float(input('Me informe a quantidade'))\n",
    "\n",
    "if tipo[0]=='F'and cartao=='Comum':\n",
    "    \n",
    "    if quantidade<=5:\n",
    "        valor1=quantidade*4.9\n",
    "        print('Tipo de carne:',tipo)\n",
    "        print('Preço total:',valor1,'$')\n",
    "        print('Tipo de pagamento:', cartao)\n",
    "        print('Desconto:0')\n",
    "        print('Valor a pagar:',valor1)\n",
    "    else:\n",
    "        valor1=quantidade*5.8\n",
    "        print('Tipo de carne:',tipo)\n",
    "        print('Preço total:',valor1,'$')\n",
    "        print('Tipo de pagamento:', cartao)\n",
    "        print('Desconto:0')\n",
    "        print('Valor a pagar:',valor1)\n",
    "    \n",
    "elif tipo[0]=='A'and cartao=='Comum':\n",
    "    \n",
    "    if quantidade<=5:\n",
    "        valor1=quantidade*5.9\n",
    "        print('Tipo de carne:',tipo)\n",
    "        print('Preço total:',valor1,'$')\n",
    "        print('Tipo de pagamento:', cartao)\n",
    "        print('Desconto:0')\n",
    "        print('Valor a pagar:',valor1)\n",
    "    else:\n",
    "        valor1=quantidade*6.8\n",
    "        print('Tipo de carne:',tipo)\n",
    "        print('Preço total:',valor1,'$')\n",
    "        print('Tipo de pagamento:', cartao)\n",
    "        print('Desconto:0')\n",
    "        print('Valor a pagar:',valor1,'$')\n",
    "\n",
    "elif tipo[0]=='P'and cartao=='Comum':\n",
    "    \n",
    "    if quantidade<=5:\n",
    "        valor1=quantidade*6.9\n",
    "        print('Tipo de carne:',tipo)\n",
    "        print('Preço total:',valor1,'$')\n",
    "        print('Tipo de pagamento:', cartao)\n",
    "        print('Desconto:0')\n",
    "        print('Valor a pagar:',valor1)\n",
    "    else:\n",
    "        valor1=quantidade*7.8\n",
    "        print('Tipo de carne:',tipo)\n",
    "        print('Preço total:',valor1,'$')\n",
    "        print('Tipo de pagamento:', cartao)\n",
    "        print('Desconto:0')\n",
    "        print('Valor a pagar:',valor1,'$')\n",
    "        \n",
    "        \n",
    "    \n",
    "if tipo[0]=='F'and cartao=='Tabajara':\n",
    "    \n",
    "    if quantidade<=5:\n",
    "        valor1=(quantidade*4.9)*0.95\n",
    "        print('Tipo de carne:',tipo)\n",
    "        print('Preço total:',valor1,'$')\n",
    "        print('Tipo de pagamento:', cartao)\n",
    "        print('Desconto:5%')\n",
    "        print('Valor a pagar:',valor1)\n",
    "    else:\n",
    "        valor1=(quantidade*5.8)*0.95\n",
    "        print('Tipo de carne:',tipo)\n",
    "        print('Preço total:',valor1,'$')\n",
    "        print('Tipo de pagamento:', cartao)\n",
    "        print('Desconto:5%')\n",
    "        print('Valor a pagar:',valor1)\n",
    "\n",
    "        \n",
    "elif tipo[0]=='A'and cartao=='Tabajara':\n",
    "    \n",
    "    if quantidade<=5:\n",
    "        valor1=(quantidade*5.9)*0.95\n",
    "        print('Tipo de carne:',tipo)\n",
    "        print('Preço total:',valor1,'$')\n",
    "        print('Tipo de pagamento:', cartao)\n",
    "        print('Desconto:5%')\n",
    "        print('Valor a pagar:',valor1)\n",
    "    else:\n",
    "        valor1=(quantidade*6.8)*0.95\n",
    "        print('Tipo de carne:',tipo)\n",
    "        print('Preço total:',valor1,'$')\n",
    "        print('Tipo de pagamento:', cartao)\n",
    "        print('Desconto:5%')\n",
    "        print('Valor a pagar:',valor1)\n",
    "        \n",
    "elif tipo[0]=='P'and cartao=='Tabajara':\n",
    "    \n",
    "    if quantidade<=5:\n",
    "        valor1=(quantidade*6.9)*0.95\n",
    "        print('Tipo de carne:',tipo)\n",
    "        print('Preço total:',valor1,'$')\n",
    "        print('Tipo de pagamento:', cartao)\n",
    "        print('Desconto:5%')\n",
    "        print('Valor a pagar:',valor1)\n",
    "    else:\n",
    "        valor1=(quantidade*7.8)*0.95\n",
    "        print('Tipo de carne:',tipo)\n",
    "        print('Preço total:',valor1,'$')\n",
    "        print('Tipo de pagamento:', cartao)\n",
    "        print('Desconto:5%')\n",
    "        print('Valor a pagar:',valor1)\n",
    "    \n",
    "\n",
    "\n",
    "\n",
    "\n",
    "\n"
   ]
  },
  {
   "cell_type": "code",
   "execution_count": null,
   "id": "237bd14b-4aad-4a0d-9c82-662439659a34",
   "metadata": {},
   "outputs": [],
   "source": []
  }
 ],
 "metadata": {
  "kernelspec": {
   "display_name": "Python 3 (ipykernel)",
   "language": "python",
   "name": "python3"
  },
  "language_info": {
   "codemirror_mode": {
    "name": "ipython",
    "version": 3
   },
   "file_extension": ".py",
   "mimetype": "text/x-python",
   "name": "python",
   "nbconvert_exporter": "python",
   "pygments_lexer": "ipython3",
   "version": "3.10.9"
  }
 },
 "nbformat": 4,
 "nbformat_minor": 5
}
